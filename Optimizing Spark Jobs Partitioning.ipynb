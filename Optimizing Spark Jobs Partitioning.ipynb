{
 "cells": [
  {
   "cell_type": "code",
   "execution_count": 0,
   "metadata": {
    "application/vnd.databricks.v1+cell": {
     "cellMetadata": {
      "byteLimit": 2048000,
      "rowLimit": 10000
     },
     "inputWidgets": {},
     "nuid": "78548331-1613-47e3-a41b-e04469b4745c",
     "showTitle": false,
     "tableResultSettingsMap": {},
     "title": ""
    }
   },
   "outputs": [],
   "source": [
    "%python\n",
    "df = spark.read.csv('dbfs:/FileStore/tables/SalesTeam-6.csv',header=True,inferSchema=True)"
   ]
  },
  {
   "cell_type": "code",
   "execution_count": 0,
   "metadata": {
    "application/vnd.databricks.v1+cell": {
     "cellMetadata": {
      "byteLimit": 2048000,
      "rowLimit": 10000
     },
     "inputWidgets": {},
     "nuid": "3c4887b6-3b6a-4068-b045-ee9af5bd0360",
     "showTitle": false,
     "tableResultSettingsMap": {},
     "title": ""
    }
   },
   "outputs": [
    {
     "output_type": "stream",
     "name": "stdout",
     "output_type": "stream",
     "text": [
      "root\n |-- Sales Rep: string (nullable = true)\n |-- Sales Rep Id: string (nullable = true)\n |-- Company Name: string (nullable = true)\n |-- Company Id: string (nullable = true)\n\n"
     ]
    }
   ],
   "source": [
    "%python\n",
    "df.printSchema()"
   ]
  },
  {
   "cell_type": "code",
   "execution_count": 0,
   "metadata": {
    "application/vnd.databricks.v1+cell": {
     "cellMetadata": {
      "byteLimit": 2048000,
      "rowLimit": 10000
     },
     "inputWidgets": {},
     "nuid": "2fb6268c-3cad-4bf6-82ee-01d547c5d509",
     "showTitle": false,
     "tableResultSettingsMap": {},
     "title": ""
    }
   },
   "outputs": [
    {
     "output_type": "stream",
     "name": "stdout",
     "output_type": "stream",
     "text": [
      "+-------+---------------+----------------+----------------+----------------+\n|summary|      Sales Rep|    Sales Rep Id|    Company Name|      Company Id|\n+-------+---------------+----------------+----------------+----------------+\n|  count|           4725|            4725|            4725|            4725|\n|   mean|           null|            null|            null|            null|\n| stddev|           null|            null|            null|            null|\n|    min|     Ada Pappas|05USHZ7BLRS3JV37|       '48 Wills|007RF0BCBVMXTL80|\n|    max|Yolanda Decarlo|ZWT68Z5JHHDHQKRJ|Zodiacal Roberts|ZZYB9JLJKXRH7U6O|\n+-------+---------------+----------------+----------------+----------------+\n\n"
     ]
    }
   ],
   "source": [
    "%python\n",
    "df.describe().show()"
   ]
  },
  {
   "cell_type": "code",
   "execution_count": 0,
   "metadata": {
    "application/vnd.databricks.v1+cell": {
     "cellMetadata": {
      "byteLimit": 2048000,
      "rowLimit": 10000
     },
     "inputWidgets": {},
     "nuid": "4cc40b5d-7515-4190-9dfc-127358e3f4f0",
     "showTitle": false,
     "tableResultSettingsMap": {},
     "title": ""
    }
   },
   "outputs": [],
   "source": [
    "df = (\n",
    "    df\n",
    "    .withColumnRenamed(\"Company Name\", \"Company_Name\")\n",
    "    .withColumnRenamed(\"Company Id\", \"Company_Id\")\n",
    ")"
   ]
  },
  {
   "cell_type": "code",
   "execution_count": 0,
   "metadata": {
    "application/vnd.databricks.v1+cell": {
     "cellMetadata": {
      "byteLimit": 2048000,
      "rowLimit": 10000
     },
     "inputWidgets": {},
     "nuid": "d7a6bef7-b5c9-4bdc-8fd4-927fc962e349",
     "showTitle": false,
     "tableResultSettingsMap": {},
     "title": ""
    }
   },
   "outputs": [
    {
     "output_type": "stream",
     "name": "stdout",
     "output_type": "stream",
     "text": [
      "+-----------------+----------------+--------------------+----------------+\n|        Sales Rep|    Sales Rep Id|        Company_Name|      Company_Id|\n+-----------------+----------------+--------------------+----------------+\n|Jessie Mcallister|97UNNAT790E0WM4N|Chimera-Chasing C...|LJKS5NK6788CYMUU|\n|Jessie Mcallister|97UNNAT790E0WM4N|    Tangential Sheds|36MFTZOYMTAJP1RK|\n|Jessie Mcallister|97UNNAT790E0WM4N|       Two-Mile Grab|H3JRC7XX7WJAD4ZO|\n|Jessie Mcallister|97UNNAT790E0WM4N|Three-Men-And-A-H...|HB25MDZR0MGCQUGX|\n|Jessie Mcallister|97UNNAT790E0WM4N|Biophysical Battl...|7RVA8TIVBLBXMNO4|\n|Jessie Mcallister|97UNNAT790E0WM4N|    Verbal Greenwich|KKM6EZRN9W5NYXP6|\n|Jessie Mcallister|97UNNAT790E0WM4N|Unpremeditated He...|NBJDWUB8J2DHLH29|\n|Jessie Mcallister|97UNNAT790E0WM4N|    Excitatory Joint|D3Q0HECTK80RRGGO|\n|Jessie Mcallister|97UNNAT790E0WM4N|          Dandy Fist|KGJBNJQHPF0WZ6SI|\n|Jessie Mcallister|97UNNAT790E0WM4N|      Various Caesar|7FLAHMERFCITB6RT|\n|Jessie Mcallister|97UNNAT790E0WM4N|Unhesitant Caperc...|JYRK7UHZXGX4DLSX|\n|Jessie Mcallister|97UNNAT790E0WM4N|Priestly Item-Cat...|TAW7IY2L2IKUCCGC|\n|Jessie Mcallister|97UNNAT790E0WM4N|Paleocortical Boa...|NUQS9SHQH6IU92V8|\n|Jessie Mcallister|97UNNAT790E0WM4N|Editorial Paintbrush|PQ79N68UEQ9FFCPU|\n|Jessie Mcallister|97UNNAT790E0WM4N|       Victorian Aim|93DU98KT3NZCOW58|\n|Jessie Mcallister|97UNNAT790E0WM4N|     Atune Endowment|HYENPHTT6GZ7O2WY|\n|Jessie Mcallister|97UNNAT790E0WM4N| Industrial Opinions|BQMPJF0W2Z2E0PEW|\n|Jessie Mcallister|97UNNAT790E0WM4N|        Regional Art|R7ID6873ITH6GCLJ|\n|      Lois Bowers|RRD2R9XMAJDP7TUY|Fantastic Re-Enac...|W2X6NP1JBOKWCO33|\n|      Lois Bowers|RRD2R9XMAJDP7TUY|Infamous Inoculation|D459BZ8Z7N1KAFGU|\n+-----------------+----------------+--------------------+----------------+\nonly showing top 20 rows\n\n"
     ]
    }
   ],
   "source": [
    "df.show()"
   ]
  },
  {
   "cell_type": "code",
   "execution_count": 0,
   "metadata": {
    "application/vnd.databricks.v1+cell": {
     "cellMetadata": {
      "byteLimit": 2048000,
      "rowLimit": 10000
     },
     "inputWidgets": {},
     "nuid": "105569d7-ef82-4380-996b-31a031829515",
     "showTitle": false,
     "tableResultSettingsMap": {},
     "title": ""
    }
   },
   "outputs": [
    {
     "output_type": "display_data",
     "data": {
      "text/html": [
       "<style scoped>\n",
       "  .ansiout {\n",
       "    display: block;\n",
       "    unicode-bidi: embed;\n",
       "    white-space: pre-wrap;\n",
       "    word-wrap: break-word;\n",
       "    word-break: break-all;\n",
       "    font-family: \"Menlo\", \"Monaco\", \"Consolas\", \"Ubuntu Mono\", \"Source Code Pro\", monospace;\n",
       "    font-size: 13px;\n",
       "    color: #555;\n",
       "    margin-left: 4px;\n",
       "    line-height: 19px;\n",
       "  }\n",
       "</style>"
      ]
     },
     "metadata": {
      "application/vnd.databricks.v1+output": {
       "arguments": {},
       "data": "",
       "errorSummary": "Cancelled",
       "errorTraceType": "html",
       "metadata": {},
       "type": "ipynbError"
      }
     },
     "output_type": "display_data"
    }
   ],
   "source": [
    "# partitioning df by company id\n",
    "# single level partition\n",
    "# it may take a long time to create partitions \n",
    "(\n",
    "    df\n",
    "    .write\n",
    "    .partitionBy(\"Company Name\") # partitioning dataset on the basis of company id\n",
    "    .mode(\"overwrite\")\n",
    "    .parquet('/FileStore/tables/partitioned_df2') # saving partitioned file in file store\n",
    ")"
   ]
  },
  {
   "cell_type": "code",
   "execution_count": 0,
   "metadata": {
    "application/vnd.databricks.v1+cell": {
     "cellMetadata": {
      "byteLimit": 2048000,
      "rowLimit": 10000
     },
     "inputWidgets": {},
     "nuid": "6f88b9ff-fa34-41f7-95ca-37c615093cb2",
     "showTitle": false,
     "tableResultSettingsMap": {},
     "title": ""
    }
   },
   "outputs": [],
   "source": [
    "df = spark.read.csv('dbfs:/FileStore/tables/SalesTeam-6.csv',header=True,inferSchema=True)"
   ]
  },
  {
   "cell_type": "code",
   "execution_count": 0,
   "metadata": {
    "application/vnd.databricks.v1+cell": {
     "cellMetadata": {
      "byteLimit": 2048000,
      "rowLimit": 10000
     },
     "inputWidgets": {},
     "nuid": "ef62da53-090d-4744-8558-3a9b0c927091",
     "showTitle": false,
     "tableResultSettingsMap": {},
     "title": ""
    }
   },
   "outputs": [
    {
     "output_type": "display_data",
     "data": {
      "text/html": [
       "<style scoped>\n",
       "  .ansiout {\n",
       "    display: block;\n",
       "    unicode-bidi: embed;\n",
       "    white-space: pre-wrap;\n",
       "    word-wrap: break-word;\n",
       "    word-break: break-all;\n",
       "    font-family: \"Menlo\", \"Monaco\", \"Consolas\", \"Ubuntu Mono\", \"Source Code Pro\", monospace;\n",
       "    font-size: 13px;\n",
       "    color: #555;\n",
       "    margin-left: 4px;\n",
       "    line-height: 19px;\n",
       "  }\n",
       "</style>"
      ]
     },
     "metadata": {
      "application/vnd.databricks.v1+output": {
       "arguments": {},
       "data": "",
       "errorSummary": "Cancelled",
       "errorTraceType": "html",
       "metadata": {},
       "type": "ipynbError"
      }
     },
     "output_type": "display_data"
    }
   ],
   "source": [
    "# multi level partition\n",
    " \n",
    "(df\n",
    " .write\n",
    " .mode(\"overwrite\")\n",
    " .partitionBy(\"Sales Rep\",\"Company Name\") # multilevel partitioning\n",
    " .parquet('/FileStore/tables/multilevel_partition_df')\n",
    " )"
   ]
  },
  {
   "cell_type": "markdown",
   "metadata": {
    "application/vnd.databricks.v1+cell": {
     "cellMetadata": {},
     "inputWidgets": {},
     "nuid": "6d1be138-e775-40cb-be17-a28c6fdc18d6",
     "showTitle": false,
     "tableResultSettingsMap": {},
     "title": ""
    }
   },
   "source": [
    "repartition/coalesce with partionBy to control the number of partition\n"
   ]
  },
  {
   "cell_type": "code",
   "execution_count": 0,
   "metadata": {
    "application/vnd.databricks.v1+cell": {
     "cellMetadata": {
      "byteLimit": 2048000,
      "rowLimit": 10000
     },
     "inputWidgets": {},
     "nuid": "23128b20-bb76-41f2-9d13-616e79e3aacd",
     "showTitle": false,
     "tableResultSettingsMap": {},
     "title": ""
    }
   },
   "outputs": [],
   "source": [
    "(df\n",
    " .repartition(3)\n",
    " .write\n",
    " .mode(\"overwrite\")\n",
    " .partitionBy(\"Sales Rep\")\n",
    " .parquet(\"/FileStore/tables/repartition_df\")\n",
    " )"
   ]
  },
  {
   "cell_type": "code",
   "execution_count": 0,
   "metadata": {
    "application/vnd.databricks.v1+cell": {
     "cellMetadata": {
      "byteLimit": 2048000,
      "rowLimit": 10000
     },
     "inputWidgets": {},
     "nuid": "c4b8609e-c415-4b58-bfab-dcc7b4729b68",
     "showTitle": false,
     "tableResultSettingsMap": {},
     "title": ""
    }
   },
   "outputs": [],
   "source": [
    "(df\n",
    " .coalesce(3)\n",
    " .write\n",
    " .mode(\"overwrite\")\n",
    " .partitionBy(\"Sales Rep\")\n",
    " .parquet(\"/FileStore/tables/coalesce_df\")\n",
    " )"
   ]
  },
  {
   "cell_type": "markdown",
   "metadata": {
    "application/vnd.databricks.v1+cell": {
     "cellMetadata": {},
     "inputWidgets": {},
     "nuid": "64d7aa2a-aa2e-488d-aa0c-36396d4f8a94",
     "showTitle": false,
     "tableResultSettingsMap": {},
     "title": ""
    }
   },
   "source": [
    "spark.sql.files.maxPartitionBytes"
   ]
  },
  {
   "cell_type": "code",
   "execution_count": 0,
   "metadata": {
    "application/vnd.databricks.v1+cell": {
     "cellMetadata": {
      "byteLimit": 2048000,
      "rowLimit": 10000
     },
     "inputWidgets": {},
     "nuid": "f063e2bc-07c7-49bb-be80-1ef1fa4eece8",
     "showTitle": false,
     "tableResultSettingsMap": {},
     "title": ""
    }
   },
   "outputs": [
    {
     "output_type": "stream",
     "name": "stdout",
     "output_type": "stream",
     "text": [
      "Number of partitions with default maxPartitionBytes: 1\n"
     ]
    }
   ],
   "source": [
    "# finding the default partition done by maxPartitionBytes\n",
    "df_default = spark.read.csv(\"dbfs:/FileStore/tables/SalesTeam-6.csv\", header=True, inferSchema=True)\n",
    "default_partitions = df_default.rdd.getNumPartitions()\n",
    "print(f\"Number of partitions with default maxPartitionBytes: {default_partitions}\")"
   ]
  },
  {
   "cell_type": "code",
   "execution_count": 0,
   "metadata": {
    "application/vnd.databricks.v1+cell": {
     "cellMetadata": {
      "byteLimit": 2048000,
      "rowLimit": 10000
     },
     "inputWidgets": {},
     "nuid": "caa3d652-ebfe-457a-afac-c0f09e7dc3b2",
     "showTitle": false,
     "tableResultSettingsMap": {},
     "title": ""
    }
   },
   "outputs": [
    {
     "output_type": "stream",
     "name": "stdout",
     "output_type": "stream",
     "text": [
      "Number of partitions with modified maxPartitionBytes: 322\n"
     ]
    }
   ],
   "source": [
    "spark.conf.set(\"spark.sql.files.maxPartitionBytes\", \"1000\")\n",
    "# partitoning df_modified in size of 1kb i.e. 1000 bytes\n",
    "df_modified = spark.read.csv(\"dbfs:/FileStore/tables/SalesTeam-6.csv\", header=True, inferSchema=True)\n",
    "modified_partitions = df_modified.rdd.getNumPartitions()\n",
    "print(f\"Number of partitions with modified maxPartitionBytes: {modified_partitions}\")"
   ]
  }
 ],
 "metadata": {
  "application/vnd.databricks.v1+notebook": {
   "computePreferences": null,
   "dashboards": [],
   "environmentMetadata": {
    "base_environment": "",
    "client": "1"
   },
   "language": "python",
   "notebookMetadata": {
    "pythonIndentUnit": 4
   },
   "notebookName": "Optimizing Spark Jobs Partitioning",
   "widgets": {}
  }
 },
 "nbformat": 4,
 "nbformat_minor": 0
}
