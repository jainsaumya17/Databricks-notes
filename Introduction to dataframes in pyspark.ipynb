{
 "cells": [
  {
   "cell_type": "code",
   "execution_count": 0,
   "metadata": {
    "application/vnd.databricks.v1+cell": {
     "cellMetadata": {
      "byteLimit": 2048000,
      "rowLimit": 10000
     },
     "inputWidgets": {},
     "nuid": "690f8f93-cc2e-4555-97a7-d5249fdea461",
     "showTitle": false,
     "tableResultSettingsMap": {},
     "title": ""
    }
   },
   "outputs": [],
   "source": [
    "# import pyspark\n",
    "# from pyspark.sql import SparkSession\n",
    "\n",
    "# spark = SparkSession.builder.appName('practice').getOrCreate()\n",
    "\n",
    "# # list of data \n",
    "data = [[1,\"A\"],[2,\"B\"],[3,\"C\"]]\n",
    "\n",
    "columns = [\"Roll no\",\"Name\"]\n",
    "\n",
    "dataframe = spark.createDataFrame(data,columns)\n"
   ]
  },
  {
   "cell_type": "code",
   "execution_count": 0,
   "metadata": {
    "application/vnd.databricks.v1+cell": {
     "cellMetadata": {
      "byteLimit": 2048000,
      "rowLimit": 10000
     },
     "inputWidgets": {},
     "nuid": "cbd90673-df27-49b9-8d13-19246409ff30",
     "showTitle": false,
     "tableResultSettingsMap": {},
     "title": ""
    }
   },
   "outputs": [
    {
     "output_type": "stream",
     "name": "stdout",
     "output_type": "stream",
     "text": [
      "+-------+----+\n|Roll no|Name|\n+-------+----+\n|      1|   A|\n|      2|   B|\n|      3|   C|\n+-------+----+\n\n"
     ]
    }
   ],
   "source": [
    "dataframe.show()"
   ]
  },
  {
   "cell_type": "code",
   "execution_count": 0,
   "metadata": {
    "application/vnd.databricks.v1+cell": {
     "cellMetadata": {
      "byteLimit": 2048000,
      "rowLimit": 10000
     },
     "inputWidgets": {},
     "nuid": "6b5b6bce-2a4c-4ce3-bfca-e55ab67562e1",
     "showTitle": false,
     "tableResultSettingsMap": {},
     "title": ""
    }
   },
   "outputs": [],
   "source": [
    "df = spark.read.csv('/FileStore/tables/SalesTeam-4.csv')"
   ]
  },
  {
   "cell_type": "markdown",
   "metadata": {
    "application/vnd.databricks.v1+cell": {
     "cellMetadata": {},
     "inputWidgets": {},
     "nuid": "f66499e7-09df-41a7-9cc5-c3a92e90eb4f",
     "showTitle": false,
     "tableResultSettingsMap": {},
     "title": ""
    }
   },
   "source": [
    "Basic operations on pySpark Dataframe"
   ]
  },
  {
   "cell_type": "code",
   "execution_count": 0,
   "metadata": {
    "application/vnd.databricks.v1+cell": {
     "cellMetadata": {
      "byteLimit": 2048000,
      "rowLimit": 10000
     },
     "inputWidgets": {},
     "nuid": "95e7d8d4-d592-4b31-93be-3cd39d2089ae",
     "showTitle": false,
     "tableResultSettingsMap": {},
     "title": ""
    }
   },
   "outputs": [
    {
     "output_type": "stream",
     "name": "stdout",
     "output_type": "stream",
     "text": [
      "+-----------------+----------------+--------------------+----------------+\n|              _c0|             _c1|                 _c2|             _c3|\n+-----------------+----------------+--------------------+----------------+\n|        Sales Rep|    Sales Rep Id|        Company Name|      Company Id|\n|Jessie Mcallister|97UNNAT790E0WM4N|Chimera-Chasing C...|LJKS5NK6788CYMUU|\n|Jessie Mcallister|97UNNAT790E0WM4N|    Tangential Sheds|36MFTZOYMTAJP1RK|\n|Jessie Mcallister|97UNNAT790E0WM4N|       Two-Mile Grab|H3JRC7XX7WJAD4ZO|\n|Jessie Mcallister|97UNNAT790E0WM4N|Three-Men-And-A-H...|HB25MDZR0MGCQUGX|\n|Jessie Mcallister|97UNNAT790E0WM4N|Biophysical Battl...|7RVA8TIVBLBXMNO4|\n|Jessie Mcallister|97UNNAT790E0WM4N|    Verbal Greenwich|KKM6EZRN9W5NYXP6|\n|Jessie Mcallister|97UNNAT790E0WM4N|Unpremeditated He...|NBJDWUB8J2DHLH29|\n|Jessie Mcallister|97UNNAT790E0WM4N|    Excitatory Joint|D3Q0HECTK80RRGGO|\n|Jessie Mcallister|97UNNAT790E0WM4N|          Dandy Fist|KGJBNJQHPF0WZ6SI|\n|Jessie Mcallister|97UNNAT790E0WM4N|      Various Caesar|7FLAHMERFCITB6RT|\n|Jessie Mcallister|97UNNAT790E0WM4N|Unhesitant Caperc...|JYRK7UHZXGX4DLSX|\n|Jessie Mcallister|97UNNAT790E0WM4N|Priestly Item-Cat...|TAW7IY2L2IKUCCGC|\n|Jessie Mcallister|97UNNAT790E0WM4N|Paleocortical Boa...|NUQS9SHQH6IU92V8|\n|Jessie Mcallister|97UNNAT790E0WM4N|Editorial Paintbrush|PQ79N68UEQ9FFCPU|\n|Jessie Mcallister|97UNNAT790E0WM4N|       Victorian Aim|93DU98KT3NZCOW58|\n|Jessie Mcallister|97UNNAT790E0WM4N|     Atune Endowment|HYENPHTT6GZ7O2WY|\n|Jessie Mcallister|97UNNAT790E0WM4N| Industrial Opinions|BQMPJF0W2Z2E0PEW|\n|Jessie Mcallister|97UNNAT790E0WM4N|        Regional Art|R7ID6873ITH6GCLJ|\n|      Lois Bowers|RRD2R9XMAJDP7TUY|Fantastic Re-Enac...|W2X6NP1JBOKWCO33|\n+-----------------+----------------+--------------------+----------------+\nonly showing top 20 rows\n\n"
     ]
    }
   ],
   "source": [
    "df.show()"
   ]
  },
  {
   "cell_type": "code",
   "execution_count": 0,
   "metadata": {
    "application/vnd.databricks.v1+cell": {
     "cellMetadata": {
      "byteLimit": 2048000,
      "rowLimit": 10000
     },
     "inputWidgets": {},
     "nuid": "749c0b11-aba5-42fb-add9-2aa015351e15",
     "showTitle": false,
     "tableResultSettingsMap": {},
     "title": ""
    }
   },
   "outputs": [
    {
     "output_type": "stream",
     "name": "stdout",
     "output_type": "stream",
     "text": [
      "Out[16]: Row(_c0='Sales Rep', _c1='Sales Rep Id', _c2='Company Name', _c3='Company Id')"
     ]
    }
   ],
   "source": [
    "df.head()"
   ]
  },
  {
   "cell_type": "code",
   "execution_count": 0,
   "metadata": {
    "application/vnd.databricks.v1+cell": {
     "cellMetadata": {
      "byteLimit": 2048000,
      "rowLimit": 10000
     },
     "inputWidgets": {},
     "nuid": "d68cfafe-423c-44f0-b778-f3a03b450a87",
     "showTitle": false,
     "tableResultSettingsMap": {},
     "title": ""
    }
   },
   "outputs": [
    {
     "output_type": "stream",
     "name": "stdout",
     "output_type": "stream",
     "text": [
      "root\n |-- _c0: string (nullable = true)\n |-- _c1: string (nullable = true)\n |-- _c2: string (nullable = true)\n |-- _c3: string (nullable = true)\n\n"
     ]
    }
   ],
   "source": [
    "df.printSchema() # same as info() in pandas dataframe\n",
    "# by default the datatypr of column in string in pyspark dataframe"
   ]
  },
  {
   "cell_type": "code",
   "execution_count": 0,
   "metadata": {
    "application/vnd.databricks.v1+cell": {
     "cellMetadata": {
      "byteLimit": 2048000,
      "rowLimit": 10000
     },
     "inputWidgets": {},
     "nuid": "79b43a11-d320-45a5-9cc1-07dfa86360a8",
     "showTitle": false,
     "tableResultSettingsMap": {},
     "title": ""
    }
   },
   "outputs": [
    {
     "output_type": "stream",
     "name": "stdout",
     "output_type": "stream",
     "text": [
      "Out[28]: DataFrame[_c0: string, _c1: string, _c2: string, _c3: string]"
     ]
    }
   ],
   "source": [
    "# but of we set inferschema = 1 we will get the original datatype of column \n",
    "spark.read.csv('/FileStore/tables/SalesTeam-4.csv',inferSchema = True)"
   ]
  },
  {
   "cell_type": "code",
   "execution_count": 0,
   "metadata": {
    "application/vnd.databricks.v1+cell": {
     "cellMetadata": {
      "byteLimit": 2048000,
      "rowLimit": 10000
     },
     "inputWidgets": {},
     "nuid": "130ec439-b1e9-40fe-a40b-8980e1b64640",
     "showTitle": false,
     "tableResultSettingsMap": {},
     "title": ""
    }
   },
   "outputs": [
    {
     "output_type": "stream",
     "name": "stdout",
     "output_type": "stream",
     "text": [
      "Out[52]: DataFrame[Sales Rep: string, Sales Rep Id: string, Company Name: string, Company Id: string]"
     ]
    }
   ],
   "source": [
    "# setting 1st row as header\n",
    "spark.read.option('header','true').csv('/FileStore/tables/SalesTeam-4.csv')"
   ]
  },
  {
   "cell_type": "code",
   "execution_count": 0,
   "metadata": {
    "application/vnd.databricks.v1+cell": {
     "cellMetadata": {
      "byteLimit": 2048000,
      "rowLimit": 10000
     },
     "inputWidgets": {},
     "nuid": "6a46523d-be2a-4f55-9aca-8f703057232a",
     "showTitle": false,
     "tableResultSettingsMap": {},
     "title": ""
    }
   },
   "outputs": [
    {
     "output_type": "stream",
     "name": "stdout",
     "output_type": "stream",
     "text": [
      "Out[23]: pyspark.sql.dataframe.DataFrame"
     ]
    }
   ],
   "source": [
    "type(dataframe)"
   ]
  },
  {
   "cell_type": "code",
   "execution_count": 0,
   "metadata": {
    "application/vnd.databricks.v1+cell": {
     "cellMetadata": {
      "byteLimit": 2048000,
      "rowLimit": 10000
     },
     "inputWidgets": {},
     "nuid": "365f732a-c316-42b4-b7fa-07e255b8f7de",
     "showTitle": false,
     "tableResultSettingsMap": {},
     "title": ""
    }
   },
   "outputs": [
    {
     "output_type": "stream",
     "name": "stdout",
     "output_type": "stream",
     "text": [
      "Out[30]: Row(_c0='Sales Rep', _c1='Sales Rep Id', _c2='Company Name', _c3='Company Id')"
     ]
    }
   ],
   "source": [
    "df.head()"
   ]
  },
  {
   "cell_type": "code",
   "execution_count": 0,
   "metadata": {
    "application/vnd.databricks.v1+cell": {
     "cellMetadata": {
      "byteLimit": 2048000,
      "rowLimit": 10000
     },
     "inputWidgets": {},
     "nuid": "64ad5b9c-226e-42e7-9743-befa2debcbd9",
     "showTitle": false,
     "tableResultSettingsMap": {},
     "title": ""
    }
   },
   "outputs": [
    {
     "output_type": "stream",
     "name": "stdout",
     "output_type": "stream",
     "text": [
      "Out[31]: [Row(_c0='Sales Rep', _c1='Sales Rep Id', _c2='Company Name', _c3='Company Id'),\n Row(_c0='Jessie Mcallister', _c1='97UNNAT790E0WM4N', _c2='Chimera-Chasing Casbah', _c3='LJKS5NK6788CYMUU'),\n Row(_c0='Jessie Mcallister', _c1='97UNNAT790E0WM4N', _c2='Tangential Sheds', _c3='36MFTZOYMTAJP1RK'),\n Row(_c0='Jessie Mcallister', _c1='97UNNAT790E0WM4N', _c2='Two-Mile Grab', _c3='H3JRC7XX7WJAD4ZO'),\n Row(_c0='Jessie Mcallister', _c1='97UNNAT790E0WM4N', _c2=\"Three-Men-And-A-Helper Congo'S\", _c3='HB25MDZR0MGCQUGX')]"
     ]
    }
   ],
   "source": [
    "# selecting multiple rows\n",
    "df.head(5)"
   ]
  },
  {
   "cell_type": "code",
   "execution_count": 0,
   "metadata": {
    "application/vnd.databricks.v1+cell": {
     "cellMetadata": {
      "byteLimit": 2048000,
      "rowLimit": 10000
     },
     "inputWidgets": {},
     "nuid": "a430d75d-0ab7-4064-bd75-e8ff138c58b7",
     "showTitle": false,
     "tableResultSettingsMap": {},
     "title": ""
    }
   },
   "outputs": [
    {
     "output_type": "stream",
     "name": "stdout",
     "output_type": "stream",
     "text": [
      "+--------------------+\n|                 _c2|\n+--------------------+\n|        Company Name|\n|Chimera-Chasing C...|\n|    Tangential Sheds|\n|       Two-Mile Grab|\n|Three-Men-And-A-H...|\n|Biophysical Battl...|\n|    Verbal Greenwich|\n|Unpremeditated He...|\n|    Excitatory Joint|\n|          Dandy Fist|\n|      Various Caesar|\n|Unhesitant Caperc...|\n|Priestly Item-Cat...|\n|Paleocortical Boa...|\n|Editorial Paintbrush|\n|       Victorian Aim|\n|     Atune Endowment|\n| Industrial Opinions|\n|        Regional Art|\n|Fantastic Re-Enac...|\n+--------------------+\nonly showing top 20 rows\n\n"
     ]
    }
   ],
   "source": [
    "# selecting a single column from dataframe\n",
    "df.select('_c2').show()"
   ]
  },
  {
   "cell_type": "code",
   "execution_count": 0,
   "metadata": {
    "application/vnd.databricks.v1+cell": {
     "cellMetadata": {
      "byteLimit": 2048000,
      "rowLimit": 10000
     },
     "inputWidgets": {},
     "nuid": "8f5da700-f3ec-42d3-a87c-8a4c48fa84ae",
     "showTitle": false,
     "tableResultSettingsMap": {},
     "title": ""
    }
   },
   "outputs": [
    {
     "output_type": "stream",
     "name": "stdout",
     "output_type": "stream",
     "text": [
      "Out[44]: pyspark.sql.dataframe.DataFrame"
     ]
    }
   ],
   "source": [
    "type(df.select('_c2'))"
   ]
  },
  {
   "cell_type": "code",
   "execution_count": 0,
   "metadata": {
    "application/vnd.databricks.v1+cell": {
     "cellMetadata": {
      "byteLimit": 2048000,
      "rowLimit": 10000
     },
     "inputWidgets": {},
     "nuid": "603f1ce8-9101-4233-98be-9f5abda9c4c1",
     "showTitle": false,
     "tableResultSettingsMap": {},
     "title": ""
    }
   },
   "outputs": [
    {
     "output_type": "stream",
     "name": "stdout",
     "output_type": "stream",
     "text": [
      "+----------------+--------------------+\n|             _c1|                 _c2|\n+----------------+--------------------+\n|    Sales Rep Id|        Company Name|\n|97UNNAT790E0WM4N|Chimera-Chasing C...|\n|97UNNAT790E0WM4N|    Tangential Sheds|\n|97UNNAT790E0WM4N|       Two-Mile Grab|\n|97UNNAT790E0WM4N|Three-Men-And-A-H...|\n|97UNNAT790E0WM4N|Biophysical Battl...|\n|97UNNAT790E0WM4N|    Verbal Greenwich|\n|97UNNAT790E0WM4N|Unpremeditated He...|\n|97UNNAT790E0WM4N|    Excitatory Joint|\n|97UNNAT790E0WM4N|          Dandy Fist|\n|97UNNAT790E0WM4N|      Various Caesar|\n|97UNNAT790E0WM4N|Unhesitant Caperc...|\n|97UNNAT790E0WM4N|Priestly Item-Cat...|\n|97UNNAT790E0WM4N|Paleocortical Boa...|\n|97UNNAT790E0WM4N|Editorial Paintbrush|\n|97UNNAT790E0WM4N|       Victorian Aim|\n|97UNNAT790E0WM4N|     Atune Endowment|\n|97UNNAT790E0WM4N| Industrial Opinions|\n|97UNNAT790E0WM4N|        Regional Art|\n|RRD2R9XMAJDP7TUY|Fantastic Re-Enac...|\n+----------------+--------------------+\nonly showing top 20 rows\n\n"
     ]
    }
   ],
   "source": [
    "# selecting multiple columns \n",
    "df.select(['_c1','_c2']).show()"
   ]
  },
  {
   "cell_type": "code",
   "execution_count": 0,
   "metadata": {
    "application/vnd.databricks.v1+cell": {
     "cellMetadata": {
      "byteLimit": 2048000,
      "rowLimit": 10000
     },
     "inputWidgets": {},
     "nuid": "fd7ced5f-528f-4f6a-a7e6-f796019bf559",
     "showTitle": false,
     "tableResultSettingsMap": {},
     "title": ""
    }
   },
   "outputs": [
    {
     "output_type": "stream",
     "name": "stdout",
     "output_type": "stream",
     "text": [
      "Out[49]: [('_c0', 'string'), ('_c1', 'string'), ('_c2', 'string'), ('_c3', 'string')]"
     ]
    }
   ],
   "source": [
    "df.dtypes"
   ]
  },
  {
   "cell_type": "code",
   "execution_count": 0,
   "metadata": {
    "application/vnd.databricks.v1+cell": {
     "cellMetadata": {
      "byteLimit": 2048000,
      "rowLimit": 10000
     },
     "inputWidgets": {},
     "nuid": "c0161857-b249-43eb-8adb-863ed4ff10aa",
     "showTitle": false,
     "tableResultSettingsMap": {},
     "title": ""
    }
   },
   "outputs": [
    {
     "output_type": "stream",
     "name": "stdout",
     "output_type": "stream",
     "text": [
      "+-------+---------------+----------------+----------------+----------------+\n|summary|            _c0|             _c1|             _c2|             _c3|\n+-------+---------------+----------------+----------------+----------------+\n|  count|           4726|            4726|            4726|            4726|\n|   mean|           null|            null|            null|            null|\n| stddev|           null|            null|            null|            null|\n|    min|     Ada Pappas|05USHZ7BLRS3JV37|       '48 Wills|007RF0BCBVMXTL80|\n|    max|Yolanda Decarlo|ZWT68Z5JHHDHQKRJ|Zodiacal Roberts|ZZYB9JLJKXRH7U6O|\n+-------+---------------+----------------+----------------+----------------+\n\n"
     ]
    }
   ],
   "source": [
    "df.describe().show()"
   ]
  },
  {
   "cell_type": "code",
   "execution_count": 0,
   "metadata": {
    "application/vnd.databricks.v1+cell": {
     "cellMetadata": {
      "byteLimit": 2048000,
      "rowLimit": 10000
     },
     "inputWidgets": {},
     "nuid": "86d2d2d2-cfe7-4553-ad7d-8933a85df665",
     "showTitle": false,
     "tableResultSettingsMap": {},
     "title": ""
    }
   },
   "outputs": [
    {
     "output_type": "stream",
     "name": "stdout",
     "output_type": "stream",
     "text": [
      "+-----------------+----------------+--------------------+----------------+\n|              _c0|             _c1|                 _c2|             _c3|\n+-----------------+----------------+--------------------+----------------+\n|        Sales Rep|    Sales Rep Id|        Company Name|      Company Id|\n|Jessie Mcallister|97UNNAT790E0WM4N|Chimera-Chasing C...|LJKS5NK6788CYMUU|\n|Jessie Mcallister|97UNNAT790E0WM4N|    Tangential Sheds|36MFTZOYMTAJP1RK|\n|Jessie Mcallister|97UNNAT790E0WM4N|       Two-Mile Grab|H3JRC7XX7WJAD4ZO|\n|Jessie Mcallister|97UNNAT790E0WM4N|Three-Men-And-A-H...|HB25MDZR0MGCQUGX|\n|Jessie Mcallister|97UNNAT790E0WM4N|Biophysical Battl...|7RVA8TIVBLBXMNO4|\n|Jessie Mcallister|97UNNAT790E0WM4N|    Verbal Greenwich|KKM6EZRN9W5NYXP6|\n|Jessie Mcallister|97UNNAT790E0WM4N|Unpremeditated He...|NBJDWUB8J2DHLH29|\n|Jessie Mcallister|97UNNAT790E0WM4N|    Excitatory Joint|D3Q0HECTK80RRGGO|\n|Jessie Mcallister|97UNNAT790E0WM4N|          Dandy Fist|KGJBNJQHPF0WZ6SI|\n|Jessie Mcallister|97UNNAT790E0WM4N|      Various Caesar|7FLAHMERFCITB6RT|\n|Jessie Mcallister|97UNNAT790E0WM4N|Unhesitant Caperc...|JYRK7UHZXGX4DLSX|\n|Jessie Mcallister|97UNNAT790E0WM4N|Priestly Item-Cat...|TAW7IY2L2IKUCCGC|\n|Jessie Mcallister|97UNNAT790E0WM4N|Paleocortical Boa...|NUQS9SHQH6IU92V8|\n|Jessie Mcallister|97UNNAT790E0WM4N|Editorial Paintbrush|PQ79N68UEQ9FFCPU|\n|Jessie Mcallister|97UNNAT790E0WM4N|       Victorian Aim|93DU98KT3NZCOW58|\n|Jessie Mcallister|97UNNAT790E0WM4N|     Atune Endowment|HYENPHTT6GZ7O2WY|\n|Jessie Mcallister|97UNNAT790E0WM4N| Industrial Opinions|BQMPJF0W2Z2E0PEW|\n|Jessie Mcallister|97UNNAT790E0WM4N|        Regional Art|R7ID6873ITH6GCLJ|\n|      Lois Bowers|RRD2R9XMAJDP7TUY|Fantastic Re-Enac...|W2X6NP1JBOKWCO33|\n+-----------------+----------------+--------------------+----------------+\nonly showing top 20 rows\n\n"
     ]
    }
   ],
   "source": [
    "df.show()"
   ]
  },
  {
   "cell_type": "code",
   "execution_count": 0,
   "metadata": {
    "application/vnd.databricks.v1+cell": {
     "cellMetadata": {
      "byteLimit": 2048000,
      "rowLimit": 10000
     },
     "inputWidgets": {},
     "nuid": "2a39a493-5ad1-4e5e-badb-5f0418be40ea",
     "showTitle": false,
     "tableResultSettingsMap": {},
     "title": ""
    }
   },
   "outputs": [],
   "source": [
    "from pyspark.sql.functions import rand\n",
    "# adding new column\n",
    "df = df.withColumn(\"col5\", rand())"
   ]
  },
  {
   "cell_type": "code",
   "execution_count": 0,
   "metadata": {
    "application/vnd.databricks.v1+cell": {
     "cellMetadata": {
      "byteLimit": 2048000,
      "rowLimit": 10000
     },
     "inputWidgets": {},
     "nuid": "89ff0461-e0b2-4a92-b52e-fa30a01611f3",
     "showTitle": false,
     "tableResultSettingsMap": {},
     "title": ""
    }
   },
   "outputs": [
    {
     "output_type": "stream",
     "name": "stdout",
     "output_type": "stream",
     "text": [
      "+-----------------+----------------+--------------------+----------------+--------------------+\n|              _c0|             _c1|                 _c2|             _c3|                col5|\n+-----------------+----------------+--------------------+----------------+--------------------+\n|        Sales Rep|    Sales Rep Id|        Company Name|      Company Id|  0.9671990573175189|\n|Jessie Mcallister|97UNNAT790E0WM4N|Chimera-Chasing C...|LJKS5NK6788CYMUU|  0.6711586585270226|\n|Jessie Mcallister|97UNNAT790E0WM4N|    Tangential Sheds|36MFTZOYMTAJP1RK|  0.5340019006824284|\n|Jessie Mcallister|97UNNAT790E0WM4N|       Two-Mile Grab|H3JRC7XX7WJAD4ZO|  0.6898926939926296|\n|Jessie Mcallister|97UNNAT790E0WM4N|Three-Men-And-A-H...|HB25MDZR0MGCQUGX|  0.5960885706974687|\n|Jessie Mcallister|97UNNAT790E0WM4N|Biophysical Battl...|7RVA8TIVBLBXMNO4| 0.05707034226901664|\n|Jessie Mcallister|97UNNAT790E0WM4N|    Verbal Greenwich|KKM6EZRN9W5NYXP6| 0.07301077562106217|\n|Jessie Mcallister|97UNNAT790E0WM4N|Unpremeditated He...|NBJDWUB8J2DHLH29|0.015745273056409825|\n|Jessie Mcallister|97UNNAT790E0WM4N|    Excitatory Joint|D3Q0HECTK80RRGGO|   0.651805233546866|\n|Jessie Mcallister|97UNNAT790E0WM4N|          Dandy Fist|KGJBNJQHPF0WZ6SI| 0.13643496444896386|\n|Jessie Mcallister|97UNNAT790E0WM4N|      Various Caesar|7FLAHMERFCITB6RT| 0.42292734963739265|\n|Jessie Mcallister|97UNNAT790E0WM4N|Unhesitant Caperc...|JYRK7UHZXGX4DLSX|  0.3766308154121639|\n|Jessie Mcallister|97UNNAT790E0WM4N|Priestly Item-Cat...|TAW7IY2L2IKUCCGC|  0.3392129970082278|\n|Jessie Mcallister|97UNNAT790E0WM4N|Paleocortical Boa...|NUQS9SHQH6IU92V8|  0.7264575824393447|\n|Jessie Mcallister|97UNNAT790E0WM4N|Editorial Paintbrush|PQ79N68UEQ9FFCPU|  0.5225080549566353|\n|Jessie Mcallister|97UNNAT790E0WM4N|       Victorian Aim|93DU98KT3NZCOW58|  0.7555757954651369|\n|Jessie Mcallister|97UNNAT790E0WM4N|     Atune Endowment|HYENPHTT6GZ7O2WY|  0.7056140558208421|\n|Jessie Mcallister|97UNNAT790E0WM4N| Industrial Opinions|BQMPJF0W2Z2E0PEW| 0.20122172712729103|\n|Jessie Mcallister|97UNNAT790E0WM4N|        Regional Art|R7ID6873ITH6GCLJ|  0.2951890648936545|\n|      Lois Bowers|RRD2R9XMAJDP7TUY|Fantastic Re-Enac...|W2X6NP1JBOKWCO33|  0.2816602602899758|\n+-----------------+----------------+--------------------+----------------+--------------------+\nonly showing top 20 rows\n\n"
     ]
    }
   ],
   "source": [
    "df.show()"
   ]
  },
  {
   "cell_type": "code",
   "execution_count": 0,
   "metadata": {
    "application/vnd.databricks.v1+cell": {
     "cellMetadata": {
      "byteLimit": 2048000,
      "rowLimit": 10000
     },
     "inputWidgets": {},
     "nuid": "00f0f228-eed9-4f07-9c47-d48f6034c191",
     "showTitle": false,
     "tableResultSettingsMap": {},
     "title": ""
    }
   },
   "outputs": [],
   "source": [
    "# drop column \n",
    "df = df.drop(\"col5\")"
   ]
  },
  {
   "cell_type": "code",
   "execution_count": 0,
   "metadata": {
    "application/vnd.databricks.v1+cell": {
     "cellMetadata": {
      "byteLimit": 2048000,
      "rowLimit": 10000
     },
     "inputWidgets": {},
     "nuid": "0b4ce32e-063a-4591-bc89-f0ec04cb0519",
     "showTitle": false,
     "tableResultSettingsMap": {},
     "title": ""
    }
   },
   "outputs": [
    {
     "output_type": "stream",
     "name": "stdout",
     "output_type": "stream",
     "text": [
      "+-----------------+----------------+--------------------+----------------+\n|              _c0|             _c1|                 _c2|             _c3|\n+-----------------+----------------+--------------------+----------------+\n|        Sales Rep|    Sales Rep Id|        Company Name|      Company Id|\n|Jessie Mcallister|97UNNAT790E0WM4N|Chimera-Chasing C...|LJKS5NK6788CYMUU|\n|Jessie Mcallister|97UNNAT790E0WM4N|    Tangential Sheds|36MFTZOYMTAJP1RK|\n|Jessie Mcallister|97UNNAT790E0WM4N|       Two-Mile Grab|H3JRC7XX7WJAD4ZO|\n|Jessie Mcallister|97UNNAT790E0WM4N|Three-Men-And-A-H...|HB25MDZR0MGCQUGX|\n|Jessie Mcallister|97UNNAT790E0WM4N|Biophysical Battl...|7RVA8TIVBLBXMNO4|\n|Jessie Mcallister|97UNNAT790E0WM4N|    Verbal Greenwich|KKM6EZRN9W5NYXP6|\n|Jessie Mcallister|97UNNAT790E0WM4N|Unpremeditated He...|NBJDWUB8J2DHLH29|\n|Jessie Mcallister|97UNNAT790E0WM4N|    Excitatory Joint|D3Q0HECTK80RRGGO|\n|Jessie Mcallister|97UNNAT790E0WM4N|          Dandy Fist|KGJBNJQHPF0WZ6SI|\n|Jessie Mcallister|97UNNAT790E0WM4N|      Various Caesar|7FLAHMERFCITB6RT|\n|Jessie Mcallister|97UNNAT790E0WM4N|Unhesitant Caperc...|JYRK7UHZXGX4DLSX|\n|Jessie Mcallister|97UNNAT790E0WM4N|Priestly Item-Cat...|TAW7IY2L2IKUCCGC|\n|Jessie Mcallister|97UNNAT790E0WM4N|Paleocortical Boa...|NUQS9SHQH6IU92V8|\n|Jessie Mcallister|97UNNAT790E0WM4N|Editorial Paintbrush|PQ79N68UEQ9FFCPU|\n|Jessie Mcallister|97UNNAT790E0WM4N|       Victorian Aim|93DU98KT3NZCOW58|\n|Jessie Mcallister|97UNNAT790E0WM4N|     Atune Endowment|HYENPHTT6GZ7O2WY|\n|Jessie Mcallister|97UNNAT790E0WM4N| Industrial Opinions|BQMPJF0W2Z2E0PEW|\n|Jessie Mcallister|97UNNAT790E0WM4N|        Regional Art|R7ID6873ITH6GCLJ|\n|      Lois Bowers|RRD2R9XMAJDP7TUY|Fantastic Re-Enac...|W2X6NP1JBOKWCO33|\n+-----------------+----------------+--------------------+----------------+\nonly showing top 20 rows\n\n"
     ]
    }
   ],
   "source": [
    "df.show()"
   ]
  },
  {
   "cell_type": "code",
   "execution_count": 0,
   "metadata": {
    "application/vnd.databricks.v1+cell": {
     "cellMetadata": {
      "byteLimit": 2048000,
      "rowLimit": 10000
     },
     "inputWidgets": {},
     "nuid": "7aaeee88-95b4-47b8-a210-0cb586777647",
     "showTitle": false,
     "tableResultSettingsMap": {},
     "title": ""
    }
   },
   "outputs": [],
   "source": [
    "# rename a column \n",
    "df = df.withColumnRenamed(\"_c0\",\"Employee_name\")"
   ]
  },
  {
   "cell_type": "code",
   "execution_count": 0,
   "metadata": {
    "application/vnd.databricks.v1+cell": {
     "cellMetadata": {
      "byteLimit": 2048000,
      "rowLimit": 10000
     },
     "inputWidgets": {},
     "nuid": "0d59822a-5a86-4e6b-a8e6-8e135997fb1a",
     "showTitle": false,
     "tableResultSettingsMap": {},
     "title": ""
    }
   },
   "outputs": [
    {
     "output_type": "stream",
     "name": "stdout",
     "output_type": "stream",
     "text": [
      "+-----------------+----------------+--------------------+----------------+\n|    Employee_name|             _c1|                 _c2|             _c3|\n+-----------------+----------------+--------------------+----------------+\n|        Sales Rep|    Sales Rep Id|        Company Name|      Company Id|\n|Jessie Mcallister|97UNNAT790E0WM4N|Chimera-Chasing C...|LJKS5NK6788CYMUU|\n|Jessie Mcallister|97UNNAT790E0WM4N|    Tangential Sheds|36MFTZOYMTAJP1RK|\n|Jessie Mcallister|97UNNAT790E0WM4N|       Two-Mile Grab|H3JRC7XX7WJAD4ZO|\n|Jessie Mcallister|97UNNAT790E0WM4N|Three-Men-And-A-H...|HB25MDZR0MGCQUGX|\n|Jessie Mcallister|97UNNAT790E0WM4N|Biophysical Battl...|7RVA8TIVBLBXMNO4|\n|Jessie Mcallister|97UNNAT790E0WM4N|    Verbal Greenwich|KKM6EZRN9W5NYXP6|\n|Jessie Mcallister|97UNNAT790E0WM4N|Unpremeditated He...|NBJDWUB8J2DHLH29|\n|Jessie Mcallister|97UNNAT790E0WM4N|    Excitatory Joint|D3Q0HECTK80RRGGO|\n|Jessie Mcallister|97UNNAT790E0WM4N|          Dandy Fist|KGJBNJQHPF0WZ6SI|\n|Jessie Mcallister|97UNNAT790E0WM4N|      Various Caesar|7FLAHMERFCITB6RT|\n|Jessie Mcallister|97UNNAT790E0WM4N|Unhesitant Caperc...|JYRK7UHZXGX4DLSX|\n|Jessie Mcallister|97UNNAT790E0WM4N|Priestly Item-Cat...|TAW7IY2L2IKUCCGC|\n|Jessie Mcallister|97UNNAT790E0WM4N|Paleocortical Boa...|NUQS9SHQH6IU92V8|\n|Jessie Mcallister|97UNNAT790E0WM4N|Editorial Paintbrush|PQ79N68UEQ9FFCPU|\n|Jessie Mcallister|97UNNAT790E0WM4N|       Victorian Aim|93DU98KT3NZCOW58|\n|Jessie Mcallister|97UNNAT790E0WM4N|     Atune Endowment|HYENPHTT6GZ7O2WY|\n|Jessie Mcallister|97UNNAT790E0WM4N| Industrial Opinions|BQMPJF0W2Z2E0PEW|\n|Jessie Mcallister|97UNNAT790E0WM4N|        Regional Art|R7ID6873ITH6GCLJ|\n|      Lois Bowers|RRD2R9XMAJDP7TUY|Fantastic Re-Enac...|W2X6NP1JBOKWCO33|\n+-----------------+----------------+--------------------+----------------+\nonly showing top 20 rows\n\n"
     ]
    }
   ],
   "source": [
    "df.show()"
   ]
  },
  {
   "cell_type": "code",
   "execution_count": 0,
   "metadata": {
    "application/vnd.databricks.v1+cell": {
     "cellMetadata": {
      "byteLimit": 2048000,
      "rowLimit": 10000
     },
     "inputWidgets": {},
     "nuid": "ea16b88a-c26a-4896-80f8-b4044c3cc917",
     "showTitle": false,
     "tableResultSettingsMap": {},
     "title": ""
    }
   },
   "outputs": [
    {
     "output_type": "stream",
     "name": "stdout",
     "output_type": "stream",
     "text": [
      "Out[105]: DataFrame[summary: string, Employee_name: string, _c1: string, _c2: string, _c3: string]"
     ]
    }
   ],
   "source": [
    "df.describe() "
   ]
  },
  {
   "cell_type": "code",
   "execution_count": 0,
   "metadata": {
    "application/vnd.databricks.v1+cell": {
     "cellMetadata": {
      "byteLimit": 2048000,
      "rowLimit": 10000
     },
     "inputWidgets": {},
     "nuid": "ce95ebdd-4e46-4a41-8246-8b381cb2ce49",
     "showTitle": false,
     "tableResultSettingsMap": {},
     "title": ""
    }
   },
   "outputs": [],
   "source": [
    "#employees = spark.read.option('header','true').csv('/FileStore/tables/SalesTeam-4.csv')\n",
    "\n",
    "employees = spark.read.csv('/FileStore/tables/dummy_employee___Sheet1-1.csv',header = True, inferSchema=True)"
   ]
  },
  {
   "cell_type": "code",
   "execution_count": 0,
   "metadata": {
    "application/vnd.databricks.v1+cell": {
     "cellMetadata": {
      "byteLimit": 2048000,
      "rowLimit": 10000
     },
     "inputWidgets": {},
     "nuid": "854f834b-6c12-418c-b7de-ba9ab6188799",
     "showTitle": false,
     "tableResultSettingsMap": {},
     "title": ""
    }
   },
   "outputs": [
    {
     "output_type": "stream",
     "name": "stdout",
     "output_type": "stream",
     "text": [
      "+-------+----+----------+------+\n|   Name| Age|Experience|Salary|\n+-------+----+----------+------+\n|  Alice|  34|        10| 75000|\n|  Benny|  45|        10| 70000|\n|Crystal|  30|         6| 69000|\n|  Diana|  29|         7| 67000|\n|  Gargi|  27|         3| 50000|\n|  Henry|  21|         1| 45000|\n|    Joe|null|      null| 30000|\n|   null|  45|        10| 25000|\n|   null|  35|      null|  null|\n+-------+----+----------+------+\n\n"
     ]
    }
   ],
   "source": [
    "employees.show()"
   ]
  },
  {
   "cell_type": "code",
   "execution_count": 0,
   "metadata": {
    "application/vnd.databricks.v1+cell": {
     "cellMetadata": {
      "byteLimit": 2048000,
      "rowLimit": 10000
     },
     "inputWidgets": {},
     "nuid": "03855523-4be1-4725-8ddc-5494c473c730",
     "showTitle": false,
     "tableResultSettingsMap": {},
     "title": ""
    }
   },
   "outputs": [
    {
     "output_type": "stream",
     "name": "stdout",
     "output_type": "stream",
     "text": [
      "+-------+---+----------+------+\n|   Name|Age|Experience|Salary|\n+-------+---+----------+------+\n|  Alice| 34|        10| 75000|\n|  Benny| 45|        10| 70000|\n|Crystal| 30|         6| 69000|\n|  Diana| 29|         7| 67000|\n|  Gargi| 27|         3| 50000|\n|  Henry| 21|         1| 45000|\n+-------+---+----------+------+\n\n"
     ]
    }
   ],
   "source": [
    "# droping rows with null values \n",
    "employees.na.drop().show()"
   ]
  },
  {
   "cell_type": "code",
   "execution_count": 0,
   "metadata": {
    "application/vnd.databricks.v1+cell": {
     "cellMetadata": {
      "byteLimit": 2048000,
      "rowLimit": 10000
     },
     "inputWidgets": {},
     "nuid": "86f36d6c-cd4e-442d-a47a-8b05277f0d12",
     "showTitle": false,
     "tableResultSettingsMap": {},
     "title": ""
    }
   },
   "outputs": [
    {
     "output_type": "stream",
     "name": "stdout",
     "output_type": "stream",
     "text": [
      "+-------+----+----------+------+\n|   Name| Age|Experience|Salary|\n+-------+----+----------+------+\n|  Alice|  34|        10| 75000|\n|  Benny|  45|        10| 70000|\n|Crystal|  30|         6| 69000|\n|  Diana|  29|         7| 67000|\n|  Gargi|  27|         3| 50000|\n|  Henry|  21|         1| 45000|\n|    Joe|null|      null| 30000|\n|   null|  45|        10| 25000|\n|   null|  35|      null|  null|\n+-------+----+----------+------+\n\n"
     ]
    }
   ],
   "source": [
    "# how parameter in na.drop\n",
    "employees.na.drop(how = \"all\").show()"
   ]
  },
  {
   "cell_type": "code",
   "execution_count": 0,
   "metadata": {
    "application/vnd.databricks.v1+cell": {
     "cellMetadata": {
      "byteLimit": 2048000,
      "rowLimit": 10000
     },
     "inputWidgets": {},
     "nuid": "29aa2671-09e5-43f0-9fec-c704716f0428",
     "showTitle": false,
     "tableResultSettingsMap": {},
     "title": ""
    }
   },
   "outputs": [
    {
     "output_type": "stream",
     "name": "stdout",
     "output_type": "stream",
     "text": [
      "+-------+---+----------+------+\n|   Name|Age|Experience|Salary|\n+-------+---+----------+------+\n|  Alice| 34|        10| 75000|\n|  Benny| 45|        10| 70000|\n|Crystal| 30|         6| 69000|\n|  Diana| 29|         7| 67000|\n|  Gargi| 27|         3| 50000|\n|  Henry| 21|         1| 45000|\n+-------+---+----------+------+\n\n"
     ]
    }
   ],
   "source": [
    "employees.na.drop(how=\"any\").show() # default"
   ]
  },
  {
   "cell_type": "code",
   "execution_count": 0,
   "metadata": {
    "application/vnd.databricks.v1+cell": {
     "cellMetadata": {
      "byteLimit": 2048000,
      "rowLimit": 10000
     },
     "inputWidgets": {},
     "nuid": "deb53cd8-9693-46dd-9c07-da3a196758a6",
     "showTitle": false,
     "tableResultSettingsMap": {},
     "title": ""
    }
   },
   "outputs": [
    {
     "output_type": "stream",
     "name": "stdout",
     "output_type": "stream",
     "text": [
      "+-------+---+----------+------+\n|   Name|Age|Experience|Salary|\n+-------+---+----------+------+\n|  Alice| 34|        10| 75000|\n|  Benny| 45|        10| 70000|\n|Crystal| 30|         6| 69000|\n|  Diana| 29|         7| 67000|\n|  Gargi| 27|         3| 50000|\n|  Henry| 21|         1| 45000|\n|   null| 45|        10| 25000|\n+-------+---+----------+------+\n\n"
     ]
    }
   ],
   "source": [
    "employees.na.drop(how=\"any\",thresh=3).show() # dont drop rows containing atleast 3 non-null values"
   ]
  },
  {
   "cell_type": "code",
   "execution_count": 0,
   "metadata": {
    "application/vnd.databricks.v1+cell": {
     "cellMetadata": {
      "byteLimit": 2048000,
      "rowLimit": 10000
     },
     "inputWidgets": {},
     "nuid": "fcc10330-21fb-4b93-8ea9-292f243ca42b",
     "showTitle": false,
     "tableResultSettingsMap": {},
     "title": ""
    }
   },
   "outputs": [
    {
     "output_type": "stream",
     "name": "stdout",
     "output_type": "stream",
     "text": [
      "+-------+----+----------+------+\n|   Name| Age|Experience|Salary|\n+-------+----+----------+------+\n|  Alice|  34|        10| 75000|\n|  Benny|  45|        10| 70000|\n|Crystal|  30|         6| 69000|\n|  Diana|  29|         7| 67000|\n|  Gargi|  27|         3| 50000|\n|  Henry|  21|         1| 45000|\n|    Joe|null|      null| 30000|\n|   null|  45|        10| 25000|\n+-------+----+----------+------+\n\n"
     ]
    }
   ],
   "source": [
    "employees.na.drop(subset= ['salary']).show()"
   ]
  },
  {
   "cell_type": "code",
   "execution_count": 0,
   "metadata": {
    "application/vnd.databricks.v1+cell": {
     "cellMetadata": {
      "byteLimit": 2048000,
      "rowLimit": 10000
     },
     "inputWidgets": {},
     "nuid": "25a43a0d-0d27-4a8e-9b2d-d73ee46ed1c5",
     "showTitle": false,
     "tableResultSettingsMap": {},
     "title": ""
    }
   },
   "outputs": [
    {
     "output_type": "stream",
     "name": "stdout",
     "output_type": "stream",
     "text": [
      "+-------+----+----------+------+\n|   Name| Age|Experience|Salary|\n+-------+----+----------+------+\n|  Alice|  34|        10| 75000|\n|  Benny|  45|        10| 70000|\n|Crystal|  30|         6| 69000|\n|  Diana|  29|         7| 67000|\n|  Gargi|  27|         3| 50000|\n|  Henry|  21|         1| 45000|\n|    Joe|null|      null| 30000|\n|   null|  45|        10| 25000|\n+-------+----+----------+------+\n\n"
     ]
    }
   ],
   "source": [
    "employees.na.drop(thresh = 2).show() # atleast 2 non-null values should be present in Name column "
   ]
  },
  {
   "cell_type": "code",
   "execution_count": 0,
   "metadata": {
    "application/vnd.databricks.v1+cell": {
     "cellMetadata": {
      "byteLimit": 2048000,
      "rowLimit": 10000
     },
     "inputWidgets": {},
     "nuid": "d96f6810-20ae-4449-8cb5-e8daf08a45a0",
     "showTitle": false,
     "tableResultSettingsMap": {},
     "title": ""
    }
   },
   "outputs": [],
   "source": [
    "df = employees.na.fill('Missing name')"
   ]
  },
  {
   "cell_type": "code",
   "execution_count": 0,
   "metadata": {
    "application/vnd.databricks.v1+cell": {
     "cellMetadata": {
      "byteLimit": 2048000,
      "rowLimit": 10000
     },
     "inputWidgets": {},
     "nuid": "65a9e0cb-6614-42fa-8aaa-ce3bfe1ae2e4",
     "showTitle": false,
     "tableResultSettingsMap": {},
     "title": ""
    }
   },
   "outputs": [],
   "source": [
    "from pyspark.ml.feature import Imputer "
   ]
  },
  {
   "cell_type": "code",
   "execution_count": 0,
   "metadata": {
    "application/vnd.databricks.v1+cell": {
     "cellMetadata": {
      "byteLimit": 2048000,
      "rowLimit": 10000
     },
     "inputWidgets": {},
     "nuid": "36d72abd-6c18-4e3d-ad43-ab9093ec62c8",
     "showTitle": false,
     "tableResultSettingsMap": {},
     "title": ""
    }
   },
   "outputs": [],
   "source": [
    "# filling the null values with mean \n",
    "imputer = Imputer(\n",
    "    inputCols=['Age','Experience','Salary'],\n",
    "    outputCols=[\"{}_imputed\".format(c) for c in ['Age','Experience','Salary']]\n",
    ").setStrategy(\"mean\") # we can wrte median also in place of mean\n",
    "\n",
    "\n",
    "df = imputer.fit(employees).transform(employees)\n",
    "\n"
   ]
  },
  {
   "cell_type": "code",
   "execution_count": 0,
   "metadata": {
    "application/vnd.databricks.v1+cell": {
     "cellMetadata": {
      "byteLimit": 2048000,
      "rowLimit": 10000
     },
     "inputWidgets": {},
     "nuid": "aef3434b-ed93-4e7d-b568-9117e5d26ba5",
     "showTitle": false,
     "tableResultSettingsMap": {},
     "title": ""
    }
   },
   "outputs": [
    {
     "output_type": "stream",
     "name": "stdout",
     "output_type": "stream",
     "text": [
      "+-------+----+----------+------+-----------+------------------+--------------+\n|   Name| Age|Experience|Salary|Age_imputed|Experience_imputed|Salary_imputed|\n+-------+----+----------+------+-----------+------------------+--------------+\n|  Alice|  34|        10| 75000|         34|                10|         75000|\n|  Benny|  45|        10| 70000|         45|                10|         70000|\n|Crystal|  30|         6| 69000|         30|                 6|         69000|\n|  Diana|  29|         7| 67000|         29|                 7|         67000|\n|  Gargi|  27|         3| 50000|         27|                 3|         50000|\n|  Henry|  21|         1| 45000|         21|                 1|         45000|\n|    Joe|null|      null| 30000|         33|                 6|         30000|\n|   null|  45|        10| 25000|         45|                10|         25000|\n|   null|  35|      null|  null|         35|                 6|         53875|\n+-------+----+----------+------+-----------+------------------+--------------+\n\n"
     ]
    }
   ],
   "source": [
    "df.show()"
   ]
  },
  {
   "cell_type": "code",
   "execution_count": 0,
   "metadata": {
    "application/vnd.databricks.v1+cell": {
     "cellMetadata": {
      "byteLimit": 2048000,
      "rowLimit": 10000
     },
     "inputWidgets": {},
     "nuid": "3e56ee85-c402-4433-a3b8-afa9315829f6",
     "showTitle": false,
     "tableResultSettingsMap": {},
     "title": ""
    }
   },
   "outputs": [
    {
     "output_type": "stream",
     "name": "stdout",
     "output_type": "stream",
     "text": [
      "+----+----+----------+------+\n|Name| Age|Experience|Salary|\n+----+----+----------+------+\n| Joe|null|      null| 30000|\n|null|  45|        10| 25000|\n+----+----+----------+------+\n\n"
     ]
    }
   ],
   "source": [
    "# pyspark filter operations \n",
    "\n",
    "# find the information of employees whose salary <= 30000\n",
    "\n",
    "employees.filter('Salary<=30000').show()"
   ]
  },
  {
   "cell_type": "code",
   "execution_count": 0,
   "metadata": {
    "application/vnd.databricks.v1+cell": {
     "cellMetadata": {
      "byteLimit": 2048000,
      "rowLimit": 10000
     },
     "inputWidgets": {},
     "nuid": "56bfbc1d-0bd6-4ff0-963f-49955268b74e",
     "showTitle": false,
     "tableResultSettingsMap": {},
     "title": ""
    }
   },
   "outputs": [
    {
     "output_type": "stream",
     "name": "stdout",
     "output_type": "stream",
     "text": [
      "+----+----+\n|Name| Age|\n+----+----+\n| Joe|null|\n|null|  45|\n+----+----+\n\n"
     ]
    }
   ],
   "source": [
    "# select name and age of employees whose salary is less than 30000\n",
    "employees.filter('Salary<=30000').select(['Name','Age']).show()"
   ]
  },
  {
   "cell_type": "code",
   "execution_count": 0,
   "metadata": {
    "application/vnd.databricks.v1+cell": {
     "cellMetadata": {
      "byteLimit": 2048000,
      "rowLimit": 10000
     },
     "inputWidgets": {},
     "nuid": "dc32f93c-0eca-4d42-a900-3ed7006befa3",
     "showTitle": false,
     "tableResultSettingsMap": {},
     "title": ""
    }
   },
   "outputs": [
    {
     "output_type": "stream",
     "name": "stdout",
     "output_type": "stream",
     "text": [
      "+----+---+----------+------+\n|Name|Age|Experience|Salary|\n+----+---+----------+------+\n|null| 45|        10| 25000|\n+----+---+----------+------+\n\n"
     ]
    }
   ],
   "source": [
    "# filtering records with multiple conditions \n",
    "employees.filter((employees['Salary']<=50000) & (employees['Age']>=30)).show()"
   ]
  },
  {
   "cell_type": "code",
   "execution_count": 0,
   "metadata": {
    "application/vnd.databricks.v1+cell": {
     "cellMetadata": {
      "byteLimit": 2048000,
      "rowLimit": 10000
     },
     "inputWidgets": {},
     "nuid": "22a8bae2-46c9-484b-9abd-8f84d1dade06",
     "showTitle": false,
     "tableResultSettingsMap": {},
     "title": ""
    }
   },
   "outputs": [],
   "source": [
    "# group by and aggregate function on dataframe\n",
    "\n",
    "df_employee = spark.read.csv('/FileStore/tables/dummy_employee_dataset___Sheet1.csv',header=True,inferSchema=True)\n"
   ]
  },
  {
   "cell_type": "code",
   "execution_count": 0,
   "metadata": {
    "application/vnd.databricks.v1+cell": {
     "cellMetadata": {
      "byteLimit": 2048000,
      "rowLimit": 10000
     },
     "inputWidgets": {},
     "nuid": "28c7d04c-ca41-4930-ac3a-d11b5faa0e7f",
     "showTitle": false,
     "tableResultSettingsMap": {},
     "title": ""
    }
   },
   "outputs": [
    {
     "output_type": "stream",
     "name": "stdout",
     "output_type": "stream",
     "text": [
      "+-------+---+----------+------+-----------+\n|   Name|Age|Experience|Salary| Department|\n+-------+---+----------+------+-----------+\n|  Alice| 34|        10| 75000|         HR|\n|  Benny| 45|        10| 70000|Development|\n|Crystal| 30|         6| 69000|         HR|\n|  Diana| 29|         7| 67000|    Finance|\n|  Gargi| 27|         3| 50000|  Marketing|\n|  Henry| 21|         1| 45000|  Marketing|\n|    Joe| 30|         3| 50000|Development|\n+-------+---+----------+------+-----------+\n\n"
     ]
    }
   ],
   "source": [
    "df_employee.show()"
   ]
  },
  {
   "cell_type": "code",
   "execution_count": 0,
   "metadata": {
    "application/vnd.databricks.v1+cell": {
     "cellMetadata": {
      "byteLimit": 2048000,
      "rowLimit": 10000
     },
     "inputWidgets": {},
     "nuid": "d06975d8-8470-45dd-a382-268ad856426d",
     "showTitle": false,
     "tableResultSettingsMap": {},
     "title": ""
    }
   },
   "outputs": [
    {
     "output_type": "stream",
     "name": "stdout",
     "output_type": "stream",
     "text": [
      "+-----------+-----------+\n| Department|avg(Salary)|\n+-----------+-----------+\n|         HR|    72000.0|\n|    Finance|    67000.0|\n|  Marketing|    47500.0|\n|Development|    60000.0|\n+-----------+-----------+\n\n"
     ]
    }
   ],
   "source": [
    "# average salary in each department \n",
    "df_employee.groupBy('Department').avg('Salary').show()"
   ]
  },
  {
   "cell_type": "code",
   "execution_count": 0,
   "metadata": {
    "application/vnd.databricks.v1+cell": {
     "cellMetadata": {
      "byteLimit": 2048000,
      "rowLimit": 10000
     },
     "inputWidgets": {},
     "nuid": "01889b57-3d25-4422-9096-b41591012be0",
     "showTitle": false,
     "tableResultSettingsMap": {},
     "title": ""
    }
   },
   "outputs": [
    {
     "output_type": "stream",
     "name": "stdout",
     "output_type": "stream",
     "text": [
      "+-----------+-----+\n| Department|count|\n+-----------+-----+\n|         HR|    2|\n|    Finance|    1|\n|  Marketing|    2|\n|Development|    2|\n+-----------+-----+\n\n"
     ]
    }
   ],
   "source": [
    "# number of employees in each department\n",
    "df_employee.groupBy('Department').count().show()"
   ]
  },
  {
   "cell_type": "code",
   "execution_count": 0,
   "metadata": {
    "application/vnd.databricks.v1+cell": {
     "cellMetadata": {
      "byteLimit": 2048000,
      "rowLimit": 10000
     },
     "inputWidgets": {},
     "nuid": "9a9fb3bd-fbc1-41ee-9428-dd8fb72dda51",
     "showTitle": false,
     "tableResultSettingsMap": {},
     "title": ""
    }
   },
   "outputs": [
    {
     "output_type": "stream",
     "name": "stdout",
     "output_type": "stream",
     "text": [
      "+-----------+-----------+\n| Department|max(Salary)|\n+-----------+-----------+\n|         HR|      75000|\n|    Finance|      67000|\n|  Marketing|      50000|\n|Development|      70000|\n+-----------+-----------+\n\n"
     ]
    }
   ],
   "source": [
    "# maximum salary in each department\n",
    "df_employee.groupBy('Department').max('Salary').show()"
   ]
  },
  {
   "cell_type": "code",
   "execution_count": 0,
   "metadata": {
    "application/vnd.databricks.v1+cell": {
     "cellMetadata": {
      "byteLimit": 2048000,
      "rowLimit": 10000
     },
     "inputWidgets": {},
     "nuid": "5f85abcd-691d-4e80-a86a-be47ee38648b",
     "showTitle": false,
     "tableResultSettingsMap": {},
     "title": ""
    }
   },
   "outputs": [
    {
     "output_type": "stream",
     "name": "stdout",
     "output_type": "stream",
     "text": [
      "+-----------+-----------+\n| Department|max(Salary)|\n+-----------+-----------+\n|         HR|      75000|\n|    Finance|      67000|\n|  Marketing|      50000|\n|Development|      70000|\n+-----------+-----------+\n\n"
     ]
    }
   ],
   "source": [
    "# name of employee having maximum salary group by department\n",
    "df_employee.groupBy('Department').max('Salary').show()"
   ]
  }
 ],
 "metadata": {
  "application/vnd.databricks.v1+notebook": {
   "computePreferences": null,
   "dashboards": [],
   "environmentMetadata": null,
   "language": "python",
   "notebookMetadata": {
    "mostRecentlyExecutedCommandWithImplicitDF": {
     "commandId": 2969154967758593,
     "dataframes": [
      "_sqldf"
     ]
    },
    "pythonIndentUnit": 4
   },
   "notebookName": "Introduction to dataframes",
   "widgets": {}
  }
 },
 "nbformat": 4,
 "nbformat_minor": 0
}
