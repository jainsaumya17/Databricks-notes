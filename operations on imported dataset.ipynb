{
 "cells": [
  {
   "cell_type": "code",
   "execution_count": 0,
   "metadata": {
    "application/vnd.databricks.v1+cell": {
     "cellMetadata": {
      "byteLimit": 2048000,
      "rowLimit": 10000
     },
     "inputWidgets": {},
     "nuid": "c956c388-f553-460f-b7e0-52cb11e78958",
     "showTitle": false,
     "tableResultSettingsMap": {},
     "title": ""
    }
   },
   "outputs": [
    {
     "output_type": "display_data",
     "data": {
      "text/html": [
       "<style scoped>\n",
       "  .table-result-container {\n",
       "    max-height: 300px;\n",
       "    overflow: auto;\n",
       "  }\n",
       "  table, th, td {\n",
       "    border: 1px solid black;\n",
       "    border-collapse: collapse;\n",
       "  }\n",
       "  th, td {\n",
       "    padding: 5px;\n",
       "  }\n",
       "  th {\n",
       "    text-align: left;\n",
       "  }\n",
       "</style><div class='table-result-container'><table class='table-result'><thead style='background-color: white'><tr></tr></thead><tbody></tbody></table></div>"
      ]
     },
     "metadata": {
      "application/vnd.databricks.v1+output": {
       "addedWidgets": {},
       "aggData": [],
       "aggError": "",
       "aggOverflow": false,
       "aggSchema": [],
       "aggSeriesLimitReached": false,
       "aggType": "",
       "arguments": {},
       "columnCustomDisplayInfos": {},
       "data": [],
       "datasetInfos": [],
       "dbfsResultPath": null,
       "isJsonSchema": true,
       "metadata": {
        "isDbfsCommandResult": false
       },
       "overflow": false,
       "plotOptions": {
        "customPlotOptions": {},
        "displayType": "table",
        "pivotAggregation": null,
        "pivotColumns": null,
        "xColumns": null,
        "yColumns": null
       },
       "removedWidgets": [],
       "schema": [],
       "type": "table"
      }
     },
     "output_type": "display_data"
    }
   ],
   "source": [
    "%sql\n",
    "USE default;"
   ]
  },
  {
   "cell_type": "code",
   "execution_count": 0,
   "metadata": {
    "application/vnd.databricks.v1+cell": {
     "cellMetadata": {
      "byteLimit": 2048000,
      "rowLimit": 10000
     },
     "inputWidgets": {},
     "nuid": "e30321a2-20ba-4012-b38d-ce73f9fcb85c",
     "showTitle": false,
     "tableResultSettingsMap": {},
     "title": ""
    }
   },
   "outputs": [
    {
     "output_type": "display_data",
     "data": {
      "text/html": [
       "<style scoped>\n",
       "  .table-result-container {\n",
       "    max-height: 300px;\n",
       "    overflow: auto;\n",
       "  }\n",
       "  table, th, td {\n",
       "    border: 1px solid black;\n",
       "    border-collapse: collapse;\n",
       "  }\n",
       "  th, td {\n",
       "    padding: 5px;\n",
       "  }\n",
       "  th {\n",
       "    text-align: left;\n",
       "  }\n",
       "</style><div class='table-result-container'><table class='table-result'><thead style='background-color: white'><tr><th>database</th><th>tableName</th><th>isTemporary</th></tr></thead><tbody><tr><td>default</td><td>invoices_2_csv</td><td>false</td></tr><tr><td>default</td><td>orderleads_2_csv</td><td>false</td></tr><tr><td>default</td><td>salesteam_2_csv</td><td>false</td></tr></tbody></table></div>"
      ]
     },
     "metadata": {
      "application/vnd.databricks.v1+output": {
       "addedWidgets": {},
       "aggData": [],
       "aggError": "",
       "aggOverflow": false,
       "aggSchema": [],
       "aggSeriesLimitReached": false,
       "aggType": "",
       "arguments": {},
       "columnCustomDisplayInfos": {},
       "data": [
        [
         "default",
         "invoices_2_csv",
         false
        ],
        [
         "default",
         "orderleads_2_csv",
         false
        ],
        [
         "default",
         "salesteam_2_csv",
         false
        ]
       ],
       "datasetInfos": [],
       "dbfsResultPath": null,
       "isJsonSchema": true,
       "metadata": {
        "isDbfsCommandResult": false
       },
       "overflow": false,
       "plotOptions": {
        "customPlotOptions": {},
        "displayType": "table",
        "pivotAggregation": null,
        "pivotColumns": null,
        "xColumns": null,
        "yColumns": null
       },
       "removedWidgets": [],
       "schema": [
        {
         "metadata": "{}",
         "name": "database",
         "type": "\"string\""
        },
        {
         "metadata": "{}",
         "name": "tableName",
         "type": "\"string\""
        },
        {
         "metadata": "{}",
         "name": "isTemporary",
         "type": "\"boolean\""
        }
       ],
       "type": "table"
      }
     },
     "output_type": "display_data"
    }
   ],
   "source": [
    "%sql\n",
    "SHOW TABLES;"
   ]
  },
  {
   "cell_type": "code",
   "execution_count": 0,
   "metadata": {
    "application/vnd.databricks.v1+cell": {
     "cellMetadata": {
      "byteLimit": 2048000,
      "rowLimit": 10000
     },
     "inputWidgets": {},
     "nuid": "45e6596a-199d-4272-b2c2-408de8a3992c",
     "showTitle": false,
     "tableResultSettingsMap": {},
     "title": ""
    }
   },
   "outputs": [
    {
     "output_type": "display_data",
     "data": {
      "text/html": [
       "<style scoped>\n",
       "  .table-result-container {\n",
       "    max-height: 300px;\n",
       "    overflow: auto;\n",
       "  }\n",
       "  table, th, td {\n",
       "    border: 1px solid black;\n",
       "    border-collapse: collapse;\n",
       "  }\n",
       "  th, td {\n",
       "    padding: 5px;\n",
       "  }\n",
       "  th {\n",
       "    text-align: left;\n",
       "  }\n",
       "</style><div class='table-result-container'><table class='table-result'><thead style='background-color: white'><tr><th>Company Name</th><th>sum(Meal Price)</th></tr></thead><tbody><tr><td>Ottoman Spalding</td><td>11742.0</td></tr><tr><td>Mouth-Watering Waymouth</td><td>10281.0</td></tr><tr><td>Unambiguous Vasorum</td><td>10229.0</td></tr><tr><td>Molal Interruption</td><td>9992.0</td></tr><tr><td>Thermoelectric Analyst'S</td><td>9934.0</td></tr><tr><td>Grand Left</td><td>9641.0</td></tr><tr><td>Relative Hydroxylation</td><td>9417.0</td></tr><tr><td>Unplumbed Aleck</td><td>9410.0</td></tr><tr><td>Inapplicable Carre</td><td>9375.0</td></tr><tr><td>Uninteresting Taper</td><td>9369.0</td></tr></tbody></table></div>"
      ]
     },
     "metadata": {
      "application/vnd.databricks.v1+output": {
       "addedWidgets": {},
       "aggData": [],
       "aggError": "",
       "aggOverflow": false,
       "aggSchema": [],
       "aggSeriesLimitReached": false,
       "aggType": "",
       "arguments": {},
       "columnCustomDisplayInfos": {},
       "data": [
        [
         "Ottoman Spalding",
         11742.0
        ],
        [
         "Mouth-Watering Waymouth",
         10281.0
        ],
        [
         "Unambiguous Vasorum",
         10229.0
        ],
        [
         "Molal Interruption",
         9992.0
        ],
        [
         "Thermoelectric Analyst'S",
         9934.0
        ],
        [
         "Grand Left",
         9641.0
        ],
        [
         "Relative Hydroxylation",
         9417.0
        ],
        [
         "Unplumbed Aleck",
         9410.0
        ],
        [
         "Inapplicable Carre",
         9375.0
        ],
        [
         "Uninteresting Taper",
         9369.0
        ]
       ],
       "datasetInfos": [],
       "dbfsResultPath": null,
       "isJsonSchema": true,
       "metadata": {
        "isDbfsCommandResult": false
       },
       "overflow": false,
       "plotOptions": {
        "customPlotOptions": {},
        "displayType": "table",
        "pivotAggregation": null,
        "pivotColumns": null,
        "xColumns": null,
        "yColumns": null
       },
       "removedWidgets": [],
       "schema": [
        {
         "metadata": "{}",
         "name": "Company Name",
         "type": "\"string\""
        },
        {
         "metadata": "{\"__autoGeneratedAlias\":\"true\"}",
         "name": "sum(Meal Price)",
         "type": "\"double\""
        }
       ],
       "type": "table"
      }
     },
     "output_type": "display_data"
    },
    {
     "output_type": "display_data",
     "data": {
      "text/plain": [
       "Databricks visualization. Run in Databricks to view."
      ]
     },
     "metadata": {
      "application/vnd.databricks.v1.subcommand+json": {
       "baseErrorDetails": null,
       "bindings": {},
       "collapsed": false,
       "command": "%sql WITH q AS (SELECT s.`Company Name`, SUM(i.`Meal Price`) FROM salesteam_2_csv AS s\nJOIN invoices_2_csv AS i\nON s.`Company Id` = i.`Company Id`\nGROUP BY s.`Company Name`\nORDER BY SUM(i.`Meal Price`) DESC\nLIMIT 10) SELECT `Company Name`,SUM(`sum(Meal Price)`) `column_f62c79ed30` FROM q GROUP BY `Company Name`",
       "commandTitle": "Visualization 2",
       "commandType": "auto",
       "commandVersion": 0,
       "commentThread": [],
       "commentsVisible": false,
       "contentSha256Hex": null,
       "customPlotOptions": {
        "redashChart": [
         {
          "key": "type",
          "value": "CHART"
         },
         {
          "key": "options",
          "value": {
           "alignYAxesAtZero": true,
           "coefficient": 1,
           "columnConfigurationMap": {
            "x": {
             "column": "Company Name",
             "id": "column_f62c79ed29"
            },
            "y": [
             {
              "column": "sum(Meal Price)",
              "id": "column_f62c79ed30",
              "transform": "SUM"
             }
            ]
           },
           "dateTimeFormat": "DD/MM/YYYY HH:mm",
           "direction": {
            "type": "counterclockwise"
           },
           "error_y": {
            "type": "data",
            "visible": true
           },
           "globalSeriesType": "column",
           "legend": {
            "traceorder": "normal"
           },
           "missingValuesAsZero": true,
           "numberFormat": "0,0.[00000]",
           "percentFormat": "0[.]00%",
           "series": {
            "error_y": {
             "type": "data",
             "visible": true
            },
            "stacking": null
           },
           "seriesOptions": {
            "column_f62c79ed30": {
             "name": "sum(Meal Price)",
             "yAxis": 0
            }
           },
           "showDataLabels": false,
           "sizemode": "diameter",
           "sortX": true,
           "sortY": true,
           "swappedAxes": true,
           "textFormat": "",
           "useAggregationsUi": true,
           "valuesOptions": {},
           "version": 2,
           "xAxis": {
            "labels": {
             "enabled": true
            },
            "type": "-"
           },
           "yAxis": [
            {
             "type": "-"
            },
            {
             "opposite": true,
             "type": "-"
            }
           ]
          }
         }
        ]
       },
       "datasetPreviewNameToCmdIdMap": {},
       "diffDeletes": [],
       "diffInserts": [],
       "displayType": "redashChart",
       "error": null,
       "errorDetails": null,
       "errorSummary": null,
       "errorTraceType": null,
       "finishTime": 0,
       "globalVars": {},
       "guid": "",
       "height": "auto",
       "hideCommandCode": false,
       "hideCommandResult": false,
       "iPythonMetadata": null,
       "inputWidgets": {},
       "isLockedInExamMode": false,
       "latestUser": "a user",
       "latestUserId": null,
       "listResultMetadata": null,
       "metadata": {},
       "nuid": "5c92afec-3ee2-4220-b7ee-2fd27157878f",
       "origId": 0,
       "parentHierarchy": [],
       "pivotAggregation": null,
       "pivotColumns": null,
       "position": 104.0,
       "resultDbfsErrorMessage": null,
       "resultDbfsStatus": "INLINED_IN_TREE",
       "results": null,
       "showCommandTitle": false,
       "startTime": 0,
       "state": "input",
       "streamStates": {},
       "subcommandOptions": {
        "queryPlan": {
         "groups": [
          {
           "column": "Company Name",
           "type": "column"
          }
         ],
         "selects": [
          {
           "column": "Company Name",
           "type": "column"
          },
          {
           "alias": "column_f62c79ed30",
           "args": [
            {
             "column": "sum(Meal Price)",
             "type": "column"
            }
           ],
           "function": "SUM",
           "type": "function"
          }
         ]
        }
       },
       "submitTime": 0,
       "subtype": "tableResultSubCmd.visualization",
       "tableResultIndex": 0,
       "tableResultSettingsMap": {},
       "useConsistentColors": false,
       "version": "CommandV1",
       "width": "auto",
       "workflows": [],
       "xColumns": null,
       "yColumns": null
      }
     },
     "output_type": "display_data"
    }
   ],
   "source": [
    "%sql\n",
    "-- 1.  Find the top 10 companies generating the maximum total revenue total revenue generated (Meal Price) .\n",
    "\n",
    "SELECT s.`Company Name`, SUM(i.`Meal Price`) FROM salesteam_2_csv AS s\n",
    "JOIN invoices_2_csv AS i\n",
    "ON s.`Company Id` = i.`Company Id`\n",
    "GROUP BY s.`Company Name`\n",
    "ORDER BY SUM(i.`Meal Price`) DESC\n",
    "LIMIT 10;\n",
    "\n"
   ]
  },
  {
   "cell_type": "code",
   "execution_count": 0,
   "metadata": {
    "application/vnd.databricks.v1+cell": {
     "cellMetadata": {
      "byteLimit": 2048000,
      "rowLimit": 10000
     },
     "inputWidgets": {},
     "nuid": "6b2ac989-d9d5-4994-86d0-ab943c76b8ba",
     "showTitle": false,
     "tableResultSettingsMap": {},
     "title": ""
    }
   },
   "outputs": [
    {
     "output_type": "display_data",
     "data": {
      "text/html": [
       "<style scoped>\n",
       "  .table-result-container {\n",
       "    max-height: 300px;\n",
       "    overflow: auto;\n",
       "  }\n",
       "  table, th, td {\n",
       "    border: 1px solid black;\n",
       "    border-collapse: collapse;\n",
       "  }\n",
       "  th, td {\n",
       "    padding: 5px;\n",
       "  }\n",
       "  th {\n",
       "    text-align: left;\n",
       "  }\n",
       "</style><div class='table-result-container'><table class='table-result'><thead style='background-color: white'><tr><th>Type of Meal</th><th>avg(Meal Price)</th></tr></thead><tbody><tr><td>null</td><td>null</td></tr><tr><td>Breakfast</td><td>401.3945906785801</td></tr><tr><td>Lunch</td><td>406.4983303365014</td></tr><tr><td>Dinner</td><td>400.76026903675233</td></tr></tbody></table></div>"
      ]
     },
     "metadata": {
      "application/vnd.databricks.v1+output": {
       "addedWidgets": {},
       "aggData": [],
       "aggError": "",
       "aggOverflow": false,
       "aggSchema": [],
       "aggSeriesLimitReached": false,
       "aggType": "",
       "arguments": {},
       "columnCustomDisplayInfos": {},
       "data": [
        [
         null,
         null
        ],
        [
         "Breakfast",
         401.3945906785801
        ],
        [
         "Lunch",
         406.4983303365014
        ],
        [
         "Dinner",
         400.76026903675233
        ]
       ],
       "datasetInfos": [],
       "dbfsResultPath": null,
       "isJsonSchema": true,
       "metadata": {
        "isDbfsCommandResult": false
       },
       "overflow": false,
       "plotOptions": {
        "customPlotOptions": {},
        "displayType": "table",
        "pivotAggregation": null,
        "pivotColumns": null,
        "xColumns": null,
        "yColumns": null
       },
       "removedWidgets": [],
       "schema": [
        {
         "metadata": "{}",
         "name": "Type of Meal",
         "type": "\"string\""
        },
        {
         "metadata": "{\"__autoGeneratedAlias\":\"true\"}",
         "name": "avg(Meal Price)",
         "type": "\"double\""
        }
       ],
       "type": "table"
      }
     },
     "output_type": "display_data"
    },
    {
     "output_type": "display_data",
     "data": {
      "text/plain": [
       "Databricks visualization. Run in Databricks to view."
      ]
     },
     "metadata": {
      "application/vnd.databricks.v1.subcommand+json": {
       "baseErrorDetails": null,
       "bindings": {},
       "collapsed": false,
       "command": "%sql WITH q AS (SELECT i.`Type of Meal`, AVG(i.`Meal Price`) FROM invoices_csv i\nJOIN orderleads_csv o\nON i.`Order Id` = o.`Order Id`\nWHERE o.Converted = 1\nGROUP BY i.`Type of Meal`) SELECT `Type of Meal`,SUM(`avg(Meal Price)`) `column_5251963c48` FROM q GROUP BY `Type of Meal`",
       "commandTitle": "Visualization 1",
       "commandType": "auto",
       "commandVersion": 0,
       "commentThread": [],
       "commentsVisible": false,
       "contentSha256Hex": null,
       "customPlotOptions": {
        "redashChart": [
         {
          "key": "type",
          "value": "CHART"
         },
         {
          "key": "options",
          "value": {
           "alignYAxesAtZero": true,
           "coefficient": 1,
           "columnConfigurationMap": {
            "x": {
             "column": "Type of Meal",
             "id": "column_5251963c47"
            },
            "y": [
             {
              "column": "avg(Meal Price)",
              "id": "column_5251963c48",
              "transform": "SUM"
             }
            ]
           },
           "dateTimeFormat": "DD/MM/YYYY HH:mm",
           "direction": {
            "type": "counterclockwise"
           },
           "error_y": {
            "type": "data",
            "visible": true
           },
           "globalSeriesType": "pie",
           "legend": {
            "traceorder": "normal"
           },
           "missingValuesAsZero": true,
           "numberFormat": "0,0.[00000]",
           "percentFormat": "0[.]00%",
           "series": {
            "error_y": {
             "type": "data",
             "visible": true
            },
            "stacking": null
           },
           "seriesOptions": {
            "column_5251963c48": {
             "name": "avg(Meal Price)",
             "type": "pie",
             "yAxis": 0
            }
           },
           "showDataLabels": true,
           "sizemode": "diameter",
           "sortX": true,
           "sortY": true,
           "swappedAxes": false,
           "textFormat": "",
           "useAggregationsUi": true,
           "valuesOptions": {},
           "version": 2,
           "xAxis": {
            "labels": {
             "enabled": true
            },
            "type": "-"
           },
           "yAxis": [
            {
             "type": "-"
            },
            {
             "opposite": true,
             "type": "-"
            }
           ]
          }
         }
        ]
       },
       "datasetPreviewNameToCmdIdMap": {},
       "diffDeletes": [],
       "diffInserts": [],
       "displayType": "redashChart",
       "error": null,
       "errorDetails": null,
       "errorSummary": null,
       "errorTraceType": null,
       "finishTime": 0,
       "globalVars": {},
       "guid": "",
       "height": "auto",
       "hideCommandCode": false,
       "hideCommandResult": false,
       "iPythonMetadata": null,
       "inputWidgets": {},
       "isLockedInExamMode": false,
       "latestUser": "a user",
       "latestUserId": null,
       "listResultMetadata": null,
       "metadata": {},
       "nuid": "1b2a1e53-48d6-47b7-827b-245a668df080",
       "origId": 0,
       "parentHierarchy": [],
       "pivotAggregation": null,
       "pivotColumns": null,
       "position": 104.0,
       "resultDbfsErrorMessage": null,
       "resultDbfsStatus": "INLINED_IN_TREE",
       "results": null,
       "showCommandTitle": false,
       "startTime": 0,
       "state": "input",
       "streamStates": {},
       "subcommandOptions": {
        "queryPlan": {
         "groups": [
          {
           "column": "Type of Meal",
           "type": "column"
          }
         ],
         "selects": [
          {
           "column": "Type of Meal",
           "type": "column"
          },
          {
           "alias": "column_5251963c48",
           "args": [
            {
             "column": "avg(Meal Price)",
             "type": "column"
            }
           ],
           "function": "SUM",
           "type": "function"
          }
         ]
        }
       },
       "submitTime": 0,
       "subtype": "tableResultSubCmd.visualization",
       "tableResultIndex": 0,
       "tableResultSettingsMap": {},
       "useConsistentColors": false,
       "version": "CommandV1",
       "width": "auto",
       "workflows": [],
       "xColumns": null,
       "yColumns": null
      }
     },
     "output_type": "display_data"
    }
   ],
   "source": [
    "%sql\n",
    "-- 2. Average meal price for each type of meal for converted price only \n",
    "SELECT i.`Type of Meal`, AVG(i.`Meal Price`) FROM invoices_2_csv i\n",
    "JOIN orderleads_2_csv o\n",
    "ON i.`Order Id` = o.`Order Id`\n",
    "WHERE o.Converted = 1\n",
    "GROUP BY i.`Type of Meal`;"
   ]
  },
  {
   "cell_type": "code",
   "execution_count": 0,
   "metadata": {
    "application/vnd.databricks.v1+cell": {
     "cellMetadata": {
      "byteLimit": 2048000,
      "rowLimit": 10000
     },
     "inputWidgets": {},
     "nuid": "1b1251a8-fdd0-4d69-a3c0-ebe2b1a49fbe",
     "showTitle": false,
     "tableResultSettingsMap": {},
     "title": ""
    }
   },
   "outputs": [
    {
     "output_type": "display_data",
     "data": {
      "text/html": [
       "<style scoped>\n",
       "  .table-result-container {\n",
       "    max-height: 300px;\n",
       "    overflow: auto;\n",
       "  }\n",
       "  table, th, td {\n",
       "    border: 1px solid black;\n",
       "    border-collapse: collapse;\n",
       "  }\n",
       "  th, td {\n",
       "    padding: 5px;\n",
       "  }\n",
       "  th {\n",
       "    text-align: left;\n",
       "  }\n",
       "</style><div class='table-result-container'><table class='table-result'><thead style='background-color: white'><tr><th>Company Name</th><th>avg(Order Value)</th></tr></thead><tbody><tr><td>Ultra-Fast Convenience</td><td>7344.066666666667</td></tr><tr><td>Industrial Opinions</td><td>7156.95</td></tr><tr><td>Conscious Bremerton</td><td>7151.333333333333</td></tr><tr><td>Superhuman Blind</td><td>7144.25</td></tr><tr><td>Across-The-Board Rotelli</td><td>7034.388888888889</td></tr></tbody></table></div>"
      ]
     },
     "metadata": {
      "application/vnd.databricks.v1+output": {
       "addedWidgets": {},
       "aggData": [],
       "aggError": "",
       "aggOverflow": false,
       "aggSchema": [],
       "aggSeriesLimitReached": false,
       "aggType": "",
       "arguments": {},
       "columnCustomDisplayInfos": {},
       "data": [
        [
         "Ultra-Fast Convenience",
         7344.066666666667
        ],
        [
         "Industrial Opinions",
         7156.95
        ],
        [
         "Conscious Bremerton",
         7151.333333333333
        ],
        [
         "Superhuman Blind",
         7144.25
        ],
        [
         "Across-The-Board Rotelli",
         7034.388888888889
        ]
       ],
       "datasetInfos": [],
       "dbfsResultPath": null,
       "isJsonSchema": true,
       "metadata": {
        "isDbfsCommandResult": false
       },
       "overflow": false,
       "plotOptions": {
        "customPlotOptions": {},
        "displayType": "table",
        "pivotAggregation": null,
        "pivotColumns": null,
        "xColumns": null,
        "yColumns": null
       },
       "removedWidgets": [],
       "schema": [
        {
         "metadata": "{}",
         "name": "Company Name",
         "type": "\"string\""
        },
        {
         "metadata": "{\"__autoGeneratedAlias\":\"true\"}",
         "name": "avg(Order Value)",
         "type": "\"double\""
        }
       ],
       "type": "table"
      }
     },
     "output_type": "display_data"
    }
   ],
   "source": [
    "%sql\n",
    "-- 3. List of top 5 companies with highest order average value\n",
    "\n",
    "SELECT o.`Company Name`,AVG(o.`Order Value`) FROM orderleads_2_csv o\n",
    "GROUP BY o.`Company Name`\n",
    "ORDER BY AVG(o.`Order Value`) DESC\n",
    "LIMIT 5;\n",
    "\n"
   ]
  },
  {
   "cell_type": "code",
   "execution_count": 0,
   "metadata": {
    "application/vnd.databricks.v1+cell": {
     "cellMetadata": {
      "byteLimit": 2048000,
      "rowLimit": 10000
     },
     "inputWidgets": {},
     "nuid": "82eb4cdf-87c1-466a-9b9a-b10d5e7d8133",
     "showTitle": false,
     "tableResultSettingsMap": {},
     "title": ""
    }
   },
   "outputs": [
    {
     "output_type": "display_data",
     "data": {
      "text/html": [
       "<style scoped>\n",
       "  .table-result-container {\n",
       "    max-height: 300px;\n",
       "    overflow: auto;\n",
       "  }\n",
       "  table, th, td {\n",
       "    border: 1px solid black;\n",
       "    border-collapse: collapse;\n",
       "  }\n",
       "  th, td {\n",
       "    padding: 5px;\n",
       "  }\n",
       "  th {\n",
       "    text-align: left;\n",
       "  }\n",
       "</style><div class='table-result-container'><table class='table-result'><thead style='background-color: white'><tr><th>month</th><th>count</th></tr></thead><tbody><tr><td>12</td><td>4332</td></tr></tbody></table></div>"
      ]
     },
     "metadata": {
      "application/vnd.databricks.v1+output": {
       "addedWidgets": {},
       "aggData": [],
       "aggError": "",
       "aggOverflow": false,
       "aggSchema": [],
       "aggSeriesLimitReached": false,
       "aggType": "",
       "arguments": {},
       "columnCustomDisplayInfos": {},
       "data": [
        [
         12,
         4332
        ]
       ],
       "datasetInfos": [],
       "dbfsResultPath": null,
       "isJsonSchema": true,
       "metadata": {
        "isDbfsCommandResult": false
       },
       "overflow": false,
       "plotOptions": {
        "customPlotOptions": {},
        "displayType": "table",
        "pivotAggregation": null,
        "pivotColumns": null,
        "xColumns": null,
        "yColumns": null
       },
       "removedWidgets": [],
       "schema": [
        {
         "metadata": "{}",
         "name": "month",
         "type": "\"integer\""
        },
        {
         "metadata": "{}",
         "name": "count",
         "type": "\"long\""
        }
       ],
       "type": "table"
      }
     },
     "output_type": "display_data"
    }
   ],
   "source": [
    "%sql\n",
    "-- 4. Find the month with highest number of meals scheduled\n",
    "\n",
    "SELECT MONTH(`Date of Meal`) AS month, COUNT(MONTH(`Date of Meal`)) AS count FROM invoices_2_csv\n",
    "GROUP BY MONTH(`Date of Meal`)\n",
    "ORDER BY COUNT(MONTH(`Date of Meal`)) DESC\n",
    "LIMIT 1;\n",
    "\n"
   ]
  },
  {
   "cell_type": "code",
   "execution_count": 0,
   "metadata": {
    "application/vnd.databricks.v1+cell": {
     "cellMetadata": {
      "byteLimit": 2048000,
      "rowLimit": 10000
     },
     "inputWidgets": {},
     "nuid": "dcc62087-7a7f-43f6-832e-d623475047fc",
     "showTitle": false,
     "tableResultSettingsMap": {},
     "title": ""
    }
   },
   "outputs": [
    {
     "output_type": "display_data",
     "data": {
      "text/html": [
       "<style scoped>\n",
       "  .table-result-container {\n",
       "    max-height: 300px;\n",
       "    overflow: auto;\n",
       "  }\n",
       "  table, th, td {\n",
       "    border: 1px solid black;\n",
       "    border-collapse: collapse;\n",
       "  }\n",
       "  th, td {\n",
       "    padding: 5px;\n",
       "  }\n",
       "  th {\n",
       "    text-align: left;\n",
       "  }\n",
       "</style><div class='table-result-container'><table class='table-result'><thead style='background-color: white'><tr><th>Sales Rep Id</th><th>Sales Rep</th></tr></thead><tbody><tr><td>P0FYH9EO5DLAIGTZ</td><td>Edith Bentley</td></tr><tr><td>8JVDTAJ06NAVMO7C</td><td>Timothy Moore</td></tr><tr><td>CEO9SJ588NMQWCNC</td><td>Lesley Ellsworth</td></tr><tr><td>7KAPXGCCZC0ZR0Y5</td><td>Wendy Allen</td></tr><tr><td>5CLUUTR787ATGTTS</td><td>Rodney Johnson</td></tr><tr><td>FVC58NFXY6CHQIHW</td><td>Leon Lee</td></tr><tr><td>O2RRWUS6VNW9YP4W</td><td>Marjorie Johnson</td></tr><tr><td>AGDXX3RQGLDDSMOK</td><td>Joseph Mancil</td></tr><tr><td>88XQPPX4DC2RLM97</td><td>Shannon Szabo</td></tr><tr><td>SCN48Z7TZXPX3UM7</td><td>Herman Reeves</td></tr><tr><td>082MUQ237BFEG6AR</td><td>Jerry Pless</td></tr><tr><td>DY9ID3BYIS59CFRK</td><td>John Aviles</td></tr><tr><td>UJ6853X3W2WTCYVG</td><td>Jeffrey Flores</td></tr><tr><td>HMDAFOGYKLRE5EV2</td><td>Pricilla Noori</td></tr><tr><td>ZLCAGMEO4AO1IRGB</td><td>Lisa Williams</td></tr><tr><td>0PK9IDAFZ43NCGX3</td><td>Leo Beals</td></tr><tr><td>DLIRPUBVM6K437OL</td><td>Cheryl Arnold</td></tr><tr><td>UT1GV3SUZW1ELWS4</td><td>Eleanor Johnson</td></tr><tr><td>7BN407CC0K2FAOA7</td><td>April Grant</td></tr><tr><td>2U8OQ401WRMAXJKN</td><td>Andrew Newman</td></tr><tr><td>TJNVKROHQDCK6MQJ</td><td>Alvin Franks</td></tr><tr><td>83JNEC1J1QBLXJJ8</td><td>Tyler Ott</td></tr><tr><td>9SGLDGD61A1JX3LU</td><td>Jamika Moses</td></tr><tr><td>HVIKSRIK1C50FH8Q</td><td>Robert Waters</td></tr><tr><td>C0B4KHFVCA8TYRSS</td><td>Jessie Vilardi</td></tr><tr><td>P6DXB4Q0CNK4I78Z</td><td>Willie Cooper</td></tr><tr><td>HAYY3B6LDDG7S526</td><td>Susan Rico</td></tr><tr><td>9LARAB7L82QBEIE4</td><td>Katie Rodrigues</td></tr><tr><td>AXF6C7DMRD4FAAQV</td><td>Ramon Green</td></tr><tr><td>M7EUJWTOIMTKZU36</td><td>Gene Nerad</td></tr><tr><td>7ET65ZSZAGBPZN5L</td><td>Janice Rios</td></tr><tr><td>0Y1DFDXEF9NTZE4R</td><td>Una Lanier</td></tr><tr><td>64EVKAU9ESMNRQ0W</td><td>Michelle Harms</td></tr><tr><td>CXZCKGXHAJ7PN6O4</td><td>John Harris</td></tr><tr><td>O4C9CE3BBXVB69CP</td><td>Gabrielle Harper</td></tr><tr><td>8CRRO6WZUSV5ZDHF</td><td>Mildred Szerszen</td></tr><tr><td>Q5XSCYOID4LSR42I</td><td>Roxanne Garrett</td></tr><tr><td>X54UQRVEOF40VHNF</td><td>Maritza Thompson</td></tr><tr><td>C02C4L578FSOCTJF</td><td>Marlene Owens</td></tr><tr><td>ZTMXAVX1AI5W5DSR</td><td>Lester Bibber</td></tr><tr><td>64W06E7A9VJWPQF5</td><td>Steve Schwalb</td></tr><tr><td>80SLAGQ2H9TENK4B</td><td>Jose Koontz</td></tr><tr><td>AV3PC0UQHLIBNS3G</td><td>Chasity Garner</td></tr><tr><td>X5Z8TS9K3BWKQZD3</td><td>Denise Bandy</td></tr><tr><td>7KTI2FN875JPUOTF</td><td>Derek Lavette</td></tr><tr><td>QRS1A8BD9MEHI21Q</td><td>Amber Roth</td></tr><tr><td>R460ZA3J4HKNKPQ8</td><td>John Beaudoin</td></tr><tr><td>UFLMWFVMOOYENUL5</td><td>Veronica Martinez</td></tr><tr><td>Y0HLVLLS8BSLIY1K</td><td>Josie Washington</td></tr><tr><td>DNJBDVVI6BRLBPHE</td><td>Mack Duggar</td></tr><tr><td>RST95V5R2BF4DX43</td><td>Cory Trickel</td></tr><tr><td>74XXKN7N16WVZECF</td><td>Amanda Terrell</td></tr><tr><td>3QH495WG1SI67FS6</td><td>Christopher Woodard</td></tr><tr><td>VGDZULI86OH6499M</td><td>Albert Rollins</td></tr><tr><td>KF9TMX2DRGMEC96B</td><td>David Lowery</td></tr><tr><td>MHF2KMKA3AKQNID5</td><td>Ronald Mccroskey</td></tr><tr><td>8NU64HY3M2ZQYXZU</td><td>Thomas Watson</td></tr><tr><td>BU6BGT7QPXNUY2RO</td><td>Ashley Upright</td></tr><tr><td>UODO0E3FMQ6I8SVM</td><td>Richard Castro</td></tr><tr><td>Y8PSH5OWK1CN2934</td><td>Grover Stanley</td></tr><tr><td>GLQV334POH4REUMS</td><td>Seymour Taylor</td></tr><tr><td>4LIPY9OFVGP86P27</td><td>Michael Means</td></tr><tr><td>VK3KZDLB8HV5YUAX</td><td>Joseph Nale</td></tr><tr><td>GH8ARB7HW9FTSG99</td><td>Max Carlo</td></tr><tr><td>3R0YZJ3PWWV3WW4R</td><td>Tamica Davis</td></tr><tr><td>VFSZQUIYGRN2PFR1</td><td>Jose Stickney</td></tr><tr><td>IZ1OPVRXBA4X82E2</td><td>Richard Gattshall</td></tr><tr><td>8ILV3KPGZ8H3DKFP</td><td>Gary Moshier</td></tr><tr><td>NBCZZD1ITCBJ5YX1</td><td>Arthur Sylvester</td></tr><tr><td>8KT16VK3K66L8Z6Q</td><td>Sarah Jaco</td></tr><tr><td>N4MYRNGJNE6819FB</td><td>Carol Miller</td></tr><tr><td>LILCCDLUPJO47EU1</td><td>Crystal Bashore</td></tr><tr><td>PPWBEBL3Q67R7OU9</td><td>Jeffrey Brindle</td></tr><tr><td>1GLRLJCD4HBUVRLJ</td><td>Socorro Heard</td></tr><tr><td>NXLE8MNMFY9Q9NRO</td><td>Harry Dumas</td></tr><tr><td>ARJG3Q6PUTB1DNDD</td><td>Christina Lee</td></tr><tr><td>R1L07E190JQGSA42</td><td>Mary Stradley</td></tr><tr><td>CSNPVX9FSXE35BJ8</td><td>Raymond Hewitt</td></tr><tr><td>K456TNPTC6PBDEQU</td><td>Robert Sieberg</td></tr><tr><td>2V1C245SQXPVHR61</td><td>Kevin Villanueva</td></tr><tr><td>E2ECSKJZSR3SSKCC</td><td>Elsa Chenault</td></tr><tr><td>3UAB0PYND1WCZVZO</td><td>Ruben Crocker</td></tr><tr><td>9Y0LLMJ0HJQ93W41</td><td>Curt Shaw</td></tr><tr><td>1OIRO8MPWFVX0P6U</td><td>John Noland</td></tr><tr><td>XU4RJVAWDNPZPBJG</td><td>Elwanda Shewmaker</td></tr><tr><td>SP0N3G92YZNLH34Y</td><td>Ruben Sutton</td></tr><tr><td>HQRE2LG21W2OHCY5</td><td>John Rodriguez</td></tr><tr><td>XKO58UE8J5784EY9</td><td>Michael Mackenzie</td></tr><tr><td>TD5ZWI6125ADYEU1</td><td>Thomas Capobianco</td></tr><tr><td>LTXEJ2R3FWVKHKNW</td><td>Dolores Gonsalves</td></tr><tr><td>G4HC84HVRTYE7LKA</td><td>Ramon Kurland</td></tr><tr><td>GUQG3Q0Z9NXFINAP</td><td>Marian Reper</td></tr><tr><td>TAMXPZQ8MAOT8W2A</td><td>Betty Gagnon</td></tr><tr><td>OVPY8DBGOAWR8FZ0</td><td>Kenneth Brown</td></tr><tr><td>5HHTNZMS7IKXZ4JN</td><td>Sarah Smith</td></tr><tr><td>NRUDT64BMWJE3VQT</td><td>Greg Brinkley</td></tr><tr><td>7ZVNZK5TZBJ1MFHN</td><td>Raymond Scharich</td></tr><tr><td>OF1RAK0LZKIVTRU9</td><td>Ruth Shear</td></tr><tr><td>T2LBAPSG044EFXTT</td><td>William Michel</td></tr><tr><td>VRVN6Q49FS2YQTXH</td><td>Michelle Sheehan</td></tr><tr><td>GTKO7EPYZWFFXWAA</td><td>Charles Johnson</td></tr><tr><td>L7BDKIJ5AYSF2HEY</td><td>Grace Beam</td></tr><tr><td>W4HPG36MJPH0MUQ8</td><td>Rodney Hanson</td></tr><tr><td>OJG2V2XYY3VPOAXN</td><td>Eddie Martin</td></tr><tr><td>ZM2JKGYBBFIF86C8</td><td>William Thompson</td></tr><tr><td>7LPYVK4W0MZ634UZ</td><td>Helene Kelly</td></tr><tr><td>U97GV7LYA8OPTCW8</td><td>Stan Beaty</td></tr><tr><td>VLSE4Y2B14J0IR57</td><td>Marie Molden</td></tr><tr><td>P94NG1UEN6188FRG</td><td>Glen Weese</td></tr><tr><td>GPKWZWUFJD6DI5LY</td><td>David Barron</td></tr><tr><td>RJQIDDAQNL5XUWFY</td><td>Erma Castillo</td></tr><tr><td>TKK1I9MXB9H9SP6V</td><td>Ralph Doepke</td></tr><tr><td>71OTKEXHL8NNOPMV</td><td>Michael Newberry</td></tr><tr><td>M2YJGYYBAH1ZTMVZ</td><td>Robert Provost</td></tr><tr><td>T9S4K1W6LGN18GE2</td><td>Wilma Jameson</td></tr><tr><td>YDO6VWGYIRK3UBGS</td><td>Virginia Burnette</td></tr><tr><td>41BV9DB69IMCFHOU</td><td>Gordon Burgos</td></tr><tr><td>5H7F1Y0C40TZ8Y04</td><td>Richard Suggs</td></tr><tr><td>P4JUSTIV94U997CD</td><td>Robert Smith</td></tr><tr><td>C5NKP7SMCFP5I06D</td><td>Richard Bianco</td></tr><tr><td>XM04H2PV0LPK6FR7</td><td>Monica Griggs</td></tr><tr><td>TA7T3TSTJESE8Y3X</td><td>Lindsay Robertson</td></tr><tr><td>BEMYAR2FXZ6YO2IV</td><td>Dwayne Brooks</td></tr><tr><td>HK0EI7ZEJ4IS8G3G</td><td>Shannon Hallmark</td></tr><tr><td>9BE40KF3LA57WP76</td><td>Heather Marchand</td></tr><tr><td>79B3H7ALTV91JHYR</td><td>Andrea Montgomery</td></tr><tr><td>GWMN1HYJFKZBL22N</td><td>Darin Brickhouse</td></tr><tr><td>EATNITEEQ4PN64EU</td><td>Michael Guyton</td></tr><tr><td>G44LNG5YJ53T5S4Q</td><td>Hee Thompson</td></tr><tr><td>U3LQYCUDDSYKS4SF</td><td>Marcus Darden</td></tr><tr><td>1Z8M4BKSUD6J1R4K</td><td>Danielle Gagnon</td></tr><tr><td>TE7A0PDHJDD591QZ</td><td>Sally Allen</td></tr><tr><td>RRD2R9XMAJDP7TUY</td><td>Lois Bowers</td></tr><tr><td>DLJJ56C2RR2D03QS</td><td>Christopher Simmons</td></tr><tr><td>YL5TOOT3PW76Z8BV</td><td>Betsy Ferrigno</td></tr><tr><td>FV9FAZVF2XXDJ1A8</td><td>Christopher Ramirez</td></tr><tr><td>BYYEYSNFZ56E0W8J</td><td>Florencia Gibson</td></tr><tr><td>3OPWALAL3M3SH98G</td><td>Lewis Lang</td></tr><tr><td>6J8JXC7B82ZVFJ0E</td><td>Tammy Saleh</td></tr><tr><td>N5EGOHDKYSWFRYSP</td><td>Heather Turner</td></tr><tr><td>B4KSS6Q1K8UJROPH</td><td>Ada Stanley</td></tr><tr><td>SF8B6L08P27NIQ14</td><td>Rachel Thomas</td></tr><tr><td>6WM6DE11OA3Q78U6</td><td>Carl Clark</td></tr><tr><td>CU16RNMOTWY8ISAM</td><td>Van Wine</td></tr><tr><td>9BZN7UEU8FOF4YX2</td><td>Kira Mente</td></tr><tr><td>Q1Z20DTQGRGQ4D4N</td><td>Clarence Trimpe</td></tr><tr><td>2OI9VJGTF0OUZJIR</td><td>Elia Thorn</td></tr><tr><td>FL99MJ2KVSA1UZKL</td><td>Joseph Berner</td></tr><tr><td>ZLEWEHO3JW4T9OTZ</td><td>Thomas Grimm</td></tr><tr><td>QK0IAE9F04E5EC6U</td><td>Samuel Hepburn</td></tr><tr><td>A5Q7WMWPK3TUIY99</td><td>Jenell Fisher</td></tr><tr><td>HS5VOIA0GK4PESWH</td><td>Michael Surdam</td></tr><tr><td>8SOWV3FUAGRPR3HO</td><td>Margarett Morgan</td></tr><tr><td>PGW4E986QMKQYKWD</td><td>Gary Day</td></tr><tr><td>NJ5480ZCU4IQIGFU</td><td>Christopher Gibbs</td></tr><tr><td>07VYLGHO65I3XC1O</td><td>Jenna Helmus</td></tr><tr><td>IW8Y3KTUW1DGFCW8</td><td>Lucile Lang</td></tr><tr><td>RTOI27UIWUTVAPZR</td><td>Patricia Williams</td></tr><tr><td>5K9UEYSRX8WB1AIJ</td><td>Diane Lewis</td></tr><tr><td>ML8SPA0V2VCYOIPW</td><td>Jacqueline Odell</td></tr><tr><td>A1XZFS0Y40YRW07D</td><td>Mardell Ross</td></tr><tr><td>ZWT68Z5JHHDHQKRJ</td><td>Steven Fields</td></tr><tr><td>NCF6KHW4B1J07EB3</td><td>Jacqueline Dorsey</td></tr><tr><td>UECN3Q12JN5PGCWG</td><td>Sarah Wallace</td></tr><tr><td>2YIBV6EWJT8XS7VA</td><td>Stacey Manheim</td></tr><tr><td>6IK38WFC49MG16RU</td><td>Elsie Lund</td></tr><tr><td>TF3YD6TJQ32T2AEU</td><td>Betty Russell</td></tr><tr><td>KFR4XWRNL18Q8ZQ4</td><td>Janet Hansen</td></tr><tr><td>6P82RT7K5IEOT4CE</td><td>Michelle Johnson</td></tr><tr><td>6KECDN798JVVVSFV</td><td>Christopher Kirkwood</td></tr><tr><td>954TLB1SN9IIZUKK</td><td>Tammy Rickon</td></tr><tr><td>ZK5GD1YUPAVE0XFA</td><td>Dean Swan</td></tr><tr><td>5PV0APT3XUGMN9YP</td><td>Pam King</td></tr><tr><td>NRFOJOMULJEK3A0K</td><td>Arthur Roman</td></tr><tr><td>P5P919IQ25SK0K5Q</td><td>Ben Newton</td></tr><tr><td>PNMZB1NZ2SXF34I2</td><td>Carla Galarza</td></tr><tr><td>7ZANOLGQK6GS8M6K</td><td>Colleen Smialek</td></tr><tr><td>9XAJ0RJRN7D85OC1</td><td>Frank Oakden</td></tr><tr><td>QS9Y9J9EFJYKV9KW</td><td>Hazel Iberg</td></tr><tr><td>210CQ137W48HUHXX</td><td>Diane Hertler</td></tr><tr><td>YWN74WW41OHD45JC</td><td>Joseph Harris</td></tr><tr><td>97UNNAT790E0WM4N</td><td>Jessie Mcallister</td></tr><tr><td>GGEHU78BQPPV9224</td><td>Stephanie Lane</td></tr><tr><td>SKPB6VR0IGFPYY84</td><td>Brandon Kowalewski</td></tr><tr><td>VZV7I6YA8IAX510X</td><td>Betty Factor</td></tr><tr><td>5BYJQUIVIFWVE5SL</td><td>Andrew Morris</td></tr><tr><td>WOIUQEVCM87PFUCN</td><td>Barbara Herrel</td></tr><tr><td>EDM8VEDJ5Z5HLPJJ</td><td>Rebecca Miller</td></tr><tr><td>NG8DVRBW0FTZQFOZ</td><td>Nadine Rachal</td></tr><tr><td>9LCT88TNQ7GP93JN</td><td>Cassandra Inman</td></tr><tr><td>8MEHSDA7H56Y9LW6</td><td>Kristine Griggs</td></tr><tr><td>S0T49GMHQIMYVRS9</td><td>Noel Phelps</td></tr><tr><td>GQ6VCRVEYO76RBC0</td><td>Wayne Ross</td></tr><tr><td>QO24Z5D8MBYBHHFK</td><td>Wayne Harper</td></tr><tr><td>3MSNX6N8EQWQOW64</td><td>William Switzer</td></tr><tr><td>F3JUZDE6ZFS5SCU3</td><td>Robert Lea</td></tr><tr><td>1F2BKFV9G2BOG8I9</td><td>Gracie Wasden</td></tr><tr><td>QDPIZZ7Y3A0SMYA9</td><td>Manda Evans</td></tr><tr><td>L8ZAYIRA81XVFXOL</td><td>Judy Browne</td></tr><tr><td>TEFC4HKRBDZO6DBY</td><td>Samantha Alvarez</td></tr><tr><td>AW0U4QZE3YIW17PW</td><td>Yesenia Ennis</td></tr><tr><td>Y28636M1R9R5XTH5</td><td>Linda Milazzo</td></tr><tr><td>YH384CA732H7SH9O</td><td>Mark Sanchez</td></tr><tr><td>SQ77YG3RXI5VCJX7</td><td>Melissa Williams</td></tr><tr><td>2N7FFXLJZANMZOXR</td><td>Angie York</td></tr><tr><td>CILBBO3VETGHOCW7</td><td>George Haas</td></tr><tr><td>LSQJS5HOTCZ93H2I</td><td>Bryan Shallenberger</td></tr><tr><td>GUQ7ISRIT7FNRVTE</td><td>Daniel Burchett</td></tr><tr><td>FF5OSXCHXG8ZALYW</td><td>Kenneth Rustad</td></tr><tr><td>YD601FMY7LBMUJJD</td><td>Howard Ford</td></tr><tr><td>16394VUI1CX8GJRY</td><td>John Glenn</td></tr><tr><td>LUZ5HP3WUJ444VF0</td><td>Victoria Olson</td></tr><tr><td>CRWYQ6AAKVQNRDNR</td><td>Ruth Tompkins</td></tr><tr><td>NIW73ZQMGEOB7BHT</td><td>Hazel Dickerson</td></tr><tr><td>4DEVEX8RN3IBSWZP</td><td>Susie Jondle</td></tr><tr><td>W4XVNC000NRCKON6</td><td>Frances Northcutt</td></tr><tr><td>DVV5GLHWKUGPZO95</td><td>Donald Saur</td></tr><tr><td>1LKL93XQREEOZK0Y</td><td>Edwin Goan</td></tr><tr><td>7WF243MDZ3EJ05PT</td><td>Richard Swinford</td></tr><tr><td>9UVSA52Z4KB0P593</td><td>Frank Munson</td></tr><tr><td>9LUFFNQ919WZ2K3J</td><td>Tony Jones</td></tr><tr><td>SYC7RNKEFAK3RGTH</td><td>Danny Davison</td></tr><tr><td>DYSRTQMQX2D2B7TR</td><td>Ada Pappas</td></tr><tr><td>CL7KIHFE85QBJ82S</td><td>Rick Quintanar</td></tr><tr><td>OFRM2WHOD37S1TNU</td><td>Sharon Hamilton</td></tr><tr><td>YEW0KJFJYEAY6820</td><td>Milan Mcnabb</td></tr><tr><td>P1C11WQ78DQILK3E</td><td>Joseph Serasio</td></tr><tr><td>GQZEZ8RKPNQNPFJX</td><td>Carlton West</td></tr><tr><td>A1FEVBMBV2Q586RQ</td><td>Jennifer Thomas</td></tr><tr><td>L81YYG8DZIUSSEBG</td><td>Tony Northcutt</td></tr><tr><td>FSZ8O9CRPM3ZX466</td><td>Leonard Angelo</td></tr><tr><td>P4K0E7JHKAPYJ794</td><td>Manuel Vasher</td></tr><tr><td>R54KNV3B0DLODKGY</td><td>Ella Davis</td></tr><tr><td>5MQHHH8RG8Z6SMWA</td><td>Mary Light</td></tr><tr><td>Z0U3DRFA7ABRC4GD</td><td>Gertrude Boyd</td></tr><tr><td>WVMTNYIVR02Q3GU4</td><td>Kenneth Olson</td></tr><tr><td>CLEULHOWR6DZC4ZJ</td><td>Rachel Caballero</td></tr><tr><td>E7SZU9JMNMAGN6RL</td><td>Jeffry Ho</td></tr><tr><td>KRTUR6QPAX7L5X3R</td><td>David Pierce</td></tr><tr><td>QJIPZHTA43GWVUVY</td><td>Curtis Marren</td></tr><tr><td>1VTC4ALKC8BS40KT</td><td>Gregory Schlichter</td></tr><tr><td>4L8F5SR61SL5PTQU</td><td>Leslie Lewis</td></tr><tr><td>2ZSR7EK3O4AYB47L</td><td>Wanda Jemerson</td></tr><tr><td>R8TK8KU538YNW24J</td><td>Herbert Newell</td></tr><tr><td>L6K1S1TIG41C1P78</td><td>Larry Jennings</td></tr><tr><td>8V8HD97OFFA505D5</td><td>Dennis Webb</td></tr><tr><td>VQZHOTV9ZY7G8E8G</td><td>Ethel Tupper</td></tr><tr><td>VLCM6VXZBQALUI1N</td><td>Boyd Reis</td></tr><tr><td>1YXNBPURTD4CAVEO</td><td>Elbert Woods</td></tr><tr><td>SBM750EJS70KX56O</td><td>James Harrison</td></tr><tr><td>OV7YNOMBRZ9Z52B7</td><td>Erica Bryant</td></tr><tr><td>PUEODHWAR7PERPWP</td><td>Cherry Phillips</td></tr><tr><td>Q2W6FPCMAXU1OV3Q</td><td>Natalie Cardinal</td></tr><tr><td>4OHGZI6WG9X7AGDU</td><td>Stephen Moore</td></tr><tr><td>SUF59WP7YSXSGFQV</td><td>Shirley Sidney</td></tr><tr><td>S8ESJ4C56BV8LFSF</td><td>Margaret Cohen</td></tr><tr><td>6XNZPJPS6MAR83UL</td><td>Carolyn Smith</td></tr><tr><td>PUFE7RIC74KGFVIC</td><td>Joseph Dunn</td></tr><tr><td>ISA8445OKV13F3YZ</td><td>Oscar Mantini</td></tr><tr><td>0FL54QXVTSOYNDJS</td><td>Ray Hastings</td></tr><tr><td>I1MSLJ9CJ6BBCCTU</td><td>Dorian Adkins</td></tr><tr><td>0BPH07PETEFAHT1X</td><td>Harold Contreras</td></tr><tr><td>NBOXWC42D4R7IQDP</td><td>Pete Orozco</td></tr><tr><td>EJ4X7J85CMNEZ6UH</td><td>Milton Johnson</td></tr><tr><td>FCW1U79W3AH0V5LC</td><td>Timothy Minnis</td></tr><tr><td>TG8XOMIF4NU8CTAI</td><td>Lynn Dechant</td></tr><tr><td>534ESAMPETPUGAXC</td><td>James Moore</td></tr><tr><td>AJTNNU39C917CGL8</td><td>Gregory Williams</td></tr><tr><td>NCSC6S6XU5TJF3VC</td><td>Billy Breece</td></tr><tr><td>GCASAHID9MVGA88Y</td><td>Jacob Wood</td></tr><tr><td>RPTS7L1DCDGLBZBW</td><td>Patricia Coleman</td></tr><tr><td>INVT9K7HFTV94PF0</td><td>Jose Ritz</td></tr><tr><td>8Z8FQ5CLNMB7R46C</td><td>Mattie Hall</td></tr><tr><td>326PG98FZEDUMLPF</td><td>Marcy Holman</td></tr><tr><td>HJRTSRADZBOPZQ6P</td><td>Jacob Rodriguez</td></tr><tr><td>E9NAA088XUFLPK2M</td><td>Elnora Mason</td></tr><tr><td>1JOHIAOL9TVUWV79</td><td>Roberta Decker</td></tr><tr><td>7MXRJFDK27TJOG45</td><td>Marcy Bair</td></tr><tr><td>INVZR96LZR7LJU1S</td><td>Michael Fejes</td></tr><tr><td>N6L4PQZDNEDUEIWT</td><td>Paula Taylor</td></tr><tr><td>ITBLG2WMC9XQ4MPC</td><td>Hector Levings</td></tr><tr><td>G9T8KNQF8XD2XHTS</td><td>Melvin Dupree</td></tr><tr><td>0CF5HSNN53K6N0N0</td><td>Jack Squier</td></tr><tr><td>J5UR4Z76BAVCN42W</td><td>Fredrick Kim</td></tr><tr><td>GFDPGYUQTRG0IH7I</td><td>Gwen Pittman</td></tr><tr><td>6Y7D18SZ2GT01H1H</td><td>Jason Thornton</td></tr><tr><td>DR6T4931C2QPI5YZ</td><td>Buster Stromberg</td></tr><tr><td>U34YU87T9RGQ909K</td><td>Opal Jones</td></tr><tr><td>Q9890AFSIJO9VGNM</td><td>Barbara Ramos</td></tr><tr><td>KY04NS9VIPROW4QI</td><td>Francisco Baltazar</td></tr><tr><td>Z8BL2NLL9ZX0P7T4</td><td>Michael Horne</td></tr><tr><td>5NT3KUST1B1JZE47</td><td>Joan Bocchi</td></tr><tr><td>XOJFUUOKVD4600B2</td><td>Jonathan Allen</td></tr><tr><td>U7UGOTXCS95N8I39</td><td>Amanda Cooper</td></tr><tr><td>VDNTQ8D1X0JJLVRL</td><td>Nancy Splawn</td></tr><tr><td>RFP7SELUQ9WKHU0N</td><td>Charles Ricketts</td></tr><tr><td>UMGYZWYAZKLBMPDO</td><td>Denise Sanchez</td></tr><tr><td>GK0FO75LDHB17OWK</td><td>Anthony Roden</td></tr><tr><td>J8F704C816SSWJIZ</td><td>Eric Thomas</td></tr><tr><td>GU9TH5CEPDOE56NA</td><td>Michell Booth</td></tr><tr><td>XUPAV9V0C5RZ0FPB</td><td>Christopher Francis</td></tr><tr><td>RUIACTB314FUYT53</td><td>Willie Jordan</td></tr><tr><td>BQKNQZ2T8LHETQUJ</td><td>Merle Garcia</td></tr><tr><td>VQ59VHGZZ0J5TYE9</td><td>Chana Fowler</td></tr><tr><td>IC3XSL9YZWYIZV3K</td><td>Geri Holston</td></tr><tr><td>47LSGYR3LIB0ZK8M</td><td>Eric Morrison</td></tr><tr><td>05USHZ7BLRS3JV37</td><td>David Ealey</td></tr><tr><td>ISBNNH8GZWNG9CHD</td><td>Kathryn Marshburn</td></tr><tr><td>1FHIOAHKPYBTRANM</td><td>David Leitner</td></tr><tr><td>PN36EV9TH88MUP9J</td><td>Holly Hicks</td></tr><tr><td>7GQPEPCIM7OYB0QI</td><td>Betty Donnell</td></tr><tr><td>2DO2NHI6NONVD47Z</td><td>Guillermo Plant</td></tr><tr><td>PIJR7ZNFBDHCN25Y</td><td>Georgette Currie</td></tr><tr><td>IQ3SRYS7N7G5DKSN</td><td>Jim Culbreath</td></tr><tr><td>MNFZUBMFYQ84RT48</td><td>Thomas Lucas</td></tr><tr><td>CNDRWR5V7AUC9A6Y</td><td>Jonathan Phelps</td></tr><tr><td>RW4O7831F17A2YE7</td><td>Justina Cave</td></tr><tr><td>ONTC9XI9U75U4NF0</td><td>Luz Johnson</td></tr><tr><td>UIETYKK11LXM87N0</td><td>Mary Ramsey</td></tr><tr><td>6361H2FRWL1QYC3V</td><td>Alma Porter</td></tr><tr><td>MBOOU4LRZUTJ9UUA</td><td>Gregory Outen</td></tr><tr><td>7KAO0NOD1UI6EBYV</td><td>Kenneth Long</td></tr><tr><td>W0XQUMUZZ8PHCRH9</td><td>Robert Stegall</td></tr><tr><td>UQCZS3FKR22YIMGN</td><td>Stephen Houston</td></tr><tr><td>BD9TLA4NQL3F2DB1</td><td>Harriet Streicher</td></tr><tr><td>YF1PO5Q7AZ2R0S2Q</td><td>Willie Hust</td></tr><tr><td>PO9RCK4W4P7192J6</td><td>Nicole Sweet</td></tr><tr><td>P06XRG1XRH4RZM1S</td><td>David Mills</td></tr><tr><td>Y0549M7UMYA7OZ15</td><td>Frederick Byker</td></tr><tr><td>DM6KIIRT8RME4B2J</td><td>Maria Zambrano</td></tr><tr><td>SNS2CHVE8ZGEJ3LF</td><td>Beverly Smith</td></tr><tr><td>YBWRC1WQHXE895WV</td><td>Joel Woodbury</td></tr><tr><td>OK48LRD3R5D8P4FE</td><td>Kathy Robinson</td></tr><tr><td>7BHT6W2NBWQC5X8T</td><td>Latesha Tessitore</td></tr><tr><td>67UBBLGZ364RX7EW</td><td>Mildred Evans</td></tr><tr><td>P0QR96147PWS5TPJ</td><td>Shawn Helbert</td></tr><tr><td>UY0XOUALWSGVYA9H</td><td>Mary Schuch</td></tr><tr><td>OHN5V8NAJC910BYH</td><td>Lisa Gay</td></tr><tr><td>WKFRFUK0PFCBS8MX</td><td>Timothy Cluff</td></tr><tr><td>UUMKI9RDAFGNB6O5</td><td>Janet Moniz</td></tr><tr><td>QLSJNJC8YLLYZ2V2</td><td>Ann Mugleston</td></tr><tr><td>8GUAS5CDF5XU7RGE</td><td>Kenneth Martin</td></tr><tr><td>B0YQ5U1KI1X3SDJ8</td><td>James Kelly</td></tr><tr><td>H15P0RJ1ELH61RHN</td><td>Aura Young</td></tr><tr><td>JM0M91Z2SDFTRC50</td><td>Mattie Oxford</td></tr><tr><td>WM6NROCVJSAUMHR0</td><td>Danny Urick</td></tr><tr><td>MS9X776GHMP4RSCQ</td><td>Leroy Johns</td></tr><tr><td>HX7Y25GQC3CU0YZK</td><td>Carol Harris</td></tr><tr><td>UPH9HE8Z5UCJE64P</td><td>Matthew Miller</td></tr><tr><td>NE8FDXC9N9IS1V58</td><td>Sue Phillips</td></tr><tr><td>XVAXFSZ1DE902UEZ</td><td>Michael Morrill</td></tr><tr><td>IOWJ9WHVI96VZWXU</td><td>Mary Drummond</td></tr><tr><td>R3YNUEK6BFCR9KW6</td><td>Madeline Adkins</td></tr><tr><td>1N7BXY0X77FD42NR</td><td>Berenice Jodoin</td></tr><tr><td>KPL0DA835AOLCOAY</td><td>Kathleen Williams</td></tr><tr><td>F49C9DGV5T0ML2IB</td><td>Harry Collier</td></tr><tr><td>7QSMK0EAF3SUWBEY</td><td>Jason Smith</td></tr><tr><td>3BG1V1LA09JIRV4J</td><td>Jose Martinez</td></tr><tr><td>IRF3D60TYZEJUAOS</td><td>Charles Settles</td></tr><tr><td>WGW2T3B0SGV55B7W</td><td>Velma Rivers</td></tr><tr><td>VS9NTDY7ZBQ6IOFX</td><td>Monica Mency</td></tr><tr><td>SXX66MA06B8C6LSI</td><td>Jimmy Maloney</td></tr><tr><td>55WNKA07N1U4HG2D</td><td>Raymond Segal</td></tr><tr><td>6GBOS1AO6TDDF39Q</td><td>Robert Cote</td></tr><tr><td>IACRWDMI9XK13SFZ</td><td>Ruth Prohaska</td></tr><tr><td>C3SK9SC6XW0XTAT9</td><td>Jacob Otero</td></tr><tr><td>7UYAH2XKIHHSPCAJ</td><td>Harold Ferguson</td></tr><tr><td>377V52VDS28SZYXO</td><td>John Hanna</td></tr><tr><td>XJ4IL8YH0NWV2A75</td><td>Darlene Burges</td></tr><tr><td>EFGBHKXAUO8N7L1X</td><td>Frank Akerley</td></tr><tr><td>H0HLQ54LKFM4576K</td><td>Mary Denton</td></tr><tr><td>KCF7P36U0NLM0E2W</td><td>Patricia Collazo</td></tr><tr><td>LSLB91X9EV671OMJ</td><td>Joshua Grant</td></tr><tr><td>RWCRJF07AOZU9HJ2</td><td>James Rodriguez</td></tr><tr><td>YI5HUMHIFZ4B9485</td><td>Ann Cervantes</td></tr><tr><td>G2AN8UUT7YT5B0FQ</td><td>Jessica Chapman</td></tr><tr><td>MN9G09J6NLQG26AI</td><td>Joseph Keller</td></tr><tr><td>NM8G114168ARV8N3</td><td>Stephanie Ackerley</td></tr><tr><td>XKW13E5W3MMFPXL3</td><td>Jeremy Presley</td></tr><tr><td>ZL3E62J5VX1LB5KM</td><td>Christopher Exum</td></tr><tr><td>74AWJMV464RQ6F5W</td><td>Clinton West</td></tr><tr><td>JAJKMWFT6RJRJVYD</td><td>Josephine Lee</td></tr><tr><td>1O1OLMA5R2KV85YL</td><td>Robin Brackenridge</td></tr><tr><td>BWXYGRRXC3XTX2N5</td><td>Hazel Bloodworth</td></tr><tr><td>JUMF21H8O3DSUCXW</td><td>James Lee</td></tr><tr><td>E5Y0CH8UGKFZ8MB5</td><td>Myrtle Redmond</td></tr><tr><td>1JPSZ91MTJDKD8DX</td><td>Linda Carroll</td></tr><tr><td>RJNQFX9N9HGXLTBT</td><td>Ernesto Richter</td></tr><tr><td>YIH17W1PK390YFI3</td><td>Randy Hill</td></tr><tr><td>EK7HG909GCNJIX12</td><td>Anthony Mears</td></tr><tr><td>YA3L69VTL7UAO7M0</td><td>James Haig</td></tr><tr><td>XL1M7ECQYTNUOH4N</td><td>Joan Anthony</td></tr><tr><td>C87P1MQ2JY3S1VNH</td><td>Kevin Alvarez</td></tr><tr><td>OE7AU8IQ7MXSYQO8</td><td>Jenny Boesen</td></tr><tr><td>71FZQP2XREON07P5</td><td>Eugene Broderick</td></tr><tr><td>0I2LS16GXWLOSOSZ</td><td>Larry Lovett</td></tr><tr><td>2WGFG3PBP7JFPSWY</td><td>Cheryl Kozak</td></tr><tr><td>PM05ZGSVB8R6WXC4</td><td>Kenneth Winn</td></tr><tr><td>JVZXZATGUVHSWUQW</td><td>Judy Sanches</td></tr><tr><td>CYTED5LCYZO8XVY2</td><td>Lori Grayson</td></tr><tr><td>4ODGD652E0SUHS7U</td><td>Jeannette Pawlosky</td></tr><tr><td>8GJR4EYX7Y1JQ3D0</td><td>Elizabeth Barton</td></tr><tr><td>VO81XTSKUQ3MYCE7</td><td>Ofelia Mullen</td></tr><tr><td>FHZO2SB0PWGD3OJS</td><td>Willie Soto</td></tr><tr><td>GRXUM6NBOFPN17C0</td><td>Albert Kimrey</td></tr><tr><td>LQBLX4ZU19DA6TGC</td><td>Melissa Oleary</td></tr><tr><td>BJU3ZV4SMRURZM5N</td><td>Mark Watkins</td></tr><tr><td>371AXDDB6M3VLKDB</td><td>Sharon Calzada</td></tr><tr><td>JI39SR5FGI8UVO6L</td><td>Ronald Jackson</td></tr><tr><td>5Z8LI3J3KJBRP410</td><td>Carol Schweitzer</td></tr><tr><td>I5YO4QYC9VWK09AM</td><td>Silvia Mason</td></tr><tr><td>ZBD1MAGJWQ2R642N</td><td>Lawrence Deck</td></tr><tr><td>WDQGHT9N1S9XHHH0</td><td>Leah Whitaker</td></tr><tr><td>1TVMT0QGJ7M3LZX0</td><td>Thomas Boyd</td></tr><tr><td>C5QMSZTP07AO93ZR</td><td>Jason Braatz</td></tr><tr><td>KR23YQWKJO775M8X</td><td>Ray Mccampbell</td></tr><tr><td>W6X360UO6WHV9JVM</td><td>Isidro Corbett</td></tr><tr><td>QJDVNV8HZ1Y7D3IT</td><td>Yolanda Decarlo</td></tr><tr><td>59YY1J8OEMNW861Z</td><td>Mark Baskerville</td></tr><tr><td>NJY553IUYBFZBKJW</td><td>Arnold Spence</td></tr><tr><td>8Y27SDUXMJD4DERT</td><td>Matthew Watson</td></tr><tr><td>HYKPQN29Q4FJAA0X</td><td>John Young</td></tr><tr><td>REXST5Q0WNYPZOCF</td><td>Steven Gentry</td></tr><tr><td>A0UUI1N0SPLOUZZV</td><td>Ezra Corbin</td></tr><tr><td>GCN5EAN1ZYSFQW6E</td><td>Ronald Erwin</td></tr><tr><td>GPWF5NSERAO3QX1R</td><td>Angela Coffman</td></tr><tr><td>VIBHIZPUCPCY1ZR8</td><td>Kenneth Pelosi</td></tr><tr><td>9KWX0RG2K55XPOLA</td><td>Stephanie Hepworth</td></tr><tr><td>Y8JZ2UPRVN1E0OVM</td><td>Cathy Parr</td></tr><tr><td>P33NCMUO2PX6Y6RT</td><td>Derek Walters</td></tr><tr><td>JIGPM4SBA4N2AKYY</td><td>Shelly Poisson</td></tr><tr><td>LER6J0NE5HNW0LNW</td><td>Robert Kendig</td></tr><tr><td>EGY1LPVPEKJSGXP2</td><td>Judith Johnson</td></tr><tr><td>ZGMM7BB1DGU4IMUS</td><td>Phil Hannan</td></tr><tr><td>U6Q24YI1HZY3MV6N</td><td>Nettie Rollins</td></tr><tr><td>V5QETHE17Q8LHDB7</td><td>Dorothy Andrews</td></tr><tr><td>U68WPHV8BRAGG11K</td><td>Oscar Williams</td></tr><tr><td>UEDQWEMB0B2P4VDL</td><td>Angelia Shofner</td></tr><tr><td>12RZI726YSAWMUSJ</td><td>Henry Scoggins</td></tr><tr><td>HJ59KA0WQW9XAK5F</td><td>Margaret Costa</td></tr><tr><td>LIGHVXL491IQHZAL</td><td>Stacy Coates</td></tr><tr><td>DWMHQNCYGSM5J21I</td><td>Richard Lugo</td></tr><tr><td>SKF2FH8QYJVNMOEH</td><td>Jeffrey Edwards</td></tr><tr><td>CB9XUQY7NM32U1VK</td><td>Patricia Hineline</td></tr><tr><td>EYW39TK75XM080ER</td><td>Jesse Boniello</td></tr><tr><td>K2LYAJJMMJOPUKWU</td><td>Cynthia Sullivan</td></tr><tr><td>QWDMOAOLVOGU7528</td><td>Jodi Mckay</td></tr><tr><td>AGVAPDF33H140IEJ</td><td>David Blanks</td></tr><tr><td>3ALA78WIVRG1COKR</td><td>Jean Windmeyer</td></tr><tr><td>2VAB3N7ABN0MAZCU</td><td>Paul Clark</td></tr><tr><td>VQF6CZ06K0RL553N</td><td>Jennifer Fields</td></tr><tr><td>TUCNKRONBF8R7T9I</td><td>Juan Soler</td></tr><tr><td>LPGAHMI15DRDPV5B</td><td>Teresa Bilger</td></tr><tr><td>O102JBUW8551Z15B</td><td>Sara Lieber</td></tr><tr><td>NWMAMRRFATHGW0R1</td><td>Kristen Powers</td></tr><tr><td>4V5ZHX4HRM47OUB5</td><td>Candace Campbell</td></tr><tr><td>6NJQVBPBVY4598C6</td><td>Gerald Ostrom</td></tr><tr><td>W2J74U3P18UNBEGG</td><td>John Crenshaw</td></tr><tr><td>0ZRTK79ZOX7BOFSN</td><td>Jocelyn King</td></tr><tr><td>RVVXV41QM5UUPTCQ</td><td>Betty Miller</td></tr><tr><td>JNC2O6MVEDL80P0D</td><td>Melissa Reeves</td></tr><tr><td>SK2BRT9HUQUWDID1</td><td>Wanda Carr</td></tr><tr><td>S7S7WT8OCLALX49V</td><td>Christopher Russey</td></tr><tr><td>F5IFM18BIWIVXRQL</td><td>Troy Lindsey</td></tr><tr><td>NZA4XJ5PTOTDWFKH</td><td>Terry Hunt</td></tr><tr><td>Z2P89UVPHPZEUPFF</td><td>Betty Griffin</td></tr><tr><td>NOM7J6G4R20S8LCP</td><td>Rosemarie Glass</td></tr><tr><td>H5NPIHYVHBG0DIXE</td><td>Dan Saez</td></tr><tr><td>K7RF21RAURCXNFXC</td><td>Kenneth Klinger</td></tr><tr><td>LINIH0WUIZCTHZJI</td><td>Alexandra Martino</td></tr><tr><td>5KR9L0UI8WIZSAVK</td><td>Linda Banuelos</td></tr><tr><td>5V2CEW0MI2S4QXCJ</td><td>Lora Mendez</td></tr><tr><td>7EU3W20DT95ABWSG</td><td>Terra Blair</td></tr><tr><td>QK029II3LJ3358ZI</td><td>Dorothy Brown</td></tr><tr><td>4322MKYDVNJCZ2TE</td><td>Tricia Burt</td></tr><tr><td>KFPGVY6VS8DCKOYV</td><td>Thomas Mauer</td></tr><tr><td>J8FC92WVD34JQXQR</td><td>Erik Rodriguez</td></tr><tr><td>AKY62M66ALEW3TT9</td><td>Patricia Moore</td></tr><tr><td>EG7L6ZBFW7Z45RCJ</td><td>Iva Tomlinson</td></tr><tr><td>CJBG9E6WWTF3WR9S</td><td>Paul Gade</td></tr><tr><td>Y2TJ5UUPUHEZZWX3</td><td>Travis Mcneil</td></tr><tr><td>2L535SCD0F09XJUY</td><td>Tammy Smiechowski</td></tr><tr><td>YBGZ6VXRKH4JTI2H</td><td>Lauren Olson</td></tr><tr><td>XV9AF82TRZ74S1PS</td><td>John Hurlbut</td></tr><tr><td>HB08EJFA8PLG4DHG</td><td>Benjamin Mcgee</td></tr><tr><td>MIMR1A8F28QKZ4YF</td><td>Jorge Guel</td></tr><tr><td>JWEWV9HTDJDQI8OX</td><td>Elsa Hoopes</td></tr><tr><td>8IUCFO4MQN9GUWU1</td><td>Nicholas Williamson</td></tr><tr><td>Z6XRAAGPHX7QCK38</td><td>Roger Mccoy</td></tr><tr><td>NRQYHMKFFK5QQP9L</td><td>Andrew Burke</td></tr><tr><td>O9L4CYX98YW7I6FE</td><td>Anthony Goode</td></tr><tr><td>JDZZ8CKVNGAO06SZ</td><td>Jennie Henslee</td></tr><tr><td>FT8HCDSQ2PBY0H5R</td><td>Audrey Warren</td></tr><tr><td>O01HSCN982V70CA7</td><td>Jimmy Dobbs</td></tr><tr><td>BC7WBXO82ZNPRY4O</td><td>Maria Green</td></tr><tr><td>8MK9DLLQY61ERSM0</td><td>Carol Rogers</td></tr><tr><td>ZN9K8H2YV1E5YS1R</td><td>Diana Morales</td></tr><tr><td>S41ZBP642YGJ1QTP</td><td>Eric Hatchett</td></tr><tr><td>QKFBXQQUSHAK1HCD</td><td>Don Betz</td></tr></tbody></table></div>"
      ]
     },
     "metadata": {
      "application/vnd.databricks.v1+output": {
       "addedWidgets": {},
       "aggData": [],
       "aggError": "",
       "aggOverflow": false,
       "aggSchema": [],
       "aggSeriesLimitReached": false,
       "aggType": "",
       "arguments": {},
       "columnCustomDisplayInfos": {},
       "data": [
        [
         "P0FYH9EO5DLAIGTZ",
         "Edith Bentley"
        ],
        [
         "8JVDTAJ06NAVMO7C",
         "Timothy Moore"
        ],
        [
         "CEO9SJ588NMQWCNC",
         "Lesley Ellsworth"
        ],
        [
         "7KAPXGCCZC0ZR0Y5",
         "Wendy Allen"
        ],
        [
         "5CLUUTR787ATGTTS",
         "Rodney Johnson"
        ],
        [
         "FVC58NFXY6CHQIHW",
         "Leon Lee"
        ],
        [
         "O2RRWUS6VNW9YP4W",
         "Marjorie Johnson"
        ],
        [
         "AGDXX3RQGLDDSMOK",
         "Joseph Mancil"
        ],
        [
         "88XQPPX4DC2RLM97",
         "Shannon Szabo"
        ],
        [
         "SCN48Z7TZXPX3UM7",
         "Herman Reeves"
        ],
        [
         "082MUQ237BFEG6AR",
         "Jerry Pless"
        ],
        [
         "DY9ID3BYIS59CFRK",
         "John Aviles"
        ],
        [
         "UJ6853X3W2WTCYVG",
         "Jeffrey Flores"
        ],
        [
         "HMDAFOGYKLRE5EV2",
         "Pricilla Noori"
        ],
        [
         "ZLCAGMEO4AO1IRGB",
         "Lisa Williams"
        ],
        [
         "0PK9IDAFZ43NCGX3",
         "Leo Beals"
        ],
        [
         "DLIRPUBVM6K437OL",
         "Cheryl Arnold"
        ],
        [
         "UT1GV3SUZW1ELWS4",
         "Eleanor Johnson"
        ],
        [
         "7BN407CC0K2FAOA7",
         "April Grant"
        ],
        [
         "2U8OQ401WRMAXJKN",
         "Andrew Newman"
        ],
        [
         "TJNVKROHQDCK6MQJ",
         "Alvin Franks"
        ],
        [
         "83JNEC1J1QBLXJJ8",
         "Tyler Ott"
        ],
        [
         "9SGLDGD61A1JX3LU",
         "Jamika Moses"
        ],
        [
         "HVIKSRIK1C50FH8Q",
         "Robert Waters"
        ],
        [
         "C0B4KHFVCA8TYRSS",
         "Jessie Vilardi"
        ],
        [
         "P6DXB4Q0CNK4I78Z",
         "Willie Cooper"
        ],
        [
         "HAYY3B6LDDG7S526",
         "Susan Rico"
        ],
        [
         "9LARAB7L82QBEIE4",
         "Katie Rodrigues"
        ],
        [
         "AXF6C7DMRD4FAAQV",
         "Ramon Green"
        ],
        [
         "M7EUJWTOIMTKZU36",
         "Gene Nerad"
        ],
        [
         "7ET65ZSZAGBPZN5L",
         "Janice Rios"
        ],
        [
         "0Y1DFDXEF9NTZE4R",
         "Una Lanier"
        ],
        [
         "64EVKAU9ESMNRQ0W",
         "Michelle Harms"
        ],
        [
         "CXZCKGXHAJ7PN6O4",
         "John Harris"
        ],
        [
         "O4C9CE3BBXVB69CP",
         "Gabrielle Harper"
        ],
        [
         "8CRRO6WZUSV5ZDHF",
         "Mildred Szerszen"
        ],
        [
         "Q5XSCYOID4LSR42I",
         "Roxanne Garrett"
        ],
        [
         "X54UQRVEOF40VHNF",
         "Maritza Thompson"
        ],
        [
         "C02C4L578FSOCTJF",
         "Marlene Owens"
        ],
        [
         "ZTMXAVX1AI5W5DSR",
         "Lester Bibber"
        ],
        [
         "64W06E7A9VJWPQF5",
         "Steve Schwalb"
        ],
        [
         "80SLAGQ2H9TENK4B",
         "Jose Koontz"
        ],
        [
         "AV3PC0UQHLIBNS3G",
         "Chasity Garner"
        ],
        [
         "X5Z8TS9K3BWKQZD3",
         "Denise Bandy"
        ],
        [
         "7KTI2FN875JPUOTF",
         "Derek Lavette"
        ],
        [
         "QRS1A8BD9MEHI21Q",
         "Amber Roth"
        ],
        [
         "R460ZA3J4HKNKPQ8",
         "John Beaudoin"
        ],
        [
         "UFLMWFVMOOYENUL5",
         "Veronica Martinez"
        ],
        [
         "Y0HLVLLS8BSLIY1K",
         "Josie Washington"
        ],
        [
         "DNJBDVVI6BRLBPHE",
         "Mack Duggar"
        ],
        [
         "RST95V5R2BF4DX43",
         "Cory Trickel"
        ],
        [
         "74XXKN7N16WVZECF",
         "Amanda Terrell"
        ],
        [
         "3QH495WG1SI67FS6",
         "Christopher Woodard"
        ],
        [
         "VGDZULI86OH6499M",
         "Albert Rollins"
        ],
        [
         "KF9TMX2DRGMEC96B",
         "David Lowery"
        ],
        [
         "MHF2KMKA3AKQNID5",
         "Ronald Mccroskey"
        ],
        [
         "8NU64HY3M2ZQYXZU",
         "Thomas Watson"
        ],
        [
         "BU6BGT7QPXNUY2RO",
         "Ashley Upright"
        ],
        [
         "UODO0E3FMQ6I8SVM",
         "Richard Castro"
        ],
        [
         "Y8PSH5OWK1CN2934",
         "Grover Stanley"
        ],
        [
         "GLQV334POH4REUMS",
         "Seymour Taylor"
        ],
        [
         "4LIPY9OFVGP86P27",
         "Michael Means"
        ],
        [
         "VK3KZDLB8HV5YUAX",
         "Joseph Nale"
        ],
        [
         "GH8ARB7HW9FTSG99",
         "Max Carlo"
        ],
        [
         "3R0YZJ3PWWV3WW4R",
         "Tamica Davis"
        ],
        [
         "VFSZQUIYGRN2PFR1",
         "Jose Stickney"
        ],
        [
         "IZ1OPVRXBA4X82E2",
         "Richard Gattshall"
        ],
        [
         "8ILV3KPGZ8H3DKFP",
         "Gary Moshier"
        ],
        [
         "NBCZZD1ITCBJ5YX1",
         "Arthur Sylvester"
        ],
        [
         "8KT16VK3K66L8Z6Q",
         "Sarah Jaco"
        ],
        [
         "N4MYRNGJNE6819FB",
         "Carol Miller"
        ],
        [
         "LILCCDLUPJO47EU1",
         "Crystal Bashore"
        ],
        [
         "PPWBEBL3Q67R7OU9",
         "Jeffrey Brindle"
        ],
        [
         "1GLRLJCD4HBUVRLJ",
         "Socorro Heard"
        ],
        [
         "NXLE8MNMFY9Q9NRO",
         "Harry Dumas"
        ],
        [
         "ARJG3Q6PUTB1DNDD",
         "Christina Lee"
        ],
        [
         "R1L07E190JQGSA42",
         "Mary Stradley"
        ],
        [
         "CSNPVX9FSXE35BJ8",
         "Raymond Hewitt"
        ],
        [
         "K456TNPTC6PBDEQU",
         "Robert Sieberg"
        ],
        [
         "2V1C245SQXPVHR61",
         "Kevin Villanueva"
        ],
        [
         "E2ECSKJZSR3SSKCC",
         "Elsa Chenault"
        ],
        [
         "3UAB0PYND1WCZVZO",
         "Ruben Crocker"
        ],
        [
         "9Y0LLMJ0HJQ93W41",
         "Curt Shaw"
        ],
        [
         "1OIRO8MPWFVX0P6U",
         "John Noland"
        ],
        [
         "XU4RJVAWDNPZPBJG",
         "Elwanda Shewmaker"
        ],
        [
         "SP0N3G92YZNLH34Y",
         "Ruben Sutton"
        ],
        [
         "HQRE2LG21W2OHCY5",
         "John Rodriguez"
        ],
        [
         "XKO58UE8J5784EY9",
         "Michael Mackenzie"
        ],
        [
         "TD5ZWI6125ADYEU1",
         "Thomas Capobianco"
        ],
        [
         "LTXEJ2R3FWVKHKNW",
         "Dolores Gonsalves"
        ],
        [
         "G4HC84HVRTYE7LKA",
         "Ramon Kurland"
        ],
        [
         "GUQG3Q0Z9NXFINAP",
         "Marian Reper"
        ],
        [
         "TAMXPZQ8MAOT8W2A",
         "Betty Gagnon"
        ],
        [
         "OVPY8DBGOAWR8FZ0",
         "Kenneth Brown"
        ],
        [
         "5HHTNZMS7IKXZ4JN",
         "Sarah Smith"
        ],
        [
         "NRUDT64BMWJE3VQT",
         "Greg Brinkley"
        ],
        [
         "7ZVNZK5TZBJ1MFHN",
         "Raymond Scharich"
        ],
        [
         "OF1RAK0LZKIVTRU9",
         "Ruth Shear"
        ],
        [
         "T2LBAPSG044EFXTT",
         "William Michel"
        ],
        [
         "VRVN6Q49FS2YQTXH",
         "Michelle Sheehan"
        ],
        [
         "GTKO7EPYZWFFXWAA",
         "Charles Johnson"
        ],
        [
         "L7BDKIJ5AYSF2HEY",
         "Grace Beam"
        ],
        [
         "W4HPG36MJPH0MUQ8",
         "Rodney Hanson"
        ],
        [
         "OJG2V2XYY3VPOAXN",
         "Eddie Martin"
        ],
        [
         "ZM2JKGYBBFIF86C8",
         "William Thompson"
        ],
        [
         "7LPYVK4W0MZ634UZ",
         "Helene Kelly"
        ],
        [
         "U97GV7LYA8OPTCW8",
         "Stan Beaty"
        ],
        [
         "VLSE4Y2B14J0IR57",
         "Marie Molden"
        ],
        [
         "P94NG1UEN6188FRG",
         "Glen Weese"
        ],
        [
         "GPKWZWUFJD6DI5LY",
         "David Barron"
        ],
        [
         "RJQIDDAQNL5XUWFY",
         "Erma Castillo"
        ],
        [
         "TKK1I9MXB9H9SP6V",
         "Ralph Doepke"
        ],
        [
         "71OTKEXHL8NNOPMV",
         "Michael Newberry"
        ],
        [
         "M2YJGYYBAH1ZTMVZ",
         "Robert Provost"
        ],
        [
         "T9S4K1W6LGN18GE2",
         "Wilma Jameson"
        ],
        [
         "YDO6VWGYIRK3UBGS",
         "Virginia Burnette"
        ],
        [
         "41BV9DB69IMCFHOU",
         "Gordon Burgos"
        ],
        [
         "5H7F1Y0C40TZ8Y04",
         "Richard Suggs"
        ],
        [
         "P4JUSTIV94U997CD",
         "Robert Smith"
        ],
        [
         "C5NKP7SMCFP5I06D",
         "Richard Bianco"
        ],
        [
         "XM04H2PV0LPK6FR7",
         "Monica Griggs"
        ],
        [
         "TA7T3TSTJESE8Y3X",
         "Lindsay Robertson"
        ],
        [
         "BEMYAR2FXZ6YO2IV",
         "Dwayne Brooks"
        ],
        [
         "HK0EI7ZEJ4IS8G3G",
         "Shannon Hallmark"
        ],
        [
         "9BE40KF3LA57WP76",
         "Heather Marchand"
        ],
        [
         "79B3H7ALTV91JHYR",
         "Andrea Montgomery"
        ],
        [
         "GWMN1HYJFKZBL22N",
         "Darin Brickhouse"
        ],
        [
         "EATNITEEQ4PN64EU",
         "Michael Guyton"
        ],
        [
         "G44LNG5YJ53T5S4Q",
         "Hee Thompson"
        ],
        [
         "U3LQYCUDDSYKS4SF",
         "Marcus Darden"
        ],
        [
         "1Z8M4BKSUD6J1R4K",
         "Danielle Gagnon"
        ],
        [
         "TE7A0PDHJDD591QZ",
         "Sally Allen"
        ],
        [
         "RRD2R9XMAJDP7TUY",
         "Lois Bowers"
        ],
        [
         "DLJJ56C2RR2D03QS",
         "Christopher Simmons"
        ],
        [
         "YL5TOOT3PW76Z8BV",
         "Betsy Ferrigno"
        ],
        [
         "FV9FAZVF2XXDJ1A8",
         "Christopher Ramirez"
        ],
        [
         "BYYEYSNFZ56E0W8J",
         "Florencia Gibson"
        ],
        [
         "3OPWALAL3M3SH98G",
         "Lewis Lang"
        ],
        [
         "6J8JXC7B82ZVFJ0E",
         "Tammy Saleh"
        ],
        [
         "N5EGOHDKYSWFRYSP",
         "Heather Turner"
        ],
        [
         "B4KSS6Q1K8UJROPH",
         "Ada Stanley"
        ],
        [
         "SF8B6L08P27NIQ14",
         "Rachel Thomas"
        ],
        [
         "6WM6DE11OA3Q78U6",
         "Carl Clark"
        ],
        [
         "CU16RNMOTWY8ISAM",
         "Van Wine"
        ],
        [
         "9BZN7UEU8FOF4YX2",
         "Kira Mente"
        ],
        [
         "Q1Z20DTQGRGQ4D4N",
         "Clarence Trimpe"
        ],
        [
         "2OI9VJGTF0OUZJIR",
         "Elia Thorn"
        ],
        [
         "FL99MJ2KVSA1UZKL",
         "Joseph Berner"
        ],
        [
         "ZLEWEHO3JW4T9OTZ",
         "Thomas Grimm"
        ],
        [
         "QK0IAE9F04E5EC6U",
         "Samuel Hepburn"
        ],
        [
         "A5Q7WMWPK3TUIY99",
         "Jenell Fisher"
        ],
        [
         "HS5VOIA0GK4PESWH",
         "Michael Surdam"
        ],
        [
         "8SOWV3FUAGRPR3HO",
         "Margarett Morgan"
        ],
        [
         "PGW4E986QMKQYKWD",
         "Gary Day"
        ],
        [
         "NJ5480ZCU4IQIGFU",
         "Christopher Gibbs"
        ],
        [
         "07VYLGHO65I3XC1O",
         "Jenna Helmus"
        ],
        [
         "IW8Y3KTUW1DGFCW8",
         "Lucile Lang"
        ],
        [
         "RTOI27UIWUTVAPZR",
         "Patricia Williams"
        ],
        [
         "5K9UEYSRX8WB1AIJ",
         "Diane Lewis"
        ],
        [
         "ML8SPA0V2VCYOIPW",
         "Jacqueline Odell"
        ],
        [
         "A1XZFS0Y40YRW07D",
         "Mardell Ross"
        ],
        [
         "ZWT68Z5JHHDHQKRJ",
         "Steven Fields"
        ],
        [
         "NCF6KHW4B1J07EB3",
         "Jacqueline Dorsey"
        ],
        [
         "UECN3Q12JN5PGCWG",
         "Sarah Wallace"
        ],
        [
         "2YIBV6EWJT8XS7VA",
         "Stacey Manheim"
        ],
        [
         "6IK38WFC49MG16RU",
         "Elsie Lund"
        ],
        [
         "TF3YD6TJQ32T2AEU",
         "Betty Russell"
        ],
        [
         "KFR4XWRNL18Q8ZQ4",
         "Janet Hansen"
        ],
        [
         "6P82RT7K5IEOT4CE",
         "Michelle Johnson"
        ],
        [
         "6KECDN798JVVVSFV",
         "Christopher Kirkwood"
        ],
        [
         "954TLB1SN9IIZUKK",
         "Tammy Rickon"
        ],
        [
         "ZK5GD1YUPAVE0XFA",
         "Dean Swan"
        ],
        [
         "5PV0APT3XUGMN9YP",
         "Pam King"
        ],
        [
         "NRFOJOMULJEK3A0K",
         "Arthur Roman"
        ],
        [
         "P5P919IQ25SK0K5Q",
         "Ben Newton"
        ],
        [
         "PNMZB1NZ2SXF34I2",
         "Carla Galarza"
        ],
        [
         "7ZANOLGQK6GS8M6K",
         "Colleen Smialek"
        ],
        [
         "9XAJ0RJRN7D85OC1",
         "Frank Oakden"
        ],
        [
         "QS9Y9J9EFJYKV9KW",
         "Hazel Iberg"
        ],
        [
         "210CQ137W48HUHXX",
         "Diane Hertler"
        ],
        [
         "YWN74WW41OHD45JC",
         "Joseph Harris"
        ],
        [
         "97UNNAT790E0WM4N",
         "Jessie Mcallister"
        ],
        [
         "GGEHU78BQPPV9224",
         "Stephanie Lane"
        ],
        [
         "SKPB6VR0IGFPYY84",
         "Brandon Kowalewski"
        ],
        [
         "VZV7I6YA8IAX510X",
         "Betty Factor"
        ],
        [
         "5BYJQUIVIFWVE5SL",
         "Andrew Morris"
        ],
        [
         "WOIUQEVCM87PFUCN",
         "Barbara Herrel"
        ],
        [
         "EDM8VEDJ5Z5HLPJJ",
         "Rebecca Miller"
        ],
        [
         "NG8DVRBW0FTZQFOZ",
         "Nadine Rachal"
        ],
        [
         "9LCT88TNQ7GP93JN",
         "Cassandra Inman"
        ],
        [
         "8MEHSDA7H56Y9LW6",
         "Kristine Griggs"
        ],
        [
         "S0T49GMHQIMYVRS9",
         "Noel Phelps"
        ],
        [
         "GQ6VCRVEYO76RBC0",
         "Wayne Ross"
        ],
        [
         "QO24Z5D8MBYBHHFK",
         "Wayne Harper"
        ],
        [
         "3MSNX6N8EQWQOW64",
         "William Switzer"
        ],
        [
         "F3JUZDE6ZFS5SCU3",
         "Robert Lea"
        ],
        [
         "1F2BKFV9G2BOG8I9",
         "Gracie Wasden"
        ],
        [
         "QDPIZZ7Y3A0SMYA9",
         "Manda Evans"
        ],
        [
         "L8ZAYIRA81XVFXOL",
         "Judy Browne"
        ],
        [
         "TEFC4HKRBDZO6DBY",
         "Samantha Alvarez"
        ],
        [
         "AW0U4QZE3YIW17PW",
         "Yesenia Ennis"
        ],
        [
         "Y28636M1R9R5XTH5",
         "Linda Milazzo"
        ],
        [
         "YH384CA732H7SH9O",
         "Mark Sanchez"
        ],
        [
         "SQ77YG3RXI5VCJX7",
         "Melissa Williams"
        ],
        [
         "2N7FFXLJZANMZOXR",
         "Angie York"
        ],
        [
         "CILBBO3VETGHOCW7",
         "George Haas"
        ],
        [
         "LSQJS5HOTCZ93H2I",
         "Bryan Shallenberger"
        ],
        [
         "GUQ7ISRIT7FNRVTE",
         "Daniel Burchett"
        ],
        [
         "FF5OSXCHXG8ZALYW",
         "Kenneth Rustad"
        ],
        [
         "YD601FMY7LBMUJJD",
         "Howard Ford"
        ],
        [
         "16394VUI1CX8GJRY",
         "John Glenn"
        ],
        [
         "LUZ5HP3WUJ444VF0",
         "Victoria Olson"
        ],
        [
         "CRWYQ6AAKVQNRDNR",
         "Ruth Tompkins"
        ],
        [
         "NIW73ZQMGEOB7BHT",
         "Hazel Dickerson"
        ],
        [
         "4DEVEX8RN3IBSWZP",
         "Susie Jondle"
        ],
        [
         "W4XVNC000NRCKON6",
         "Frances Northcutt"
        ],
        [
         "DVV5GLHWKUGPZO95",
         "Donald Saur"
        ],
        [
         "1LKL93XQREEOZK0Y",
         "Edwin Goan"
        ],
        [
         "7WF243MDZ3EJ05PT",
         "Richard Swinford"
        ],
        [
         "9UVSA52Z4KB0P593",
         "Frank Munson"
        ],
        [
         "9LUFFNQ919WZ2K3J",
         "Tony Jones"
        ],
        [
         "SYC7RNKEFAK3RGTH",
         "Danny Davison"
        ],
        [
         "DYSRTQMQX2D2B7TR",
         "Ada Pappas"
        ],
        [
         "CL7KIHFE85QBJ82S",
         "Rick Quintanar"
        ],
        [
         "OFRM2WHOD37S1TNU",
         "Sharon Hamilton"
        ],
        [
         "YEW0KJFJYEAY6820",
         "Milan Mcnabb"
        ],
        [
         "P1C11WQ78DQILK3E",
         "Joseph Serasio"
        ],
        [
         "GQZEZ8RKPNQNPFJX",
         "Carlton West"
        ],
        [
         "A1FEVBMBV2Q586RQ",
         "Jennifer Thomas"
        ],
        [
         "L81YYG8DZIUSSEBG",
         "Tony Northcutt"
        ],
        [
         "FSZ8O9CRPM3ZX466",
         "Leonard Angelo"
        ],
        [
         "P4K0E7JHKAPYJ794",
         "Manuel Vasher"
        ],
        [
         "R54KNV3B0DLODKGY",
         "Ella Davis"
        ],
        [
         "5MQHHH8RG8Z6SMWA",
         "Mary Light"
        ],
        [
         "Z0U3DRFA7ABRC4GD",
         "Gertrude Boyd"
        ],
        [
         "WVMTNYIVR02Q3GU4",
         "Kenneth Olson"
        ],
        [
         "CLEULHOWR6DZC4ZJ",
         "Rachel Caballero"
        ],
        [
         "E7SZU9JMNMAGN6RL",
         "Jeffry Ho"
        ],
        [
         "KRTUR6QPAX7L5X3R",
         "David Pierce"
        ],
        [
         "QJIPZHTA43GWVUVY",
         "Curtis Marren"
        ],
        [
         "1VTC4ALKC8BS40KT",
         "Gregory Schlichter"
        ],
        [
         "4L8F5SR61SL5PTQU",
         "Leslie Lewis"
        ],
        [
         "2ZSR7EK3O4AYB47L",
         "Wanda Jemerson"
        ],
        [
         "R8TK8KU538YNW24J",
         "Herbert Newell"
        ],
        [
         "L6K1S1TIG41C1P78",
         "Larry Jennings"
        ],
        [
         "8V8HD97OFFA505D5",
         "Dennis Webb"
        ],
        [
         "VQZHOTV9ZY7G8E8G",
         "Ethel Tupper"
        ],
        [
         "VLCM6VXZBQALUI1N",
         "Boyd Reis"
        ],
        [
         "1YXNBPURTD4CAVEO",
         "Elbert Woods"
        ],
        [
         "SBM750EJS70KX56O",
         "James Harrison"
        ],
        [
         "OV7YNOMBRZ9Z52B7",
         "Erica Bryant"
        ],
        [
         "PUEODHWAR7PERPWP",
         "Cherry Phillips"
        ],
        [
         "Q2W6FPCMAXU1OV3Q",
         "Natalie Cardinal"
        ],
        [
         "4OHGZI6WG9X7AGDU",
         "Stephen Moore"
        ],
        [
         "SUF59WP7YSXSGFQV",
         "Shirley Sidney"
        ],
        [
         "S8ESJ4C56BV8LFSF",
         "Margaret Cohen"
        ],
        [
         "6XNZPJPS6MAR83UL",
         "Carolyn Smith"
        ],
        [
         "PUFE7RIC74KGFVIC",
         "Joseph Dunn"
        ],
        [
         "ISA8445OKV13F3YZ",
         "Oscar Mantini"
        ],
        [
         "0FL54QXVTSOYNDJS",
         "Ray Hastings"
        ],
        [
         "I1MSLJ9CJ6BBCCTU",
         "Dorian Adkins"
        ],
        [
         "0BPH07PETEFAHT1X",
         "Harold Contreras"
        ],
        [
         "NBOXWC42D4R7IQDP",
         "Pete Orozco"
        ],
        [
         "EJ4X7J85CMNEZ6UH",
         "Milton Johnson"
        ],
        [
         "FCW1U79W3AH0V5LC",
         "Timothy Minnis"
        ],
        [
         "TG8XOMIF4NU8CTAI",
         "Lynn Dechant"
        ],
        [
         "534ESAMPETPUGAXC",
         "James Moore"
        ],
        [
         "AJTNNU39C917CGL8",
         "Gregory Williams"
        ],
        [
         "NCSC6S6XU5TJF3VC",
         "Billy Breece"
        ],
        [
         "GCASAHID9MVGA88Y",
         "Jacob Wood"
        ],
        [
         "RPTS7L1DCDGLBZBW",
         "Patricia Coleman"
        ],
        [
         "INVT9K7HFTV94PF0",
         "Jose Ritz"
        ],
        [
         "8Z8FQ5CLNMB7R46C",
         "Mattie Hall"
        ],
        [
         "326PG98FZEDUMLPF",
         "Marcy Holman"
        ],
        [
         "HJRTSRADZBOPZQ6P",
         "Jacob Rodriguez"
        ],
        [
         "E9NAA088XUFLPK2M",
         "Elnora Mason"
        ],
        [
         "1JOHIAOL9TVUWV79",
         "Roberta Decker"
        ],
        [
         "7MXRJFDK27TJOG45",
         "Marcy Bair"
        ],
        [
         "INVZR96LZR7LJU1S",
         "Michael Fejes"
        ],
        [
         "N6L4PQZDNEDUEIWT",
         "Paula Taylor"
        ],
        [
         "ITBLG2WMC9XQ4MPC",
         "Hector Levings"
        ],
        [
         "G9T8KNQF8XD2XHTS",
         "Melvin Dupree"
        ],
        [
         "0CF5HSNN53K6N0N0",
         "Jack Squier"
        ],
        [
         "J5UR4Z76BAVCN42W",
         "Fredrick Kim"
        ],
        [
         "GFDPGYUQTRG0IH7I",
         "Gwen Pittman"
        ],
        [
         "6Y7D18SZ2GT01H1H",
         "Jason Thornton"
        ],
        [
         "DR6T4931C2QPI5YZ",
         "Buster Stromberg"
        ],
        [
         "U34YU87T9RGQ909K",
         "Opal Jones"
        ],
        [
         "Q9890AFSIJO9VGNM",
         "Barbara Ramos"
        ],
        [
         "KY04NS9VIPROW4QI",
         "Francisco Baltazar"
        ],
        [
         "Z8BL2NLL9ZX0P7T4",
         "Michael Horne"
        ],
        [
         "5NT3KUST1B1JZE47",
         "Joan Bocchi"
        ],
        [
         "XOJFUUOKVD4600B2",
         "Jonathan Allen"
        ],
        [
         "U7UGOTXCS95N8I39",
         "Amanda Cooper"
        ],
        [
         "VDNTQ8D1X0JJLVRL",
         "Nancy Splawn"
        ],
        [
         "RFP7SELUQ9WKHU0N",
         "Charles Ricketts"
        ],
        [
         "UMGYZWYAZKLBMPDO",
         "Denise Sanchez"
        ],
        [
         "GK0FO75LDHB17OWK",
         "Anthony Roden"
        ],
        [
         "J8F704C816SSWJIZ",
         "Eric Thomas"
        ],
        [
         "GU9TH5CEPDOE56NA",
         "Michell Booth"
        ],
        [
         "XUPAV9V0C5RZ0FPB",
         "Christopher Francis"
        ],
        [
         "RUIACTB314FUYT53",
         "Willie Jordan"
        ],
        [
         "BQKNQZ2T8LHETQUJ",
         "Merle Garcia"
        ],
        [
         "VQ59VHGZZ0J5TYE9",
         "Chana Fowler"
        ],
        [
         "IC3XSL9YZWYIZV3K",
         "Geri Holston"
        ],
        [
         "47LSGYR3LIB0ZK8M",
         "Eric Morrison"
        ],
        [
         "05USHZ7BLRS3JV37",
         "David Ealey"
        ],
        [
         "ISBNNH8GZWNG9CHD",
         "Kathryn Marshburn"
        ],
        [
         "1FHIOAHKPYBTRANM",
         "David Leitner"
        ],
        [
         "PN36EV9TH88MUP9J",
         "Holly Hicks"
        ],
        [
         "7GQPEPCIM7OYB0QI",
         "Betty Donnell"
        ],
        [
         "2DO2NHI6NONVD47Z",
         "Guillermo Plant"
        ],
        [
         "PIJR7ZNFBDHCN25Y",
         "Georgette Currie"
        ],
        [
         "IQ3SRYS7N7G5DKSN",
         "Jim Culbreath"
        ],
        [
         "MNFZUBMFYQ84RT48",
         "Thomas Lucas"
        ],
        [
         "CNDRWR5V7AUC9A6Y",
         "Jonathan Phelps"
        ],
        [
         "RW4O7831F17A2YE7",
         "Justina Cave"
        ],
        [
         "ONTC9XI9U75U4NF0",
         "Luz Johnson"
        ],
        [
         "UIETYKK11LXM87N0",
         "Mary Ramsey"
        ],
        [
         "6361H2FRWL1QYC3V",
         "Alma Porter"
        ],
        [
         "MBOOU4LRZUTJ9UUA",
         "Gregory Outen"
        ],
        [
         "7KAO0NOD1UI6EBYV",
         "Kenneth Long"
        ],
        [
         "W0XQUMUZZ8PHCRH9",
         "Robert Stegall"
        ],
        [
         "UQCZS3FKR22YIMGN",
         "Stephen Houston"
        ],
        [
         "BD9TLA4NQL3F2DB1",
         "Harriet Streicher"
        ],
        [
         "YF1PO5Q7AZ2R0S2Q",
         "Willie Hust"
        ],
        [
         "PO9RCK4W4P7192J6",
         "Nicole Sweet"
        ],
        [
         "P06XRG1XRH4RZM1S",
         "David Mills"
        ],
        [
         "Y0549M7UMYA7OZ15",
         "Frederick Byker"
        ],
        [
         "DM6KIIRT8RME4B2J",
         "Maria Zambrano"
        ],
        [
         "SNS2CHVE8ZGEJ3LF",
         "Beverly Smith"
        ],
        [
         "YBWRC1WQHXE895WV",
         "Joel Woodbury"
        ],
        [
         "OK48LRD3R5D8P4FE",
         "Kathy Robinson"
        ],
        [
         "7BHT6W2NBWQC5X8T",
         "Latesha Tessitore"
        ],
        [
         "67UBBLGZ364RX7EW",
         "Mildred Evans"
        ],
        [
         "P0QR96147PWS5TPJ",
         "Shawn Helbert"
        ],
        [
         "UY0XOUALWSGVYA9H",
         "Mary Schuch"
        ],
        [
         "OHN5V8NAJC910BYH",
         "Lisa Gay"
        ],
        [
         "WKFRFUK0PFCBS8MX",
         "Timothy Cluff"
        ],
        [
         "UUMKI9RDAFGNB6O5",
         "Janet Moniz"
        ],
        [
         "QLSJNJC8YLLYZ2V2",
         "Ann Mugleston"
        ],
        [
         "8GUAS5CDF5XU7RGE",
         "Kenneth Martin"
        ],
        [
         "B0YQ5U1KI1X3SDJ8",
         "James Kelly"
        ],
        [
         "H15P0RJ1ELH61RHN",
         "Aura Young"
        ],
        [
         "JM0M91Z2SDFTRC50",
         "Mattie Oxford"
        ],
        [
         "WM6NROCVJSAUMHR0",
         "Danny Urick"
        ],
        [
         "MS9X776GHMP4RSCQ",
         "Leroy Johns"
        ],
        [
         "HX7Y25GQC3CU0YZK",
         "Carol Harris"
        ],
        [
         "UPH9HE8Z5UCJE64P",
         "Matthew Miller"
        ],
        [
         "NE8FDXC9N9IS1V58",
         "Sue Phillips"
        ],
        [
         "XVAXFSZ1DE902UEZ",
         "Michael Morrill"
        ],
        [
         "IOWJ9WHVI96VZWXU",
         "Mary Drummond"
        ],
        [
         "R3YNUEK6BFCR9KW6",
         "Madeline Adkins"
        ],
        [
         "1N7BXY0X77FD42NR",
         "Berenice Jodoin"
        ],
        [
         "KPL0DA835AOLCOAY",
         "Kathleen Williams"
        ],
        [
         "F49C9DGV5T0ML2IB",
         "Harry Collier"
        ],
        [
         "7QSMK0EAF3SUWBEY",
         "Jason Smith"
        ],
        [
         "3BG1V1LA09JIRV4J",
         "Jose Martinez"
        ],
        [
         "IRF3D60TYZEJUAOS",
         "Charles Settles"
        ],
        [
         "WGW2T3B0SGV55B7W",
         "Velma Rivers"
        ],
        [
         "VS9NTDY7ZBQ6IOFX",
         "Monica Mency"
        ],
        [
         "SXX66MA06B8C6LSI",
         "Jimmy Maloney"
        ],
        [
         "55WNKA07N1U4HG2D",
         "Raymond Segal"
        ],
        [
         "6GBOS1AO6TDDF39Q",
         "Robert Cote"
        ],
        [
         "IACRWDMI9XK13SFZ",
         "Ruth Prohaska"
        ],
        [
         "C3SK9SC6XW0XTAT9",
         "Jacob Otero"
        ],
        [
         "7UYAH2XKIHHSPCAJ",
         "Harold Ferguson"
        ],
        [
         "377V52VDS28SZYXO",
         "John Hanna"
        ],
        [
         "XJ4IL8YH0NWV2A75",
         "Darlene Burges"
        ],
        [
         "EFGBHKXAUO8N7L1X",
         "Frank Akerley"
        ],
        [
         "H0HLQ54LKFM4576K",
         "Mary Denton"
        ],
        [
         "KCF7P36U0NLM0E2W",
         "Patricia Collazo"
        ],
        [
         "LSLB91X9EV671OMJ",
         "Joshua Grant"
        ],
        [
         "RWCRJF07AOZU9HJ2",
         "James Rodriguez"
        ],
        [
         "YI5HUMHIFZ4B9485",
         "Ann Cervantes"
        ],
        [
         "G2AN8UUT7YT5B0FQ",
         "Jessica Chapman"
        ],
        [
         "MN9G09J6NLQG26AI",
         "Joseph Keller"
        ],
        [
         "NM8G114168ARV8N3",
         "Stephanie Ackerley"
        ],
        [
         "XKW13E5W3MMFPXL3",
         "Jeremy Presley"
        ],
        [
         "ZL3E62J5VX1LB5KM",
         "Christopher Exum"
        ],
        [
         "74AWJMV464RQ6F5W",
         "Clinton West"
        ],
        [
         "JAJKMWFT6RJRJVYD",
         "Josephine Lee"
        ],
        [
         "1O1OLMA5R2KV85YL",
         "Robin Brackenridge"
        ],
        [
         "BWXYGRRXC3XTX2N5",
         "Hazel Bloodworth"
        ],
        [
         "JUMF21H8O3DSUCXW",
         "James Lee"
        ],
        [
         "E5Y0CH8UGKFZ8MB5",
         "Myrtle Redmond"
        ],
        [
         "1JPSZ91MTJDKD8DX",
         "Linda Carroll"
        ],
        [
         "RJNQFX9N9HGXLTBT",
         "Ernesto Richter"
        ],
        [
         "YIH17W1PK390YFI3",
         "Randy Hill"
        ],
        [
         "EK7HG909GCNJIX12",
         "Anthony Mears"
        ],
        [
         "YA3L69VTL7UAO7M0",
         "James Haig"
        ],
        [
         "XL1M7ECQYTNUOH4N",
         "Joan Anthony"
        ],
        [
         "C87P1MQ2JY3S1VNH",
         "Kevin Alvarez"
        ],
        [
         "OE7AU8IQ7MXSYQO8",
         "Jenny Boesen"
        ],
        [
         "71FZQP2XREON07P5",
         "Eugene Broderick"
        ],
        [
         "0I2LS16GXWLOSOSZ",
         "Larry Lovett"
        ],
        [
         "2WGFG3PBP7JFPSWY",
         "Cheryl Kozak"
        ],
        [
         "PM05ZGSVB8R6WXC4",
         "Kenneth Winn"
        ],
        [
         "JVZXZATGUVHSWUQW",
         "Judy Sanches"
        ],
        [
         "CYTED5LCYZO8XVY2",
         "Lori Grayson"
        ],
        [
         "4ODGD652E0SUHS7U",
         "Jeannette Pawlosky"
        ],
        [
         "8GJR4EYX7Y1JQ3D0",
         "Elizabeth Barton"
        ],
        [
         "VO81XTSKUQ3MYCE7",
         "Ofelia Mullen"
        ],
        [
         "FHZO2SB0PWGD3OJS",
         "Willie Soto"
        ],
        [
         "GRXUM6NBOFPN17C0",
         "Albert Kimrey"
        ],
        [
         "LQBLX4ZU19DA6TGC",
         "Melissa Oleary"
        ],
        [
         "BJU3ZV4SMRURZM5N",
         "Mark Watkins"
        ],
        [
         "371AXDDB6M3VLKDB",
         "Sharon Calzada"
        ],
        [
         "JI39SR5FGI8UVO6L",
         "Ronald Jackson"
        ],
        [
         "5Z8LI3J3KJBRP410",
         "Carol Schweitzer"
        ],
        [
         "I5YO4QYC9VWK09AM",
         "Silvia Mason"
        ],
        [
         "ZBD1MAGJWQ2R642N",
         "Lawrence Deck"
        ],
        [
         "WDQGHT9N1S9XHHH0",
         "Leah Whitaker"
        ],
        [
         "1TVMT0QGJ7M3LZX0",
         "Thomas Boyd"
        ],
        [
         "C5QMSZTP07AO93ZR",
         "Jason Braatz"
        ],
        [
         "KR23YQWKJO775M8X",
         "Ray Mccampbell"
        ],
        [
         "W6X360UO6WHV9JVM",
         "Isidro Corbett"
        ],
        [
         "QJDVNV8HZ1Y7D3IT",
         "Yolanda Decarlo"
        ],
        [
         "59YY1J8OEMNW861Z",
         "Mark Baskerville"
        ],
        [
         "NJY553IUYBFZBKJW",
         "Arnold Spence"
        ],
        [
         "8Y27SDUXMJD4DERT",
         "Matthew Watson"
        ],
        [
         "HYKPQN29Q4FJAA0X",
         "John Young"
        ],
        [
         "REXST5Q0WNYPZOCF",
         "Steven Gentry"
        ],
        [
         "A0UUI1N0SPLOUZZV",
         "Ezra Corbin"
        ],
        [
         "GCN5EAN1ZYSFQW6E",
         "Ronald Erwin"
        ],
        [
         "GPWF5NSERAO3QX1R",
         "Angela Coffman"
        ],
        [
         "VIBHIZPUCPCY1ZR8",
         "Kenneth Pelosi"
        ],
        [
         "9KWX0RG2K55XPOLA",
         "Stephanie Hepworth"
        ],
        [
         "Y8JZ2UPRVN1E0OVM",
         "Cathy Parr"
        ],
        [
         "P33NCMUO2PX6Y6RT",
         "Derek Walters"
        ],
        [
         "JIGPM4SBA4N2AKYY",
         "Shelly Poisson"
        ],
        [
         "LER6J0NE5HNW0LNW",
         "Robert Kendig"
        ],
        [
         "EGY1LPVPEKJSGXP2",
         "Judith Johnson"
        ],
        [
         "ZGMM7BB1DGU4IMUS",
         "Phil Hannan"
        ],
        [
         "U6Q24YI1HZY3MV6N",
         "Nettie Rollins"
        ],
        [
         "V5QETHE17Q8LHDB7",
         "Dorothy Andrews"
        ],
        [
         "U68WPHV8BRAGG11K",
         "Oscar Williams"
        ],
        [
         "UEDQWEMB0B2P4VDL",
         "Angelia Shofner"
        ],
        [
         "12RZI726YSAWMUSJ",
         "Henry Scoggins"
        ],
        [
         "HJ59KA0WQW9XAK5F",
         "Margaret Costa"
        ],
        [
         "LIGHVXL491IQHZAL",
         "Stacy Coates"
        ],
        [
         "DWMHQNCYGSM5J21I",
         "Richard Lugo"
        ],
        [
         "SKF2FH8QYJVNMOEH",
         "Jeffrey Edwards"
        ],
        [
         "CB9XUQY7NM32U1VK",
         "Patricia Hineline"
        ],
        [
         "EYW39TK75XM080ER",
         "Jesse Boniello"
        ],
        [
         "K2LYAJJMMJOPUKWU",
         "Cynthia Sullivan"
        ],
        [
         "QWDMOAOLVOGU7528",
         "Jodi Mckay"
        ],
        [
         "AGVAPDF33H140IEJ",
         "David Blanks"
        ],
        [
         "3ALA78WIVRG1COKR",
         "Jean Windmeyer"
        ],
        [
         "2VAB3N7ABN0MAZCU",
         "Paul Clark"
        ],
        [
         "VQF6CZ06K0RL553N",
         "Jennifer Fields"
        ],
        [
         "TUCNKRONBF8R7T9I",
         "Juan Soler"
        ],
        [
         "LPGAHMI15DRDPV5B",
         "Teresa Bilger"
        ],
        [
         "O102JBUW8551Z15B",
         "Sara Lieber"
        ],
        [
         "NWMAMRRFATHGW0R1",
         "Kristen Powers"
        ],
        [
         "4V5ZHX4HRM47OUB5",
         "Candace Campbell"
        ],
        [
         "6NJQVBPBVY4598C6",
         "Gerald Ostrom"
        ],
        [
         "W2J74U3P18UNBEGG",
         "John Crenshaw"
        ],
        [
         "0ZRTK79ZOX7BOFSN",
         "Jocelyn King"
        ],
        [
         "RVVXV41QM5UUPTCQ",
         "Betty Miller"
        ],
        [
         "JNC2O6MVEDL80P0D",
         "Melissa Reeves"
        ],
        [
         "SK2BRT9HUQUWDID1",
         "Wanda Carr"
        ],
        [
         "S7S7WT8OCLALX49V",
         "Christopher Russey"
        ],
        [
         "F5IFM18BIWIVXRQL",
         "Troy Lindsey"
        ],
        [
         "NZA4XJ5PTOTDWFKH",
         "Terry Hunt"
        ],
        [
         "Z2P89UVPHPZEUPFF",
         "Betty Griffin"
        ],
        [
         "NOM7J6G4R20S8LCP",
         "Rosemarie Glass"
        ],
        [
         "H5NPIHYVHBG0DIXE",
         "Dan Saez"
        ],
        [
         "K7RF21RAURCXNFXC",
         "Kenneth Klinger"
        ],
        [
         "LINIH0WUIZCTHZJI",
         "Alexandra Martino"
        ],
        [
         "5KR9L0UI8WIZSAVK",
         "Linda Banuelos"
        ],
        [
         "5V2CEW0MI2S4QXCJ",
         "Lora Mendez"
        ],
        [
         "7EU3W20DT95ABWSG",
         "Terra Blair"
        ],
        [
         "QK029II3LJ3358ZI",
         "Dorothy Brown"
        ],
        [
         "4322MKYDVNJCZ2TE",
         "Tricia Burt"
        ],
        [
         "KFPGVY6VS8DCKOYV",
         "Thomas Mauer"
        ],
        [
         "J8FC92WVD34JQXQR",
         "Erik Rodriguez"
        ],
        [
         "AKY62M66ALEW3TT9",
         "Patricia Moore"
        ],
        [
         "EG7L6ZBFW7Z45RCJ",
         "Iva Tomlinson"
        ],
        [
         "CJBG9E6WWTF3WR9S",
         "Paul Gade"
        ],
        [
         "Y2TJ5UUPUHEZZWX3",
         "Travis Mcneil"
        ],
        [
         "2L535SCD0F09XJUY",
         "Tammy Smiechowski"
        ],
        [
         "YBGZ6VXRKH4JTI2H",
         "Lauren Olson"
        ],
        [
         "XV9AF82TRZ74S1PS",
         "John Hurlbut"
        ],
        [
         "HB08EJFA8PLG4DHG",
         "Benjamin Mcgee"
        ],
        [
         "MIMR1A8F28QKZ4YF",
         "Jorge Guel"
        ],
        [
         "JWEWV9HTDJDQI8OX",
         "Elsa Hoopes"
        ],
        [
         "8IUCFO4MQN9GUWU1",
         "Nicholas Williamson"
        ],
        [
         "Z6XRAAGPHX7QCK38",
         "Roger Mccoy"
        ],
        [
         "NRQYHMKFFK5QQP9L",
         "Andrew Burke"
        ],
        [
         "O9L4CYX98YW7I6FE",
         "Anthony Goode"
        ],
        [
         "JDZZ8CKVNGAO06SZ",
         "Jennie Henslee"
        ],
        [
         "FT8HCDSQ2PBY0H5R",
         "Audrey Warren"
        ],
        [
         "O01HSCN982V70CA7",
         "Jimmy Dobbs"
        ],
        [
         "BC7WBXO82ZNPRY4O",
         "Maria Green"
        ],
        [
         "8MK9DLLQY61ERSM0",
         "Carol Rogers"
        ],
        [
         "ZN9K8H2YV1E5YS1R",
         "Diana Morales"
        ],
        [
         "S41ZBP642YGJ1QTP",
         "Eric Hatchett"
        ],
        [
         "QKFBXQQUSHAK1HCD",
         "Don Betz"
        ]
       ],
       "datasetInfos": [],
       "dbfsResultPath": null,
       "isJsonSchema": true,
       "metadata": {},
       "overflow": false,
       "plotOptions": {
        "customPlotOptions": {},
        "displayType": "table",
        "pivotAggregation": null,
        "pivotColumns": null,
        "xColumns": null,
        "yColumns": null
       },
       "removedWidgets": [],
       "schema": [
        {
         "metadata": "{}",
         "name": "Sales Rep Id",
         "type": "\"string\""
        },
        {
         "metadata": "{}",
         "name": "Sales Rep",
         "type": "\"string\""
        }
       ],
       "type": "table"
      }
     },
     "output_type": "display_data"
    }
   ],
   "source": [
    "%sql\n",
    "-- 5. Retrive sales rep who have managed orders for companies that have at least one converted lead\n",
    "SELECT DISTINCT s.`Sales Rep Id`, s.`Sales Rep` FROM salesteam_2_csv s\n",
    "JOIN orderleads_2_csv o\n",
    "ON s.`Company Id` = o.`Company Id`\n",
    "WHERE o.Converted = 1\n",
    "\n",
    "\n",
    "\n"
   ]
  },
  {
   "cell_type": "code",
   "execution_count": 0,
   "metadata": {
    "application/vnd.databricks.v1+cell": {
     "cellMetadata": {
      "byteLimit": 2048000,
      "rowLimit": 10000
     },
     "inputWidgets": {},
     "nuid": "1a59e129-ea7e-4c34-9d80-737815cc3a66",
     "showTitle": false,
     "tableResultSettingsMap": {},
     "title": ""
    }
   },
   "outputs": [
    {
     "output_type": "display_data",
     "data": {
      "text/html": [
       "<style scoped>\n",
       "  .table-result-container {\n",
       "    max-height: 300px;\n",
       "    overflow: auto;\n",
       "  }\n",
       "  table, th, td {\n",
       "    border: 1px solid black;\n",
       "    border-collapse: collapse;\n",
       "  }\n",
       "  th, td {\n",
       "    padding: 5px;\n",
       "  }\n",
       "  th {\n",
       "    text-align: left;\n",
       "  }\n",
       "</style><div class='table-result-container'><table class='table-result'><thead style='background-color: white'><tr><th>Type of Meal</th><th>month</th><th>avg(Meal Price)</th></tr></thead><tbody><tr><td>Lunch</td><td>1</td><td>407.2711142654365</td></tr><tr><td>Dinner</td><td>1</td><td>406.04872727272726</td></tr><tr><td>Breakfast</td><td>1</td><td>413.9138056975895</td></tr><tr><td>Dinner</td><td>2</td><td>401.0968775020016</td></tr><tr><td>Lunch</td><td>2</td><td>397.67714061272585</td></tr><tr><td>Breakfast</td><td>2</td><td>407.14102564102564</td></tr><tr><td>Dinner</td><td>3</td><td>392.765726681128</td></tr><tr><td>Lunch</td><td>3</td><td>398.50882352941176</td></tr><tr><td>Breakfast</td><td>3</td><td>397.6340057636888</td></tr><tr><td>Dinner</td><td>4</td><td>393.6151491966335</td></tr><tr><td>Breakfast</td><td>4</td><td>394.81484202792063</td></tr><tr><td>Lunch</td><td>4</td><td>410.55933484504914</td></tr><tr><td>Breakfast</td><td>5</td><td>403.0179506357517</td></tr><tr><td>Dinner</td><td>5</td><td>391.311743772242</td></tr><tr><td>Lunch</td><td>5</td><td>406.68807994289796</td></tr><tr><td>Lunch</td><td>6</td><td>402.2603036876356</td></tr><tr><td>Dinner</td><td>6</td><td>399.65416354088524</td></tr><tr><td>Breakfast</td><td>6</td><td>410.60840707964604</td></tr><tr><td>Breakfast</td><td>7</td><td>407.9747399702823</td></tr><tr><td>Dinner</td><td>7</td><td>414.15618060695783</td></tr><tr><td>Lunch</td><td>7</td><td>410.2390670553936</td></tr><tr><td>Lunch</td><td>8</td><td>410.42395297575314</td></tr><tr><td>Dinner</td><td>8</td><td>401.55977496483825</td></tr><tr><td>Breakfast</td><td>8</td><td>406.8884758364312</td></tr><tr><td>Breakfast</td><td>9</td><td>402.22222222222223</td></tr><tr><td>Dinner</td><td>9</td><td>398.67460908414</td></tr><tr><td>Lunch</td><td>9</td><td>403.84394409937886</td></tr><tr><td>Dinner</td><td>10</td><td>396.68011738811447</td></tr><tr><td>Breakfast</td><td>10</td><td>402.34317343173433</td></tr><tr><td>Lunch</td><td>10</td><td>411.9889624724062</td></tr><tr><td>Lunch</td><td>11</td><td>400.1530612244898</td></tr><tr><td>Dinner</td><td>11</td><td>402.06502242152465</td></tr><tr><td>Breakfast</td><td>11</td><td>400.23190546528804</td></tr><tr><td>Lunch</td><td>12</td><td>400.7762289068232</td></tr><tr><td>Dinner</td><td>12</td><td>396.0098452883263</td></tr><tr><td>Breakfast</td><td>12</td><td>407.0812324929972</td></tr></tbody></table></div>"
      ]
     },
     "metadata": {
      "application/vnd.databricks.v1+output": {
       "addedWidgets": {},
       "aggData": [],
       "aggError": "",
       "aggOverflow": false,
       "aggSchema": [],
       "aggSeriesLimitReached": false,
       "aggType": "",
       "arguments": {},
       "columnCustomDisplayInfos": {},
       "data": [
        [
         "Lunch",
         1,
         407.2711142654365
        ],
        [
         "Dinner",
         1,
         406.04872727272726
        ],
        [
         "Breakfast",
         1,
         413.9138056975895
        ],
        [
         "Dinner",
         2,
         401.0968775020016
        ],
        [
         "Lunch",
         2,
         397.67714061272585
        ],
        [
         "Breakfast",
         2,
         407.14102564102564
        ],
        [
         "Dinner",
         3,
         392.765726681128
        ],
        [
         "Lunch",
         3,
         398.50882352941176
        ],
        [
         "Breakfast",
         3,
         397.6340057636888
        ],
        [
         "Dinner",
         4,
         393.6151491966335
        ],
        [
         "Breakfast",
         4,
         394.81484202792063
        ],
        [
         "Lunch",
         4,
         410.55933484504914
        ],
        [
         "Breakfast",
         5,
         403.0179506357517
        ],
        [
         "Dinner",
         5,
         391.311743772242
        ],
        [
         "Lunch",
         5,
         406.68807994289796
        ],
        [
         "Lunch",
         6,
         402.2603036876356
        ],
        [
         "Dinner",
         6,
         399.65416354088524
        ],
        [
         "Breakfast",
         6,
         410.60840707964604
        ],
        [
         "Breakfast",
         7,
         407.9747399702823
        ],
        [
         "Dinner",
         7,
         414.15618060695783
        ],
        [
         "Lunch",
         7,
         410.2390670553936
        ],
        [
         "Lunch",
         8,
         410.42395297575314
        ],
        [
         "Dinner",
         8,
         401.55977496483825
        ],
        [
         "Breakfast",
         8,
         406.8884758364312
        ],
        [
         "Breakfast",
         9,
         402.22222222222223
        ],
        [
         "Dinner",
         9,
         398.67460908414
        ],
        [
         "Lunch",
         9,
         403.84394409937886
        ],
        [
         "Dinner",
         10,
         396.68011738811447
        ],
        [
         "Breakfast",
         10,
         402.34317343173433
        ],
        [
         "Lunch",
         10,
         411.9889624724062
        ],
        [
         "Lunch",
         11,
         400.1530612244898
        ],
        [
         "Dinner",
         11,
         402.06502242152465
        ],
        [
         "Breakfast",
         11,
         400.23190546528804
        ],
        [
         "Lunch",
         12,
         400.7762289068232
        ],
        [
         "Dinner",
         12,
         396.0098452883263
        ],
        [
         "Breakfast",
         12,
         407.0812324929972
        ]
       ],
       "datasetInfos": [],
       "dbfsResultPath": null,
       "isJsonSchema": true,
       "metadata": {
        "isDbfsCommandResult": false
       },
       "overflow": false,
       "plotOptions": {
        "customPlotOptions": {},
        "displayType": "table",
        "pivotAggregation": null,
        "pivotColumns": null,
        "xColumns": null,
        "yColumns": null
       },
       "removedWidgets": [],
       "schema": [
        {
         "metadata": "{}",
         "name": "Type of Meal",
         "type": "\"string\""
        },
        {
         "metadata": "{}",
         "name": "month",
         "type": "\"integer\""
        },
        {
         "metadata": "{\"__autoGeneratedAlias\":\"true\"}",
         "name": "avg(Meal Price)",
         "type": "\"double\""
        }
       ],
       "type": "table"
      }
     },
     "output_type": "display_data"
    },
    {
     "output_type": "display_data",
     "data": {
      "text/plain": [
       "Databricks visualization. Run in Databricks to view."
      ]
     },
     "metadata": {
      "application/vnd.databricks.v1.subcommand+json": {
       "baseErrorDetails": null,
       "bindings": {},
       "collapsed": false,
       "command": "%sql WITH q AS (SELECT `Type of Meal`, MONTH(`Date of Meal`) AS month, AVG(`Meal Price`) FROM invoices_1_csv\nWHERE `Type of Meal` IS NOT NULL\nGROUP BY `Type of Meal`, MONTH(`Date of Meal`)\nORDER BY month) SELECT `month`,SUM(`avg(Meal Price)`) `column_cfa559a82` FROM q GROUP BY `month`",
       "commandTitle": "Visualization 1",
       "commandType": "auto",
       "commandVersion": 0,
       "commentThread": [],
       "commentsVisible": false,
       "contentSha256Hex": null,
       "customPlotOptions": {
        "redashChart": [
         {
          "key": "type",
          "value": "CHART"
         },
         {
          "key": "options",
          "value": {
           "alignYAxesAtZero": true,
           "coefficient": 1,
           "columnConfigurationMap": {
            "series": {
             "column": "Type of Meal",
             "id": "column_cfa559a824"
            },
            "x": {
             "column": "month",
             "id": "column_cfa559a81"
            },
            "y": [
             {
              "column": "avg(Meal Price)",
              "id": "column_cfa559a826",
              "transform": "AVG"
             }
            ]
           },
           "dateTimeFormat": "DD/MM/YYYY HH:mm",
           "direction": {
            "type": "counterclockwise"
           },
           "error_y": {
            "type": "data",
            "visible": true
           },
           "globalSeriesType": "line",
           "isAggregationOn": true,
           "legend": {
            "traceorder": "normal"
           },
           "missingValuesAsZero": true,
           "numberFormat": "0,0.[00000]",
           "percentFormat": "0[.]00%",
           "series": {
            "error_y": {
             "type": "data",
             "visible": true
            },
            "stacking": null
           },
           "seriesOptions": {
            "Type of Meal": {
             "type": "line",
             "yAxis": 0
            },
            "avg(Meal Price)": {
             "name": "avg(Meal Price)",
             "type": "line",
             "yAxis": 0
            },
            "column_cfa559a82": {
             "name": "avg(Meal Price)",
             "type": "line",
             "yAxis": 0
            },
            "column_cfa559a820": {
             "type": "line",
             "yAxis": 0
            },
            "column_cfa559a826": {
             "type": "line",
             "yAxis": 0
            },
            "month": {
             "type": "line",
             "yAxis": 0
            }
           },
           "showDataLabels": false,
           "sizemode": "diameter",
           "sortX": true,
           "sortY": true,
           "swappedAxes": false,
           "textFormat": "",
           "useAggregationsUi": true,
           "valuesOptions": {},
           "version": 2,
           "xAxis": {
            "labels": {
             "enabled": true
            },
            "type": "-"
           },
           "yAxis": [
            {
             "type": "-"
            },
            {
             "opposite": true,
             "type": "-"
            }
           ]
          }
         }
        ]
       },
       "datasetPreviewNameToCmdIdMap": {},
       "diffDeletes": [],
       "diffInserts": [],
       "displayType": "redashChart",
       "error": null,
       "errorDetails": null,
       "errorSummary": null,
       "errorTraceType": null,
       "finishTime": 0,
       "globalVars": {},
       "guid": "",
       "height": "auto",
       "hideCommandCode": false,
       "hideCommandResult": false,
       "iPythonMetadata": null,
       "inputWidgets": {},
       "isLockedInExamMode": false,
       "latestUser": "a user",
       "latestUserId": null,
       "listResultMetadata": null,
       "metadata": {},
       "nuid": "8ba61b96-ec0a-4434-bec7-e4f102f674c8",
       "origId": 0,
       "parentHierarchy": [],
       "pivotAggregation": null,
       "pivotColumns": null,
       "position": 108.0,
       "resultDbfsErrorMessage": null,
       "resultDbfsStatus": "INLINED_IN_TREE",
       "results": null,
       "showCommandTitle": false,
       "startTime": 0,
       "state": "input",
       "streamStates": {},
       "subcommandOptions": {
        "queryPlan": {
         "groups": [
          {
           "column": "month",
           "type": "column"
          },
          {
           "column": "Type of Meal",
           "type": "column"
          }
         ],
         "selects": [
          {
           "column": "month",
           "type": "column"
          },
          {
           "alias": "column_cfa559a826",
           "args": [
            {
             "column": "avg(Meal Price)",
             "type": "column"
            }
           ],
           "function": "AVG",
           "type": "function"
          },
          {
           "column": "Type of Meal",
           "type": "column"
          }
         ]
        }
       },
       "submitTime": 0,
       "subtype": "tableResultSubCmd.visualization",
       "tableResultIndex": 0,
       "tableResultSettingsMap": {},
       "useConsistentColors": false,
       "version": "CommandV1",
       "width": "auto",
       "workflows": [],
       "xColumns": null,
       "yColumns": null
      }
     },
     "output_type": "display_data"
    }
   ],
   "source": [
    "%sql\n",
    "-- 6. What is the average meal price for different types of meals across months ?\n",
    "SELECT `Type of Meal`, MONTH(`Date of Meal`) AS month, AVG(`Meal Price`) FROM invoices_2_csv\n",
    "WHERE `Type of Meal` IS NOT NULL\n",
    "GROUP BY `Type of Meal`, MONTH(`Date of Meal`)\n",
    "ORDER BY month;\n"
   ]
  },
  {
   "cell_type": "code",
   "execution_count": 0,
   "metadata": {
    "application/vnd.databricks.v1+cell": {
     "cellMetadata": {
      "byteLimit": 2048000,
      "rowLimit": 10000
     },
     "inputWidgets": {},
     "nuid": "31064f0a-609a-4bb2-8498-26c9ae838108",
     "showTitle": false,
     "tableResultSettingsMap": {},
     "title": ""
    }
   },
   "outputs": [
    {
     "output_type": "display_data",
     "data": {
      "text/html": [
       "<style scoped>\n",
       "  .table-result-container {\n",
       "    max-height: 300px;\n",
       "    overflow: auto;\n",
       "  }\n",
       "  table, th, td {\n",
       "    border: 1px solid black;\n",
       "    border-collapse: collapse;\n",
       "  }\n",
       "  th, td {\n",
       "    padding: 5px;\n",
       "  }\n",
       "  th {\n",
       "    text-align: left;\n",
       "  }\n",
       "</style><div class='table-result-container'><table class='table-result'><thead style='background-color: white'><tr><th>Sales Rep Id</th><th>sum_order_value</th></tr></thead><tbody><tr><td>VQZHOTV9ZY7G8E8G</td><td>2173704.0</td></tr><tr><td>N4MYRNGJNE6819FB</td><td>2128858.0</td></tr><tr><td>M7EUJWTOIMTKZU36</td><td>2120770.0</td></tr><tr><td>LTXEJ2R3FWVKHKNW</td><td>2098385.0</td></tr><tr><td>CU16RNMOTWY8ISAM</td><td>2062037.0</td></tr><tr><td>WDQGHT9N1S9XHHH0</td><td>2044935.0</td></tr><tr><td>N6L4PQZDNEDUEIWT</td><td>2025528.0</td></tr><tr><td>PUFE7RIC74KGFVIC</td><td>2002094.0</td></tr><tr><td>LUZ5HP3WUJ444VF0</td><td>1989460.0</td></tr><tr><td>97UNNAT790E0WM4N</td><td>1953854.0</td></tr></tbody></table></div>"
      ]
     },
     "metadata": {
      "application/vnd.databricks.v1+output": {
       "addedWidgets": {},
       "aggData": [],
       "aggError": "",
       "aggOverflow": false,
       "aggSchema": [],
       "aggSeriesLimitReached": false,
       "aggType": "",
       "arguments": {},
       "columnCustomDisplayInfos": {},
       "data": [
        [
         "VQZHOTV9ZY7G8E8G",
         2173704.0
        ],
        [
         "N4MYRNGJNE6819FB",
         2128858.0
        ],
        [
         "M7EUJWTOIMTKZU36",
         2120770.0
        ],
        [
         "LTXEJ2R3FWVKHKNW",
         2098385.0
        ],
        [
         "CU16RNMOTWY8ISAM",
         2062037.0
        ],
        [
         "WDQGHT9N1S9XHHH0",
         2044935.0
        ],
        [
         "N6L4PQZDNEDUEIWT",
         2025528.0
        ],
        [
         "PUFE7RIC74KGFVIC",
         2002094.0
        ],
        [
         "LUZ5HP3WUJ444VF0",
         1989460.0
        ],
        [
         "97UNNAT790E0WM4N",
         1953854.0
        ]
       ],
       "datasetInfos": [],
       "dbfsResultPath": null,
       "isJsonSchema": true,
       "metadata": {
        "isDbfsCommandResult": false
       },
       "overflow": false,
       "plotOptions": {
        "customPlotOptions": {},
        "displayType": "table",
        "pivotAggregation": null,
        "pivotColumns": null,
        "xColumns": null,
        "yColumns": null
       },
       "removedWidgets": [],
       "schema": [
        {
         "metadata": "{}",
         "name": "Sales Rep Id",
         "type": "\"string\""
        },
        {
         "metadata": "{}",
         "name": "sum_order_value",
         "type": "\"double\""
        }
       ],
       "type": "table"
      }
     },
     "output_type": "display_data"
    }
   ],
   "source": [
    "%sql\n",
    "-- 7. Sales Rep who generated the highest total order value .\n",
    "\n",
    "SELECT DISTINCT s.`Sales Rep Id`,  SUM(o.`Order Value`)  AS sum_order_value FROM salesteam_2_csv s\n",
    "JOIN orderleads_2_csv o \n",
    "ON s.`Company Id` = o.`Company Id`\n",
    "GROUP BY s.`Sales Rep Id`\n",
    "ORDER BY sum_order_value DESC\n",
    "LIMIT 10;\n"
   ]
  },
  {
   "cell_type": "code",
   "execution_count": 0,
   "metadata": {
    "application/vnd.databricks.v1+cell": {
     "cellMetadata": {
      "byteLimit": 2048000,
      "rowLimit": 10000
     },
     "inputWidgets": {},
     "nuid": "89d98bde-00a9-4394-bb6a-6487763f24bb",
     "showTitle": false,
     "tableResultSettingsMap": {},
     "title": ""
    }
   },
   "outputs": [
    {
     "output_type": "display_data",
     "data": {
      "text/html": [
       "<style scoped>\n",
       "  .table-result-container {\n",
       "    max-height: 300px;\n",
       "    overflow: auto;\n",
       "  }\n",
       "  table, th, td {\n",
       "    border: 1px solid black;\n",
       "    border-collapse: collapse;\n",
       "  }\n",
       "  th, td {\n",
       "    padding: 5px;\n",
       "  }\n",
       "  th {\n",
       "    text-align: left;\n",
       "  }\n",
       "</style><div class='table-result-container'><table class='table-result'><thead style='background-color: white'><tr><th>Sales Rep Id</th><th>total_revenue</th></tr></thead><tbody><tr><td>VQZHOTV9ZY7G8E8G</td><td>2173704.0</td></tr><tr><td>N4MYRNGJNE6819FB</td><td>2128858.0</td></tr><tr><td>M7EUJWTOIMTKZU36</td><td>2120770.0</td></tr><tr><td>LTXEJ2R3FWVKHKNW</td><td>2098385.0</td></tr><tr><td>CU16RNMOTWY8ISAM</td><td>2062037.0</td></tr><tr><td>WDQGHT9N1S9XHHH0</td><td>2044935.0</td></tr><tr><td>N6L4PQZDNEDUEIWT</td><td>2025528.0</td></tr><tr><td>PUFE7RIC74KGFVIC</td><td>2002094.0</td></tr><tr><td>LUZ5HP3WUJ444VF0</td><td>1989460.0</td></tr><tr><td>97UNNAT790E0WM4N</td><td>1953854.0</td></tr><tr><td>W6X360UO6WHV9JVM</td><td>1952382.0</td></tr><tr><td>ISA8445OKV13F3YZ</td><td>1912839.0</td></tr><tr><td>KR23YQWKJO775M8X</td><td>1891821.0</td></tr><tr><td>5H7F1Y0C40TZ8Y04</td><td>1890509.0</td></tr><tr><td>534ESAMPETPUGAXC</td><td>1876176.0</td></tr><tr><td>Z0U3DRFA7ABRC4GD</td><td>1871235.0</td></tr><tr><td>QKFBXQQUSHAK1HCD</td><td>1868660.0</td></tr><tr><td>2YIBV6EWJT8XS7VA</td><td>1867242.0</td></tr><tr><td>L6K1S1TIG41C1P78</td><td>1862353.0</td></tr><tr><td>7EU3W20DT95ABWSG</td><td>1861273.0</td></tr><tr><td>AGVAPDF33H140IEJ</td><td>1843724.0</td></tr><tr><td>DNJBDVVI6BRLBPHE</td><td>1841203.0</td></tr><tr><td>GH8ARB7HW9FTSG99</td><td>1840480.0</td></tr><tr><td>XOJFUUOKVD4600B2</td><td>1836656.0</td></tr><tr><td>GCN5EAN1ZYSFQW6E</td><td>1830660.0</td></tr><tr><td>4V5ZHX4HRM47OUB5</td><td>1827976.0</td></tr><tr><td>5BYJQUIVIFWVE5SL</td><td>1822157.0</td></tr><tr><td>0PK9IDAFZ43NCGX3</td><td>1821973.0</td></tr><tr><td>X54UQRVEOF40VHNF</td><td>1817574.0</td></tr><tr><td>NG8DVRBW0FTZQFOZ</td><td>1816966.0</td></tr><tr><td>AW0U4QZE3YIW17PW</td><td>1816420.0</td></tr><tr><td>L81YYG8DZIUSSEBG</td><td>1813203.0</td></tr><tr><td>GCASAHID9MVGA88Y</td><td>1809955.0</td></tr><tr><td>U6Q24YI1HZY3MV6N</td><td>1807541.0</td></tr><tr><td>4DEVEX8RN3IBSWZP</td><td>1802457.0</td></tr><tr><td>X5Z8TS9K3BWKQZD3</td><td>1799011.0</td></tr><tr><td>R54KNV3B0DLODKGY</td><td>1797477.0</td></tr><tr><td>HB08EJFA8PLG4DHG</td><td>1797270.0</td></tr><tr><td>OVPY8DBGOAWR8FZ0</td><td>1796126.0</td></tr><tr><td>QS9Y9J9EFJYKV9KW</td><td>1796011.0</td></tr><tr><td>4322MKYDVNJCZ2TE</td><td>1795836.0</td></tr><tr><td>WOIUQEVCM87PFUCN</td><td>1791877.0</td></tr><tr><td>E5Y0CH8UGKFZ8MB5</td><td>1789638.0</td></tr><tr><td>1GLRLJCD4HBUVRLJ</td><td>1788370.0</td></tr><tr><td>RJQIDDAQNL5XUWFY</td><td>1786767.0</td></tr><tr><td>VZV7I6YA8IAX510X</td><td>1786567.0</td></tr><tr><td>Q2W6FPCMAXU1OV3Q</td><td>1783899.0</td></tr><tr><td>12RZI726YSAWMUSJ</td><td>1777041.0</td></tr><tr><td>Y0HLVLLS8BSLIY1K</td><td>1771302.0</td></tr><tr><td>CNDRWR5V7AUC9A6Y</td><td>1768020.0</td></tr><tr><td>8JVDTAJ06NAVMO7C</td><td>1767143.0</td></tr><tr><td>CILBBO3VETGHOCW7</td><td>1766598.0</td></tr><tr><td>9LARAB7L82QBEIE4</td><td>1762162.0</td></tr><tr><td>OJG2V2XYY3VPOAXN</td><td>1759302.0</td></tr><tr><td>CLEULHOWR6DZC4ZJ</td><td>1754339.0</td></tr><tr><td>RFP7SELUQ9WKHU0N</td><td>1753815.0</td></tr><tr><td>AXF6C7DMRD4FAAQV</td><td>1753594.0</td></tr><tr><td>XUPAV9V0C5RZ0FPB</td><td>1741579.0</td></tr><tr><td>P6DXB4Q0CNK4I78Z</td><td>1740991.0</td></tr><tr><td>SP0N3G92YZNLH34Y</td><td>1738282.0</td></tr><tr><td>U97GV7LYA8OPTCW8</td><td>1731785.0</td></tr><tr><td>XM04H2PV0LPK6FR7</td><td>1728667.0</td></tr><tr><td>KCF7P36U0NLM0E2W</td><td>1728449.0</td></tr><tr><td>1FHIOAHKPYBTRANM</td><td>1726791.0</td></tr><tr><td>GGEHU78BQPPV9224</td><td>1726305.0</td></tr><tr><td>RVVXV41QM5UUPTCQ</td><td>1720562.0</td></tr><tr><td>GU9TH5CEPDOE56NA</td><td>1720283.0</td></tr><tr><td>BYYEYSNFZ56E0W8J</td><td>1718815.0</td></tr><tr><td>NXLE8MNMFY9Q9NRO</td><td>1718094.0</td></tr><tr><td>8V8HD97OFFA505D5</td><td>1709668.0</td></tr><tr><td>INVZR96LZR7LJU1S</td><td>1706257.0</td></tr><tr><td>9UVSA52Z4KB0P593</td><td>1704496.0</td></tr><tr><td>T2LBAPSG044EFXTT</td><td>1702353.0</td></tr><tr><td>UODO0E3FMQ6I8SVM</td><td>1699614.0</td></tr><tr><td>G44LNG5YJ53T5S4Q</td><td>1690988.0</td></tr><tr><td>RRD2R9XMAJDP7TUY</td><td>1689213.0</td></tr><tr><td>CB9XUQY7NM32U1VK</td><td>1679808.0</td></tr><tr><td>JDZZ8CKVNGAO06SZ</td><td>1672493.0</td></tr><tr><td>SBM750EJS70KX56O</td><td>1669500.0</td></tr><tr><td>CEO9SJ588NMQWCNC</td><td>1668984.0</td></tr><tr><td>TAMXPZQ8MAOT8W2A</td><td>1663831.0</td></tr><tr><td>74AWJMV464RQ6F5W</td><td>1661365.0</td></tr><tr><td>T9S4K1W6LGN18GE2</td><td>1655791.0</td></tr><tr><td>E2ECSKJZSR3SSKCC</td><td>1638666.0</td></tr><tr><td>VRVN6Q49FS2YQTXH</td><td>1636313.0</td></tr><tr><td>BD9TLA4NQL3F2DB1</td><td>1634812.0</td></tr><tr><td>QWDMOAOLVOGU7528</td><td>1633678.0</td></tr><tr><td>8KT16VK3K66L8Z6Q</td><td>1631035.0</td></tr><tr><td>NBCZZD1ITCBJ5YX1</td><td>1629847.0</td></tr><tr><td>Y8PSH5OWK1CN2934</td><td>1628706.0</td></tr><tr><td>OV7YNOMBRZ9Z52B7</td><td>1625235.0</td></tr><tr><td>64EVKAU9ESMNRQ0W</td><td>1611200.0</td></tr><tr><td>NJY553IUYBFZBKJW</td><td>1606839.0</td></tr><tr><td>FV9FAZVF2XXDJ1A8</td><td>1604538.0</td></tr><tr><td>SYC7RNKEFAK3RGTH</td><td>1602041.0</td></tr><tr><td>OFRM2WHOD37S1TNU</td><td>1601794.0</td></tr><tr><td>5PV0APT3XUGMN9YP</td><td>1597303.0</td></tr><tr><td>XV9AF82TRZ74S1PS</td><td>1595401.0</td></tr><tr><td>H5NPIHYVHBG0DIXE</td><td>1592802.0</td></tr><tr><td>XU4RJVAWDNPZPBJG</td><td>1591877.0</td></tr><tr><td>SKF2FH8QYJVNMOEH</td><td>1591009.0</td></tr><tr><td>FCW1U79W3AH0V5LC</td><td>1588968.0</td></tr><tr><td>HMDAFOGYKLRE5EV2</td><td>1588336.0</td></tr><tr><td>4OHGZI6WG9X7AGDU</td><td>1585213.0</td></tr><tr><td>MN9G09J6NLQG26AI</td><td>1570539.0</td></tr><tr><td>RJNQFX9N9HGXLTBT</td><td>1566810.0</td></tr><tr><td>P06XRG1XRH4RZM1S</td><td>1562772.0</td></tr><tr><td>V5QETHE17Q8LHDB7</td><td>1555882.0</td></tr><tr><td>UUMKI9RDAFGNB6O5</td><td>1552630.0</td></tr><tr><td>2WGFG3PBP7JFPSWY</td><td>1550211.0</td></tr><tr><td>A5Q7WMWPK3TUIY99</td><td>1547911.0</td></tr><tr><td>6XNZPJPS6MAR83UL</td><td>1547381.0</td></tr><tr><td>I5YO4QYC9VWK09AM</td><td>1540800.0</td></tr><tr><td>UFLMWFVMOOYENUL5</td><td>1540707.0</td></tr><tr><td>DY9ID3BYIS59CFRK</td><td>1540420.0</td></tr><tr><td>AV3PC0UQHLIBNS3G</td><td>1539887.0</td></tr><tr><td>9LCT88TNQ7GP93JN</td><td>1538112.0</td></tr><tr><td>8SOWV3FUAGRPR3HO</td><td>1531411.0</td></tr><tr><td>FL99MJ2KVSA1UZKL</td><td>1528565.0</td></tr><tr><td>3MSNX6N8EQWQOW64</td><td>1528013.0</td></tr><tr><td>3ALA78WIVRG1COKR</td><td>1522977.0</td></tr><tr><td>07VYLGHO65I3XC1O</td><td>1522853.0</td></tr><tr><td>REXST5Q0WNYPZOCF</td><td>1519566.0</td></tr><tr><td>FHZO2SB0PWGD3OJS</td><td>1515908.0</td></tr><tr><td>P94NG1UEN6188FRG</td><td>1513181.0</td></tr><tr><td>JAJKMWFT6RJRJVYD</td><td>1513120.0</td></tr><tr><td>O9L4CYX98YW7I6FE</td><td>1508005.0</td></tr><tr><td>P0QR96147PWS5TPJ</td><td>1502046.0</td></tr><tr><td>BC7WBXO82ZNPRY4O</td><td>1498852.0</td></tr><tr><td>ISBNNH8GZWNG9CHD</td><td>1493126.0</td></tr><tr><td>ZM2JKGYBBFIF86C8</td><td>1486876.0</td></tr><tr><td>ARJG3Q6PUTB1DNDD</td><td>1484972.0</td></tr><tr><td>DLIRPUBVM6K437OL</td><td>1475852.0</td></tr><tr><td>1YXNBPURTD4CAVEO</td><td>1473803.0</td></tr><tr><td>E7SZU9JMNMAGN6RL</td><td>1472487.0</td></tr><tr><td>VO81XTSKUQ3MYCE7</td><td>1468188.0</td></tr><tr><td>S0T49GMHQIMYVRS9</td><td>1463057.0</td></tr><tr><td>JUMF21H8O3DSUCXW</td><td>1462837.0</td></tr><tr><td>NJ5480ZCU4IQIGFU</td><td>1456872.0</td></tr><tr><td>RUIACTB314FUYT53</td><td>1452802.0</td></tr><tr><td>6WM6DE11OA3Q78U6</td><td>1450717.0</td></tr><tr><td>CJBG9E6WWTF3WR9S</td><td>1450685.0</td></tr><tr><td>ZGMM7BB1DGU4IMUS</td><td>1448318.0</td></tr><tr><td>LER6J0NE5HNW0LNW</td><td>1439912.0</td></tr><tr><td>0ZRTK79ZOX7BOFSN</td><td>1439583.0</td></tr><tr><td>6GBOS1AO6TDDF39Q</td><td>1439073.0</td></tr><tr><td>MS9X776GHMP4RSCQ</td><td>1436579.0</td></tr><tr><td>P1C11WQ78DQILK3E</td><td>1434497.0</td></tr><tr><td>INVT9K7HFTV94PF0</td><td>1433631.0</td></tr><tr><td>210CQ137W48HUHXX</td><td>1421005.0</td></tr><tr><td>ZBD1MAGJWQ2R642N</td><td>1415628.0</td></tr><tr><td>B0YQ5U1KI1X3SDJ8</td><td>1389433.0</td></tr><tr><td>Y2TJ5UUPUHEZZWX3</td><td>1378841.0</td></tr><tr><td>LPGAHMI15DRDPV5B</td><td>1372914.0</td></tr><tr><td>JNC2O6MVEDL80P0D</td><td>1372443.0</td></tr><tr><td>4L8F5SR61SL5PTQU</td><td>1371031.0</td></tr><tr><td>UMGYZWYAZKLBMPDO</td><td>1367932.0</td></tr><tr><td>7KAPXGCCZC0ZR0Y5</td><td>1360374.0</td></tr><tr><td>ZWT68Z5JHHDHQKRJ</td><td>1355996.0</td></tr><tr><td>JI39SR5FGI8UVO6L</td><td>1355090.0</td></tr><tr><td>1O1OLMA5R2KV85YL</td><td>1350017.0</td></tr><tr><td>YDO6VWGYIRK3UBGS</td><td>1343526.0</td></tr><tr><td>0CF5HSNN53K6N0N0</td><td>1336444.0</td></tr><tr><td>U34YU87T9RGQ909K</td><td>1333907.0</td></tr><tr><td>LINIH0WUIZCTHZJI</td><td>1331182.0</td></tr><tr><td>XL1M7ECQYTNUOH4N</td><td>1330857.0</td></tr><tr><td>Q5XSCYOID4LSR42I</td><td>1329212.0</td></tr><tr><td>O01HSCN982V70CA7</td><td>1328864.0</td></tr><tr><td>HX7Y25GQC3CU0YZK</td><td>1319841.0</td></tr><tr><td>VK3KZDLB8HV5YUAX</td><td>1318831.0</td></tr><tr><td>YL5TOOT3PW76Z8BV</td><td>1311332.0</td></tr><tr><td>3BG1V1LA09JIRV4J</td><td>1302622.0</td></tr><tr><td>YIH17W1PK390YFI3</td><td>1294400.0</td></tr><tr><td>8NU64HY3M2ZQYXZU</td><td>1292542.0</td></tr><tr><td>7ET65ZSZAGBPZN5L</td><td>1290727.0</td></tr><tr><td>YBGZ6VXRKH4JTI2H</td><td>1284475.0</td></tr><tr><td>CXZCKGXHAJ7PN6O4</td><td>1281938.0</td></tr><tr><td>2OI9VJGTF0OUZJIR</td><td>1277670.0</td></tr><tr><td>NWMAMRRFATHGW0R1</td><td>1276833.0</td></tr><tr><td>2N7FFXLJZANMZOXR</td><td>1274476.0</td></tr><tr><td>1TVMT0QGJ7M3LZX0</td><td>1270023.0</td></tr><tr><td>DLJJ56C2RR2D03QS</td><td>1266473.0</td></tr><tr><td>1LKL93XQREEOZK0Y</td><td>1255917.0</td></tr><tr><td>8GUAS5CDF5XU7RGE</td><td>1254462.0</td></tr><tr><td>AJTNNU39C917CGL8</td><td>1249340.0</td></tr><tr><td>DYSRTQMQX2D2B7TR</td><td>1244661.0</td></tr><tr><td>BU6BGT7QPXNUY2RO</td><td>1243672.0</td></tr><tr><td>ZLEWEHO3JW4T9OTZ</td><td>1243452.0</td></tr><tr><td>AKY62M66ALEW3TT9</td><td>1241167.0</td></tr><tr><td>2U8OQ401WRMAXJKN</td><td>1240305.0</td></tr><tr><td>47LSGYR3LIB0ZK8M</td><td>1229729.0</td></tr><tr><td>LSQJS5HOTCZ93H2I</td><td>1221844.0</td></tr><tr><td>954TLB1SN9IIZUKK</td><td>1216600.0</td></tr><tr><td>ONTC9XI9U75U4NF0</td><td>1208597.0</td></tr><tr><td>WVMTNYIVR02Q3GU4</td><td>1205131.0</td></tr><tr><td>K7RF21RAURCXNFXC</td><td>1201700.0</td></tr><tr><td>7MXRJFDK27TJOG45</td><td>1193607.0</td></tr><tr><td>W0XQUMUZZ8PHCRH9</td><td>1192545.0</td></tr><tr><td>A0UUI1N0SPLOUZZV</td><td>1191228.0</td></tr><tr><td>L8ZAYIRA81XVFXOL</td><td>1179933.0</td></tr><tr><td>SF8B6L08P27NIQ14</td><td>1179932.0</td></tr><tr><td>2ZSR7EK3O4AYB47L</td><td>1177192.0</td></tr><tr><td>082MUQ237BFEG6AR</td><td>1174486.0</td></tr><tr><td>MHF2KMKA3AKQNID5</td><td>1166433.0</td></tr><tr><td>G4HC84HVRTYE7LKA</td><td>1159921.0</td></tr><tr><td>P33NCMUO2PX6Y6RT</td><td>1153353.0</td></tr><tr><td>H0HLQ54LKFM4576K</td><td>1150589.0</td></tr><tr><td>VFSZQUIYGRN2PFR1</td><td>1149137.0</td></tr><tr><td>F49C9DGV5T0ML2IB</td><td>1144401.0</td></tr><tr><td>ML8SPA0V2VCYOIPW</td><td>1140900.0</td></tr><tr><td>YA3L69VTL7UAO7M0</td><td>1135634.0</td></tr><tr><td>SK2BRT9HUQUWDID1</td><td>1131270.0</td></tr><tr><td>XKW13E5W3MMFPXL3</td><td>1129268.0</td></tr><tr><td>YBWRC1WQHXE895WV</td><td>1125673.0</td></tr><tr><td>9SGLDGD61A1JX3LU</td><td>1124276.0</td></tr><tr><td>FVC58NFXY6CHQIHW</td><td>1122316.0</td></tr><tr><td>80SLAGQ2H9TENK4B</td><td>1119558.0</td></tr><tr><td>ZN9K8H2YV1E5YS1R</td><td>1114311.0</td></tr><tr><td>UECN3Q12JN5PGCWG</td><td>1114183.0</td></tr><tr><td>KY04NS9VIPROW4QI</td><td>1113439.0</td></tr><tr><td>4LIPY9OFVGP86P27</td><td>1108267.0</td></tr><tr><td>BJU3ZV4SMRURZM5N</td><td>1104898.0</td></tr><tr><td>7BHT6W2NBWQC5X8T</td><td>1104218.0</td></tr><tr><td>MBOOU4LRZUTJ9UUA</td><td>1102931.0</td></tr><tr><td>KFR4XWRNL18Q8ZQ4</td><td>1102424.0</td></tr><tr><td>UY0XOUALWSGVYA9H</td><td>1097953.0</td></tr><tr><td>1Z8M4BKSUD6J1R4K</td><td>1094833.0</td></tr><tr><td>64W06E7A9VJWPQF5</td><td>1090981.0</td></tr><tr><td>KRTUR6QPAX7L5X3R</td><td>1083476.0</td></tr><tr><td>EK7HG909GCNJIX12</td><td>1080426.0</td></tr><tr><td>YH384CA732H7SH9O</td><td>1076960.0</td></tr><tr><td>FT8HCDSQ2PBY0H5R</td><td>1073262.0</td></tr><tr><td>1VTC4ALKC8BS40KT</td><td>1072809.0</td></tr><tr><td>TKK1I9MXB9H9SP6V</td><td>1072564.0</td></tr><tr><td>E9NAA088XUFLPK2M</td><td>1071832.0</td></tr><tr><td>3OPWALAL3M3SH98G</td><td>1071028.0</td></tr><tr><td>GRXUM6NBOFPN17C0</td><td>1069191.0</td></tr><tr><td>S7S7WT8OCLALX49V</td><td>1068487.0</td></tr><tr><td>C5NKP7SMCFP5I06D</td><td>1062779.0</td></tr><tr><td>R8TK8KU538YNW24J</td><td>1038922.0</td></tr><tr><td>U7UGOTXCS95N8I39</td><td>1038660.0</td></tr><tr><td>VDNTQ8D1X0JJLVRL</td><td>1038527.0</td></tr><tr><td>O102JBUW8551Z15B</td><td>1032961.0</td></tr><tr><td>5NT3KUST1B1JZE47</td><td>1029668.0</td></tr><tr><td>NCSC6S6XU5TJF3VC</td><td>1026967.0</td></tr><tr><td>P0FYH9EO5DLAIGTZ</td><td>1016598.0</td></tr><tr><td>OK48LRD3R5D8P4FE</td><td>1009407.0</td></tr><tr><td>NM8G114168ARV8N3</td><td>999844.0</td></tr><tr><td>IZ1OPVRXBA4X82E2</td><td>999653.0</td></tr><tr><td>RPTS7L1DCDGLBZBW</td><td>997749.0</td></tr><tr><td>XJ4IL8YH0NWV2A75</td><td>996634.0</td></tr><tr><td>W4HPG36MJPH0MUQ8</td><td>993162.0</td></tr><tr><td>LQBLX4ZU19DA6TGC</td><td>993146.0</td></tr><tr><td>2DO2NHI6NONVD47Z</td><td>991076.0</td></tr><tr><td>9XAJ0RJRN7D85OC1</td><td>990571.0</td></tr><tr><td>3QH495WG1SI67FS6</td><td>982893.0</td></tr><tr><td>TJNVKROHQDCK6MQJ</td><td>976250.0</td></tr><tr><td>J5UR4Z76BAVCN42W</td><td>973003.0</td></tr><tr><td>C0B4KHFVCA8TYRSS</td><td>972925.0</td></tr><tr><td>1N7BXY0X77FD42NR</td><td>963732.0</td></tr><tr><td>9Y0LLMJ0HJQ93W41</td><td>958383.0</td></tr><tr><td>TG8XOMIF4NU8CTAI</td><td>957485.0</td></tr><tr><td>QJDVNV8HZ1Y7D3IT</td><td>956009.0</td></tr><tr><td>6Y7D18SZ2GT01H1H</td><td>955658.0</td></tr><tr><td>R1L07E190JQGSA42</td><td>955424.0</td></tr><tr><td>0FL54QXVTSOYNDJS</td><td>953742.0</td></tr><tr><td>UEDQWEMB0B2P4VDL</td><td>950168.0</td></tr><tr><td>KFPGVY6VS8DCKOYV</td><td>948149.0</td></tr><tr><td>HQRE2LG21W2OHCY5</td><td>947913.0</td></tr><tr><td>8ILV3KPGZ8H3DKFP</td><td>941579.0</td></tr><tr><td>CSNPVX9FSXE35BJ8</td><td>938245.0</td></tr><tr><td>H15P0RJ1ELH61RHN</td><td>935182.0</td></tr><tr><td>DR6T4931C2QPI5YZ</td><td>929973.0</td></tr><tr><td>8MK9DLLQY61ERSM0</td><td>929777.0</td></tr><tr><td>8IUCFO4MQN9GUWU1</td><td>921096.0</td></tr><tr><td>IOWJ9WHVI96VZWXU</td><td>920255.0</td></tr><tr><td>UIETYKK11LXM87N0</td><td>919299.0</td></tr><tr><td>IC3XSL9YZWYIZV3K</td><td>916967.0</td></tr><tr><td>8MEHSDA7H56Y9LW6</td><td>915702.0</td></tr><tr><td>GFDPGYUQTRG0IH7I</td><td>899934.0</td></tr><tr><td>1OIRO8MPWFVX0P6U</td><td>899877.0</td></tr><tr><td>VQF6CZ06K0RL553N</td><td>881839.0</td></tr><tr><td>EDM8VEDJ5Z5HLPJJ</td><td>874237.0</td></tr><tr><td>5K9UEYSRX8WB1AIJ</td><td>869471.0</td></tr><tr><td>YWN74WW41OHD45JC</td><td>868863.0</td></tr><tr><td>G2AN8UUT7YT5B0FQ</td><td>863179.0</td></tr><tr><td>SCN48Z7TZXPX3UM7</td><td>860548.0</td></tr><tr><td>EFGBHKXAUO8N7L1X</td><td>852582.0</td></tr><tr><td>RW4O7831F17A2YE7</td><td>845398.0</td></tr><tr><td>HVIKSRIK1C50FH8Q</td><td>844230.0</td></tr><tr><td>QJIPZHTA43GWVUVY</td><td>842705.0</td></tr><tr><td>7LPYVK4W0MZ634UZ</td><td>840511.0</td></tr><tr><td>TE7A0PDHJDD591QZ</td><td>837342.0</td></tr><tr><td>W4XVNC000NRCKON6</td><td>835889.0</td></tr><tr><td>VIBHIZPUCPCY1ZR8</td><td>828794.0</td></tr><tr><td>05USHZ7BLRS3JV37</td><td>823624.0</td></tr><tr><td>KPL0DA835AOLCOAY</td><td>816420.0</td></tr><tr><td>TEFC4HKRBDZO6DBY</td><td>808191.0</td></tr><tr><td>R3YNUEK6BFCR9KW6</td><td>806185.0</td></tr><tr><td>EATNITEEQ4PN64EU</td><td>805265.0</td></tr><tr><td>377V52VDS28SZYXO</td><td>805089.0</td></tr><tr><td>41BV9DB69IMCFHOU</td><td>801637.0</td></tr><tr><td>L7BDKIJ5AYSF2HEY</td><td>796236.0</td></tr><tr><td>U3LQYCUDDSYKS4SF</td><td>778341.0</td></tr><tr><td>WGW2T3B0SGV55B7W</td><td>777568.0</td></tr><tr><td>6J8JXC7B82ZVFJ0E</td><td>777525.0</td></tr><tr><td>HYKPQN29Q4FJAA0X</td><td>777285.0</td></tr><tr><td>J8F704C816SSWJIZ</td><td>771444.0</td></tr><tr><td>GTKO7EPYZWFFXWAA</td><td>770540.0</td></tr><tr><td>1F2BKFV9G2BOG8I9</td><td>770396.0</td></tr><tr><td>NOM7J6G4R20S8LCP</td><td>767910.0</td></tr><tr><td>NZA4XJ5PTOTDWFKH</td><td>762148.0</td></tr><tr><td>PM05ZGSVB8R6WXC4</td><td>758344.0</td></tr><tr><td>PNMZB1NZ2SXF34I2</td><td>756004.0</td></tr><tr><td>EGY1LPVPEKJSGXP2</td><td>754864.0</td></tr><tr><td>4ODGD652E0SUHS7U</td><td>751230.0</td></tr><tr><td>1JPSZ91MTJDKD8DX</td><td>743802.0</td></tr><tr><td>VS9NTDY7ZBQ6IOFX</td><td>741846.0</td></tr><tr><td>PGW4E986QMKQYKWD</td><td>739510.0</td></tr><tr><td>VGDZULI86OH6499M</td><td>733122.0</td></tr><tr><td>DVV5GLHWKUGPZO95</td><td>727267.0</td></tr><tr><td>TD5ZWI6125ADYEU1</td><td>721694.0</td></tr><tr><td>79B3H7ALTV91JHYR</td><td>717372.0</td></tr><tr><td>6361H2FRWL1QYC3V</td><td>711962.0</td></tr><tr><td>7BN407CC0K2FAOA7</td><td>709933.0</td></tr><tr><td>TUCNKRONBF8R7T9I</td><td>707811.0</td></tr><tr><td>GK0FO75LDHB17OWK</td><td>701054.0</td></tr><tr><td>8GJR4EYX7Y1JQ3D0</td><td>699606.0</td></tr><tr><td>DWMHQNCYGSM5J21I</td><td>699130.0</td></tr><tr><td>VLCM6VXZBQALUI1N</td><td>697423.0</td></tr><tr><td>YF1PO5Q7AZ2R0S2Q</td><td>684904.0</td></tr><tr><td>YI5HUMHIFZ4B9485</td><td>684855.0</td></tr><tr><td>GPKWZWUFJD6DI5LY</td><td>684188.0</td></tr><tr><td>GWMN1HYJFKZBL22N</td><td>681497.0</td></tr><tr><td>JWEWV9HTDJDQI8OX</td><td>675985.0</td></tr><tr><td>K456TNPTC6PBDEQU</td><td>671916.0</td></tr><tr><td>OF1RAK0LZKIVTRU9</td><td>667038.0</td></tr><tr><td>PIJR7ZNFBDHCN25Y</td><td>665554.0</td></tr><tr><td>5MQHHH8RG8Z6SMWA</td><td>662584.0</td></tr><tr><td>FF5OSXCHXG8ZALYW</td><td>662066.0</td></tr><tr><td>B4KSS6Q1K8UJROPH</td><td>661034.0</td></tr><tr><td>Y0549M7UMYA7OZ15</td><td>650811.0</td></tr><tr><td>SUF59WP7YSXSGFQV</td><td>650561.0</td></tr><tr><td>QK0IAE9F04E5EC6U</td><td>648974.0</td></tr><tr><td>DM6KIIRT8RME4B2J</td><td>646061.0</td></tr><tr><td>HS5VOIA0GK4PESWH</td><td>644058.0</td></tr><tr><td>CYTED5LCYZO8XVY2</td><td>643727.0</td></tr><tr><td>C3SK9SC6XW0XTAT9</td><td>640610.0</td></tr><tr><td>ZL3E62J5VX1LB5KM</td><td>639450.0</td></tr><tr><td>PUEODHWAR7PERPWP</td><td>639220.0</td></tr><tr><td>BWXYGRRXC3XTX2N5</td><td>638370.0</td></tr><tr><td>83JNEC1J1QBLXJJ8</td><td>627276.0</td></tr><tr><td>XKO58UE8J5784EY9</td><td>622199.0</td></tr><tr><td>NCF6KHW4B1J07EB3</td><td>617737.0</td></tr><tr><td>7WF243MDZ3EJ05PT</td><td>617232.0</td></tr><tr><td>MNFZUBMFYQ84RT48</td><td>613967.0</td></tr><tr><td>NRFOJOMULJEK3A0K</td><td>606827.0</td></tr><tr><td>NBOXWC42D4R7IQDP</td><td>605298.0</td></tr><tr><td>SKPB6VR0IGFPYY84</td><td>599685.0</td></tr><tr><td>HK0EI7ZEJ4IS8G3G</td><td>595822.0</td></tr><tr><td>ITBLG2WMC9XQ4MPC</td><td>594803.0</td></tr><tr><td>GQZEZ8RKPNQNPFJX</td><td>588454.0</td></tr><tr><td>SQ77YG3RXI5VCJX7</td><td>583511.0</td></tr><tr><td>F5IFM18BIWIVXRQL</td><td>577532.0</td></tr><tr><td>6P82RT7K5IEOT4CE</td><td>576703.0</td></tr><tr><td>IW8Y3KTUW1DGFCW8</td><td>567768.0</td></tr><tr><td>GUQ7ISRIT7FNRVTE</td><td>560651.0</td></tr><tr><td>71OTKEXHL8NNOPMV</td><td>555164.0</td></tr><tr><td>5CLUUTR787ATGTTS</td><td>553285.0</td></tr><tr><td>C02C4L578FSOCTJF</td><td>546892.0</td></tr><tr><td>9LUFFNQ919WZ2K3J</td><td>546266.0</td></tr><tr><td>FSZ8O9CRPM3ZX466</td><td>541200.0</td></tr><tr><td>7ZANOLGQK6GS8M6K</td><td>538817.0</td></tr><tr><td>7GQPEPCIM7OYB0QI</td><td>536482.0</td></tr><tr><td>EG7L6ZBFW7Z45RCJ</td><td>533104.0</td></tr><tr><td>WKFRFUK0PFCBS8MX</td><td>531079.0</td></tr><tr><td>W2J74U3P18UNBEGG</td><td>530680.0</td></tr><tr><td>P5P919IQ25SK0K5Q</td><td>530662.0</td></tr><tr><td>2V1C245SQXPVHR61</td><td>528455.0</td></tr><tr><td>GQ6VCRVEYO76RBC0</td><td>527596.0</td></tr><tr><td>Y28636M1R9R5XTH5</td><td>524257.0</td></tr><tr><td>6IK38WFC49MG16RU</td><td>507894.0</td></tr><tr><td>O2RRWUS6VNW9YP4W</td><td>505586.0</td></tr><tr><td>S41ZBP642YGJ1QTP</td><td>505511.0</td></tr><tr><td>XVAXFSZ1DE902UEZ</td><td>504952.0</td></tr><tr><td>7ZVNZK5TZBJ1MFHN</td><td>496042.0</td></tr><tr><td>GPWF5NSERAO3QX1R</td><td>494077.0</td></tr><tr><td>IACRWDMI9XK13SFZ</td><td>489742.0</td></tr><tr><td>7KAO0NOD1UI6EBYV</td><td>489123.0</td></tr><tr><td>7KTI2FN875JPUOTF</td><td>484866.0</td></tr><tr><td>NRQYHMKFFK5QQP9L</td><td>483654.0</td></tr><tr><td>EYW39TK75XM080ER</td><td>482321.0</td></tr><tr><td>ZLCAGMEO4AO1IRGB</td><td>477963.0</td></tr><tr><td>A1XZFS0Y40YRW07D</td><td>474095.0</td></tr><tr><td>I1MSLJ9CJ6BBCCTU</td><td>472883.0</td></tr><tr><td>QLSJNJC8YLLYZ2V2</td><td>471068.0</td></tr><tr><td>A1FEVBMBV2Q586RQ</td><td>462178.0</td></tr><tr><td>59YY1J8OEMNW861Z</td><td>455696.0</td></tr><tr><td>JIGPM4SBA4N2AKYY</td><td>452668.0</td></tr><tr><td>G9T8KNQF8XD2XHTS</td><td>449998.0</td></tr><tr><td>7QSMK0EAF3SUWBEY</td><td>447015.0</td></tr><tr><td>ZTMXAVX1AI5W5DSR</td><td>434649.0</td></tr><tr><td>Z6XRAAGPHX7QCK38</td><td>429843.0</td></tr><tr><td>M2YJGYYBAH1ZTMVZ</td><td>418733.0</td></tr><tr><td>7UYAH2XKIHHSPCAJ</td><td>415248.0</td></tr><tr><td>BQKNQZ2T8LHETQUJ</td><td>406175.0</td></tr><tr><td>IQ3SRYS7N7G5DKSN</td><td>405123.0</td></tr><tr><td>5Z8LI3J3KJBRP410</td><td>392306.0</td></tr><tr><td>5KR9L0UI8WIZSAVK</td><td>390607.0</td></tr><tr><td>R460ZA3J4HKNKPQ8</td><td>390141.0</td></tr><tr><td>JVZXZATGUVHSWUQW</td><td>390071.0</td></tr><tr><td>RST95V5R2BF4DX43</td><td>384571.0</td></tr><tr><td>OHN5V8NAJC910BYH</td><td>381509.0</td></tr><tr><td>IRF3D60TYZEJUAOS</td><td>373727.0</td></tr><tr><td>YEW0KJFJYEAY6820</td><td>373649.0</td></tr><tr><td>C5QMSZTP07AO93ZR</td><td>368843.0</td></tr><tr><td>TF3YD6TJQ32T2AEU</td><td>366947.0</td></tr><tr><td>N5EGOHDKYSWFRYSP</td><td>362901.0</td></tr><tr><td>PN36EV9TH88MUP9J</td><td>362594.0</td></tr><tr><td>OE7AU8IQ7MXSYQO8</td><td>362428.0</td></tr><tr><td>S8ESJ4C56BV8LFSF</td><td>352420.0</td></tr><tr><td>5HHTNZMS7IKXZ4JN</td><td>349721.0</td></tr><tr><td>SXX66MA06B8C6LSI</td><td>349407.0</td></tr><tr><td>UJ6853X3W2WTCYVG</td><td>343384.0</td></tr><tr><td>16394VUI1CX8GJRY</td><td>333792.0</td></tr><tr><td>6NJQVBPBVY4598C6</td><td>332861.0</td></tr><tr><td>HJ59KA0WQW9XAK5F</td><td>332553.0</td></tr><tr><td>9KWX0RG2K55XPOLA</td><td>332212.0</td></tr><tr><td>O4C9CE3BBXVB69CP</td><td>325312.0</td></tr><tr><td>88XQPPX4DC2RLM97</td><td>320478.0</td></tr><tr><td>BEMYAR2FXZ6YO2IV</td><td>311545.0</td></tr><tr><td>LSLB91X9EV671OMJ</td><td>308334.0</td></tr><tr><td>JM0M91Z2SDFTRC50</td><td>306472.0</td></tr><tr><td>LIGHVXL491IQHZAL</td><td>306385.0</td></tr><tr><td>67UBBLGZ364RX7EW</td><td>303684.0</td></tr><tr><td>U68WPHV8BRAGG11K</td><td>302309.0</td></tr><tr><td>TA7T3TSTJESE8Y3X</td><td>300663.0</td></tr><tr><td>CRWYQ6AAKVQNRDNR</td><td>298904.0</td></tr><tr><td>3UAB0PYND1WCZVZO</td><td>298070.0</td></tr><tr><td>QO24Z5D8MBYBHHFK</td><td>294941.0</td></tr><tr><td>0I2LS16GXWLOSOSZ</td><td>294837.0</td></tr><tr><td>VLSE4Y2B14J0IR57</td><td>290965.0</td></tr><tr><td>VQ59VHGZZ0J5TYE9</td><td>288950.0</td></tr><tr><td>NIW73ZQMGEOB7BHT</td><td>281531.0</td></tr><tr><td>P4JUSTIV94U997CD</td><td>280183.0</td></tr><tr><td>LILCCDLUPJO47EU1</td><td>265058.0</td></tr><tr><td>GUQG3Q0Z9NXFINAP</td><td>264388.0</td></tr><tr><td>74XXKN7N16WVZECF</td><td>264193.0</td></tr><tr><td>F3JUZDE6ZFS5SCU3</td><td>254902.0</td></tr><tr><td>QRS1A8BD9MEHI21Q</td><td>250059.0</td></tr><tr><td>QDPIZZ7Y3A0SMYA9</td><td>249233.0</td></tr><tr><td>ZK5GD1YUPAVE0XFA</td><td>247298.0</td></tr><tr><td>6KECDN798JVVVSFV</td><td>234164.0</td></tr><tr><td>K2LYAJJMMJOPUKWU</td><td>232180.0</td></tr><tr><td>0BPH07PETEFAHT1X</td><td>231485.0</td></tr><tr><td>9BE40KF3LA57WP76</td><td>226163.0</td></tr><tr><td>Y8JZ2UPRVN1E0OVM</td><td>225533.0</td></tr><tr><td>0Y1DFDXEF9NTZE4R</td><td>225339.0</td></tr><tr><td>326PG98FZEDUMLPF</td><td>223242.0</td></tr><tr><td>MIMR1A8F28QKZ4YF</td><td>221556.0</td></tr><tr><td>UQCZS3FKR22YIMGN</td><td>218405.0</td></tr><tr><td>Q1Z20DTQGRGQ4D4N</td><td>218197.0</td></tr><tr><td>J8FC92WVD34JQXQR</td><td>214510.0</td></tr><tr><td>AGDXX3RQGLDDSMOK</td><td>208717.0</td></tr><tr><td>WM6NROCVJSAUMHR0</td><td>207594.0</td></tr><tr><td>2L535SCD0F09XJUY</td><td>207161.0</td></tr><tr><td>5V2CEW0MI2S4QXCJ</td><td>203445.0</td></tr><tr><td>371AXDDB6M3VLKDB</td><td>192267.0</td></tr><tr><td>NE8FDXC9N9IS1V58</td><td>191534.0</td></tr><tr><td>KF9TMX2DRGMEC96B</td><td>182997.0</td></tr><tr><td>HJRTSRADZBOPZQ6P</td><td>182075.0</td></tr><tr><td>EJ4X7J85CMNEZ6UH</td><td>171098.0</td></tr><tr><td>Q9890AFSIJO9VGNM</td><td>164909.0</td></tr><tr><td>C87P1MQ2JY3S1VNH</td><td>161249.0</td></tr><tr><td>QK029II3LJ3358ZI</td><td>157043.0</td></tr><tr><td>CL7KIHFE85QBJ82S</td><td>155995.0</td></tr><tr><td>3R0YZJ3PWWV3WW4R</td><td>152845.0</td></tr><tr><td>Z8BL2NLL9ZX0P7T4</td><td>151181.0</td></tr><tr><td>1JOHIAOL9TVUWV79</td><td>151138.0</td></tr><tr><td>9BZN7UEU8FOF4YX2</td><td>140433.0</td></tr><tr><td>2VAB3N7ABN0MAZCU</td><td>125497.0</td></tr><tr><td>PO9RCK4W4P7192J6</td><td>120686.0</td></tr><tr><td>UT1GV3SUZW1ELWS4</td><td>119211.0</td></tr><tr><td>8Y27SDUXMJD4DERT</td><td>115168.0</td></tr><tr><td>8Z8FQ5CLNMB7R46C</td><td>114620.0</td></tr><tr><td>V1SXUAZAUPLWU32F</td><td>114378.0</td></tr><tr><td>GLQV334POH4REUMS</td><td>111025.0</td></tr><tr><td>P4K0E7JHKAPYJ794</td><td>110417.0</td></tr><tr><td>55WNKA07N1U4HG2D</td><td>108736.0</td></tr><tr><td>RTOI27UIWUTVAPZR</td><td>102364.0</td></tr><tr><td>RWCRJF07AOZU9HJ2</td><td>101755.0</td></tr><tr><td>SNS2CHVE8ZGEJ3LF</td><td>100774.0</td></tr><tr><td>71FZQP2XREON07P5</td><td>97879.0</td></tr><tr><td>PPWBEBL3Q67R7OU9</td><td>95885.0</td></tr><tr><td>YD601FMY7LBMUJJD</td><td>93252.0</td></tr><tr><td>HAYY3B6LDDG7S526</td><td>90489.0</td></tr><tr><td>NRUDT64BMWJE3VQT</td><td>89540.0</td></tr><tr><td>UPH9HE8Z5UCJE64P</td><td>89149.0</td></tr><tr><td>8CRRO6WZUSV5ZDHF</td><td>88269.0</td></tr><tr><td>Z2P89UVPHPZEUPFF</td><td>68009.0</td></tr></tbody></table></div>"
      ]
     },
     "metadata": {
      "application/vnd.databricks.v1+output": {
       "addedWidgets": {},
       "aggData": [],
       "aggError": "",
       "aggOverflow": false,
       "aggSchema": [],
       "aggSeriesLimitReached": false,
       "aggType": "",
       "arguments": {},
       "columnCustomDisplayInfos": {},
       "data": [
        [
         "VQZHOTV9ZY7G8E8G",
         2173704.0
        ],
        [
         "N4MYRNGJNE6819FB",
         2128858.0
        ],
        [
         "M7EUJWTOIMTKZU36",
         2120770.0
        ],
        [
         "LTXEJ2R3FWVKHKNW",
         2098385.0
        ],
        [
         "CU16RNMOTWY8ISAM",
         2062037.0
        ],
        [
         "WDQGHT9N1S9XHHH0",
         2044935.0
        ],
        [
         "N6L4PQZDNEDUEIWT",
         2025528.0
        ],
        [
         "PUFE7RIC74KGFVIC",
         2002094.0
        ],
        [
         "LUZ5HP3WUJ444VF0",
         1989460.0
        ],
        [
         "97UNNAT790E0WM4N",
         1953854.0
        ],
        [
         "W6X360UO6WHV9JVM",
         1952382.0
        ],
        [
         "ISA8445OKV13F3YZ",
         1912839.0
        ],
        [
         "KR23YQWKJO775M8X",
         1891821.0
        ],
        [
         "5H7F1Y0C40TZ8Y04",
         1890509.0
        ],
        [
         "534ESAMPETPUGAXC",
         1876176.0
        ],
        [
         "Z0U3DRFA7ABRC4GD",
         1871235.0
        ],
        [
         "QKFBXQQUSHAK1HCD",
         1868660.0
        ],
        [
         "2YIBV6EWJT8XS7VA",
         1867242.0
        ],
        [
         "L6K1S1TIG41C1P78",
         1862353.0
        ],
        [
         "7EU3W20DT95ABWSG",
         1861273.0
        ],
        [
         "AGVAPDF33H140IEJ",
         1843724.0
        ],
        [
         "DNJBDVVI6BRLBPHE",
         1841203.0
        ],
        [
         "GH8ARB7HW9FTSG99",
         1840480.0
        ],
        [
         "XOJFUUOKVD4600B2",
         1836656.0
        ],
        [
         "GCN5EAN1ZYSFQW6E",
         1830660.0
        ],
        [
         "4V5ZHX4HRM47OUB5",
         1827976.0
        ],
        [
         "5BYJQUIVIFWVE5SL",
         1822157.0
        ],
        [
         "0PK9IDAFZ43NCGX3",
         1821973.0
        ],
        [
         "X54UQRVEOF40VHNF",
         1817574.0
        ],
        [
         "NG8DVRBW0FTZQFOZ",
         1816966.0
        ],
        [
         "AW0U4QZE3YIW17PW",
         1816420.0
        ],
        [
         "L81YYG8DZIUSSEBG",
         1813203.0
        ],
        [
         "GCASAHID9MVGA88Y",
         1809955.0
        ],
        [
         "U6Q24YI1HZY3MV6N",
         1807541.0
        ],
        [
         "4DEVEX8RN3IBSWZP",
         1802457.0
        ],
        [
         "X5Z8TS9K3BWKQZD3",
         1799011.0
        ],
        [
         "R54KNV3B0DLODKGY",
         1797477.0
        ],
        [
         "HB08EJFA8PLG4DHG",
         1797270.0
        ],
        [
         "OVPY8DBGOAWR8FZ0",
         1796126.0
        ],
        [
         "QS9Y9J9EFJYKV9KW",
         1796011.0
        ],
        [
         "4322MKYDVNJCZ2TE",
         1795836.0
        ],
        [
         "WOIUQEVCM87PFUCN",
         1791877.0
        ],
        [
         "E5Y0CH8UGKFZ8MB5",
         1789638.0
        ],
        [
         "1GLRLJCD4HBUVRLJ",
         1788370.0
        ],
        [
         "RJQIDDAQNL5XUWFY",
         1786767.0
        ],
        [
         "VZV7I6YA8IAX510X",
         1786567.0
        ],
        [
         "Q2W6FPCMAXU1OV3Q",
         1783899.0
        ],
        [
         "12RZI726YSAWMUSJ",
         1777041.0
        ],
        [
         "Y0HLVLLS8BSLIY1K",
         1771302.0
        ],
        [
         "CNDRWR5V7AUC9A6Y",
         1768020.0
        ],
        [
         "8JVDTAJ06NAVMO7C",
         1767143.0
        ],
        [
         "CILBBO3VETGHOCW7",
         1766598.0
        ],
        [
         "9LARAB7L82QBEIE4",
         1762162.0
        ],
        [
         "OJG2V2XYY3VPOAXN",
         1759302.0
        ],
        [
         "CLEULHOWR6DZC4ZJ",
         1754339.0
        ],
        [
         "RFP7SELUQ9WKHU0N",
         1753815.0
        ],
        [
         "AXF6C7DMRD4FAAQV",
         1753594.0
        ],
        [
         "XUPAV9V0C5RZ0FPB",
         1741579.0
        ],
        [
         "P6DXB4Q0CNK4I78Z",
         1740991.0
        ],
        [
         "SP0N3G92YZNLH34Y",
         1738282.0
        ],
        [
         "U97GV7LYA8OPTCW8",
         1731785.0
        ],
        [
         "XM04H2PV0LPK6FR7",
         1728667.0
        ],
        [
         "KCF7P36U0NLM0E2W",
         1728449.0
        ],
        [
         "1FHIOAHKPYBTRANM",
         1726791.0
        ],
        [
         "GGEHU78BQPPV9224",
         1726305.0
        ],
        [
         "RVVXV41QM5UUPTCQ",
         1720562.0
        ],
        [
         "GU9TH5CEPDOE56NA",
         1720283.0
        ],
        [
         "BYYEYSNFZ56E0W8J",
         1718815.0
        ],
        [
         "NXLE8MNMFY9Q9NRO",
         1718094.0
        ],
        [
         "8V8HD97OFFA505D5",
         1709668.0
        ],
        [
         "INVZR96LZR7LJU1S",
         1706257.0
        ],
        [
         "9UVSA52Z4KB0P593",
         1704496.0
        ],
        [
         "T2LBAPSG044EFXTT",
         1702353.0
        ],
        [
         "UODO0E3FMQ6I8SVM",
         1699614.0
        ],
        [
         "G44LNG5YJ53T5S4Q",
         1690988.0
        ],
        [
         "RRD2R9XMAJDP7TUY",
         1689213.0
        ],
        [
         "CB9XUQY7NM32U1VK",
         1679808.0
        ],
        [
         "JDZZ8CKVNGAO06SZ",
         1672493.0
        ],
        [
         "SBM750EJS70KX56O",
         1669500.0
        ],
        [
         "CEO9SJ588NMQWCNC",
         1668984.0
        ],
        [
         "TAMXPZQ8MAOT8W2A",
         1663831.0
        ],
        [
         "74AWJMV464RQ6F5W",
         1661365.0
        ],
        [
         "T9S4K1W6LGN18GE2",
         1655791.0
        ],
        [
         "E2ECSKJZSR3SSKCC",
         1638666.0
        ],
        [
         "VRVN6Q49FS2YQTXH",
         1636313.0
        ],
        [
         "BD9TLA4NQL3F2DB1",
         1634812.0
        ],
        [
         "QWDMOAOLVOGU7528",
         1633678.0
        ],
        [
         "8KT16VK3K66L8Z6Q",
         1631035.0
        ],
        [
         "NBCZZD1ITCBJ5YX1",
         1629847.0
        ],
        [
         "Y8PSH5OWK1CN2934",
         1628706.0
        ],
        [
         "OV7YNOMBRZ9Z52B7",
         1625235.0
        ],
        [
         "64EVKAU9ESMNRQ0W",
         1611200.0
        ],
        [
         "NJY553IUYBFZBKJW",
         1606839.0
        ],
        [
         "FV9FAZVF2XXDJ1A8",
         1604538.0
        ],
        [
         "SYC7RNKEFAK3RGTH",
         1602041.0
        ],
        [
         "OFRM2WHOD37S1TNU",
         1601794.0
        ],
        [
         "5PV0APT3XUGMN9YP",
         1597303.0
        ],
        [
         "XV9AF82TRZ74S1PS",
         1595401.0
        ],
        [
         "H5NPIHYVHBG0DIXE",
         1592802.0
        ],
        [
         "XU4RJVAWDNPZPBJG",
         1591877.0
        ],
        [
         "SKF2FH8QYJVNMOEH",
         1591009.0
        ],
        [
         "FCW1U79W3AH0V5LC",
         1588968.0
        ],
        [
         "HMDAFOGYKLRE5EV2",
         1588336.0
        ],
        [
         "4OHGZI6WG9X7AGDU",
         1585213.0
        ],
        [
         "MN9G09J6NLQG26AI",
         1570539.0
        ],
        [
         "RJNQFX9N9HGXLTBT",
         1566810.0
        ],
        [
         "P06XRG1XRH4RZM1S",
         1562772.0
        ],
        [
         "V5QETHE17Q8LHDB7",
         1555882.0
        ],
        [
         "UUMKI9RDAFGNB6O5",
         1552630.0
        ],
        [
         "2WGFG3PBP7JFPSWY",
         1550211.0
        ],
        [
         "A5Q7WMWPK3TUIY99",
         1547911.0
        ],
        [
         "6XNZPJPS6MAR83UL",
         1547381.0
        ],
        [
         "I5YO4QYC9VWK09AM",
         1540800.0
        ],
        [
         "UFLMWFVMOOYENUL5",
         1540707.0
        ],
        [
         "DY9ID3BYIS59CFRK",
         1540420.0
        ],
        [
         "AV3PC0UQHLIBNS3G",
         1539887.0
        ],
        [
         "9LCT88TNQ7GP93JN",
         1538112.0
        ],
        [
         "8SOWV3FUAGRPR3HO",
         1531411.0
        ],
        [
         "FL99MJ2KVSA1UZKL",
         1528565.0
        ],
        [
         "3MSNX6N8EQWQOW64",
         1528013.0
        ],
        [
         "3ALA78WIVRG1COKR",
         1522977.0
        ],
        [
         "07VYLGHO65I3XC1O",
         1522853.0
        ],
        [
         "REXST5Q0WNYPZOCF",
         1519566.0
        ],
        [
         "FHZO2SB0PWGD3OJS",
         1515908.0
        ],
        [
         "P94NG1UEN6188FRG",
         1513181.0
        ],
        [
         "JAJKMWFT6RJRJVYD",
         1513120.0
        ],
        [
         "O9L4CYX98YW7I6FE",
         1508005.0
        ],
        [
         "P0QR96147PWS5TPJ",
         1502046.0
        ],
        [
         "BC7WBXO82ZNPRY4O",
         1498852.0
        ],
        [
         "ISBNNH8GZWNG9CHD",
         1493126.0
        ],
        [
         "ZM2JKGYBBFIF86C8",
         1486876.0
        ],
        [
         "ARJG3Q6PUTB1DNDD",
         1484972.0
        ],
        [
         "DLIRPUBVM6K437OL",
         1475852.0
        ],
        [
         "1YXNBPURTD4CAVEO",
         1473803.0
        ],
        [
         "E7SZU9JMNMAGN6RL",
         1472487.0
        ],
        [
         "VO81XTSKUQ3MYCE7",
         1468188.0
        ],
        [
         "S0T49GMHQIMYVRS9",
         1463057.0
        ],
        [
         "JUMF21H8O3DSUCXW",
         1462837.0
        ],
        [
         "NJ5480ZCU4IQIGFU",
         1456872.0
        ],
        [
         "RUIACTB314FUYT53",
         1452802.0
        ],
        [
         "6WM6DE11OA3Q78U6",
         1450717.0
        ],
        [
         "CJBG9E6WWTF3WR9S",
         1450685.0
        ],
        [
         "ZGMM7BB1DGU4IMUS",
         1448318.0
        ],
        [
         "LER6J0NE5HNW0LNW",
         1439912.0
        ],
        [
         "0ZRTK79ZOX7BOFSN",
         1439583.0
        ],
        [
         "6GBOS1AO6TDDF39Q",
         1439073.0
        ],
        [
         "MS9X776GHMP4RSCQ",
         1436579.0
        ],
        [
         "P1C11WQ78DQILK3E",
         1434497.0
        ],
        [
         "INVT9K7HFTV94PF0",
         1433631.0
        ],
        [
         "210CQ137W48HUHXX",
         1421005.0
        ],
        [
         "ZBD1MAGJWQ2R642N",
         1415628.0
        ],
        [
         "B0YQ5U1KI1X3SDJ8",
         1389433.0
        ],
        [
         "Y2TJ5UUPUHEZZWX3",
         1378841.0
        ],
        [
         "LPGAHMI15DRDPV5B",
         1372914.0
        ],
        [
         "JNC2O6MVEDL80P0D",
         1372443.0
        ],
        [
         "4L8F5SR61SL5PTQU",
         1371031.0
        ],
        [
         "UMGYZWYAZKLBMPDO",
         1367932.0
        ],
        [
         "7KAPXGCCZC0ZR0Y5",
         1360374.0
        ],
        [
         "ZWT68Z5JHHDHQKRJ",
         1355996.0
        ],
        [
         "JI39SR5FGI8UVO6L",
         1355090.0
        ],
        [
         "1O1OLMA5R2KV85YL",
         1350017.0
        ],
        [
         "YDO6VWGYIRK3UBGS",
         1343526.0
        ],
        [
         "0CF5HSNN53K6N0N0",
         1336444.0
        ],
        [
         "U34YU87T9RGQ909K",
         1333907.0
        ],
        [
         "LINIH0WUIZCTHZJI",
         1331182.0
        ],
        [
         "XL1M7ECQYTNUOH4N",
         1330857.0
        ],
        [
         "Q5XSCYOID4LSR42I",
         1329212.0
        ],
        [
         "O01HSCN982V70CA7",
         1328864.0
        ],
        [
         "HX7Y25GQC3CU0YZK",
         1319841.0
        ],
        [
         "VK3KZDLB8HV5YUAX",
         1318831.0
        ],
        [
         "YL5TOOT3PW76Z8BV",
         1311332.0
        ],
        [
         "3BG1V1LA09JIRV4J",
         1302622.0
        ],
        [
         "YIH17W1PK390YFI3",
         1294400.0
        ],
        [
         "8NU64HY3M2ZQYXZU",
         1292542.0
        ],
        [
         "7ET65ZSZAGBPZN5L",
         1290727.0
        ],
        [
         "YBGZ6VXRKH4JTI2H",
         1284475.0
        ],
        [
         "CXZCKGXHAJ7PN6O4",
         1281938.0
        ],
        [
         "2OI9VJGTF0OUZJIR",
         1277670.0
        ],
        [
         "NWMAMRRFATHGW0R1",
         1276833.0
        ],
        [
         "2N7FFXLJZANMZOXR",
         1274476.0
        ],
        [
         "1TVMT0QGJ7M3LZX0",
         1270023.0
        ],
        [
         "DLJJ56C2RR2D03QS",
         1266473.0
        ],
        [
         "1LKL93XQREEOZK0Y",
         1255917.0
        ],
        [
         "8GUAS5CDF5XU7RGE",
         1254462.0
        ],
        [
         "AJTNNU39C917CGL8",
         1249340.0
        ],
        [
         "DYSRTQMQX2D2B7TR",
         1244661.0
        ],
        [
         "BU6BGT7QPXNUY2RO",
         1243672.0
        ],
        [
         "ZLEWEHO3JW4T9OTZ",
         1243452.0
        ],
        [
         "AKY62M66ALEW3TT9",
         1241167.0
        ],
        [
         "2U8OQ401WRMAXJKN",
         1240305.0
        ],
        [
         "47LSGYR3LIB0ZK8M",
         1229729.0
        ],
        [
         "LSQJS5HOTCZ93H2I",
         1221844.0
        ],
        [
         "954TLB1SN9IIZUKK",
         1216600.0
        ],
        [
         "ONTC9XI9U75U4NF0",
         1208597.0
        ],
        [
         "WVMTNYIVR02Q3GU4",
         1205131.0
        ],
        [
         "K7RF21RAURCXNFXC",
         1201700.0
        ],
        [
         "7MXRJFDK27TJOG45",
         1193607.0
        ],
        [
         "W0XQUMUZZ8PHCRH9",
         1192545.0
        ],
        [
         "A0UUI1N0SPLOUZZV",
         1191228.0
        ],
        [
         "L8ZAYIRA81XVFXOL",
         1179933.0
        ],
        [
         "SF8B6L08P27NIQ14",
         1179932.0
        ],
        [
         "2ZSR7EK3O4AYB47L",
         1177192.0
        ],
        [
         "082MUQ237BFEG6AR",
         1174486.0
        ],
        [
         "MHF2KMKA3AKQNID5",
         1166433.0
        ],
        [
         "G4HC84HVRTYE7LKA",
         1159921.0
        ],
        [
         "P33NCMUO2PX6Y6RT",
         1153353.0
        ],
        [
         "H0HLQ54LKFM4576K",
         1150589.0
        ],
        [
         "VFSZQUIYGRN2PFR1",
         1149137.0
        ],
        [
         "F49C9DGV5T0ML2IB",
         1144401.0
        ],
        [
         "ML8SPA0V2VCYOIPW",
         1140900.0
        ],
        [
         "YA3L69VTL7UAO7M0",
         1135634.0
        ],
        [
         "SK2BRT9HUQUWDID1",
         1131270.0
        ],
        [
         "XKW13E5W3MMFPXL3",
         1129268.0
        ],
        [
         "YBWRC1WQHXE895WV",
         1125673.0
        ],
        [
         "9SGLDGD61A1JX3LU",
         1124276.0
        ],
        [
         "FVC58NFXY6CHQIHW",
         1122316.0
        ],
        [
         "80SLAGQ2H9TENK4B",
         1119558.0
        ],
        [
         "ZN9K8H2YV1E5YS1R",
         1114311.0
        ],
        [
         "UECN3Q12JN5PGCWG",
         1114183.0
        ],
        [
         "KY04NS9VIPROW4QI",
         1113439.0
        ],
        [
         "4LIPY9OFVGP86P27",
         1108267.0
        ],
        [
         "BJU3ZV4SMRURZM5N",
         1104898.0
        ],
        [
         "7BHT6W2NBWQC5X8T",
         1104218.0
        ],
        [
         "MBOOU4LRZUTJ9UUA",
         1102931.0
        ],
        [
         "KFR4XWRNL18Q8ZQ4",
         1102424.0
        ],
        [
         "UY0XOUALWSGVYA9H",
         1097953.0
        ],
        [
         "1Z8M4BKSUD6J1R4K",
         1094833.0
        ],
        [
         "64W06E7A9VJWPQF5",
         1090981.0
        ],
        [
         "KRTUR6QPAX7L5X3R",
         1083476.0
        ],
        [
         "EK7HG909GCNJIX12",
         1080426.0
        ],
        [
         "YH384CA732H7SH9O",
         1076960.0
        ],
        [
         "FT8HCDSQ2PBY0H5R",
         1073262.0
        ],
        [
         "1VTC4ALKC8BS40KT",
         1072809.0
        ],
        [
         "TKK1I9MXB9H9SP6V",
         1072564.0
        ],
        [
         "E9NAA088XUFLPK2M",
         1071832.0
        ],
        [
         "3OPWALAL3M3SH98G",
         1071028.0
        ],
        [
         "GRXUM6NBOFPN17C0",
         1069191.0
        ],
        [
         "S7S7WT8OCLALX49V",
         1068487.0
        ],
        [
         "C5NKP7SMCFP5I06D",
         1062779.0
        ],
        [
         "R8TK8KU538YNW24J",
         1038922.0
        ],
        [
         "U7UGOTXCS95N8I39",
         1038660.0
        ],
        [
         "VDNTQ8D1X0JJLVRL",
         1038527.0
        ],
        [
         "O102JBUW8551Z15B",
         1032961.0
        ],
        [
         "5NT3KUST1B1JZE47",
         1029668.0
        ],
        [
         "NCSC6S6XU5TJF3VC",
         1026967.0
        ],
        [
         "P0FYH9EO5DLAIGTZ",
         1016598.0
        ],
        [
         "OK48LRD3R5D8P4FE",
         1009407.0
        ],
        [
         "NM8G114168ARV8N3",
         999844.0
        ],
        [
         "IZ1OPVRXBA4X82E2",
         999653.0
        ],
        [
         "RPTS7L1DCDGLBZBW",
         997749.0
        ],
        [
         "XJ4IL8YH0NWV2A75",
         996634.0
        ],
        [
         "W4HPG36MJPH0MUQ8",
         993162.0
        ],
        [
         "LQBLX4ZU19DA6TGC",
         993146.0
        ],
        [
         "2DO2NHI6NONVD47Z",
         991076.0
        ],
        [
         "9XAJ0RJRN7D85OC1",
         990571.0
        ],
        [
         "3QH495WG1SI67FS6",
         982893.0
        ],
        [
         "TJNVKROHQDCK6MQJ",
         976250.0
        ],
        [
         "J5UR4Z76BAVCN42W",
         973003.0
        ],
        [
         "C0B4KHFVCA8TYRSS",
         972925.0
        ],
        [
         "1N7BXY0X77FD42NR",
         963732.0
        ],
        [
         "9Y0LLMJ0HJQ93W41",
         958383.0
        ],
        [
         "TG8XOMIF4NU8CTAI",
         957485.0
        ],
        [
         "QJDVNV8HZ1Y7D3IT",
         956009.0
        ],
        [
         "6Y7D18SZ2GT01H1H",
         955658.0
        ],
        [
         "R1L07E190JQGSA42",
         955424.0
        ],
        [
         "0FL54QXVTSOYNDJS",
         953742.0
        ],
        [
         "UEDQWEMB0B2P4VDL",
         950168.0
        ],
        [
         "KFPGVY6VS8DCKOYV",
         948149.0
        ],
        [
         "HQRE2LG21W2OHCY5",
         947913.0
        ],
        [
         "8ILV3KPGZ8H3DKFP",
         941579.0
        ],
        [
         "CSNPVX9FSXE35BJ8",
         938245.0
        ],
        [
         "H15P0RJ1ELH61RHN",
         935182.0
        ],
        [
         "DR6T4931C2QPI5YZ",
         929973.0
        ],
        [
         "8MK9DLLQY61ERSM0",
         929777.0
        ],
        [
         "8IUCFO4MQN9GUWU1",
         921096.0
        ],
        [
         "IOWJ9WHVI96VZWXU",
         920255.0
        ],
        [
         "UIETYKK11LXM87N0",
         919299.0
        ],
        [
         "IC3XSL9YZWYIZV3K",
         916967.0
        ],
        [
         "8MEHSDA7H56Y9LW6",
         915702.0
        ],
        [
         "GFDPGYUQTRG0IH7I",
         899934.0
        ],
        [
         "1OIRO8MPWFVX0P6U",
         899877.0
        ],
        [
         "VQF6CZ06K0RL553N",
         881839.0
        ],
        [
         "EDM8VEDJ5Z5HLPJJ",
         874237.0
        ],
        [
         "5K9UEYSRX8WB1AIJ",
         869471.0
        ],
        [
         "YWN74WW41OHD45JC",
         868863.0
        ],
        [
         "G2AN8UUT7YT5B0FQ",
         863179.0
        ],
        [
         "SCN48Z7TZXPX3UM7",
         860548.0
        ],
        [
         "EFGBHKXAUO8N7L1X",
         852582.0
        ],
        [
         "RW4O7831F17A2YE7",
         845398.0
        ],
        [
         "HVIKSRIK1C50FH8Q",
         844230.0
        ],
        [
         "QJIPZHTA43GWVUVY",
         842705.0
        ],
        [
         "7LPYVK4W0MZ634UZ",
         840511.0
        ],
        [
         "TE7A0PDHJDD591QZ",
         837342.0
        ],
        [
         "W4XVNC000NRCKON6",
         835889.0
        ],
        [
         "VIBHIZPUCPCY1ZR8",
         828794.0
        ],
        [
         "05USHZ7BLRS3JV37",
         823624.0
        ],
        [
         "KPL0DA835AOLCOAY",
         816420.0
        ],
        [
         "TEFC4HKRBDZO6DBY",
         808191.0
        ],
        [
         "R3YNUEK6BFCR9KW6",
         806185.0
        ],
        [
         "EATNITEEQ4PN64EU",
         805265.0
        ],
        [
         "377V52VDS28SZYXO",
         805089.0
        ],
        [
         "41BV9DB69IMCFHOU",
         801637.0
        ],
        [
         "L7BDKIJ5AYSF2HEY",
         796236.0
        ],
        [
         "U3LQYCUDDSYKS4SF",
         778341.0
        ],
        [
         "WGW2T3B0SGV55B7W",
         777568.0
        ],
        [
         "6J8JXC7B82ZVFJ0E",
         777525.0
        ],
        [
         "HYKPQN29Q4FJAA0X",
         777285.0
        ],
        [
         "J8F704C816SSWJIZ",
         771444.0
        ],
        [
         "GTKO7EPYZWFFXWAA",
         770540.0
        ],
        [
         "1F2BKFV9G2BOG8I9",
         770396.0
        ],
        [
         "NOM7J6G4R20S8LCP",
         767910.0
        ],
        [
         "NZA4XJ5PTOTDWFKH",
         762148.0
        ],
        [
         "PM05ZGSVB8R6WXC4",
         758344.0
        ],
        [
         "PNMZB1NZ2SXF34I2",
         756004.0
        ],
        [
         "EGY1LPVPEKJSGXP2",
         754864.0
        ],
        [
         "4ODGD652E0SUHS7U",
         751230.0
        ],
        [
         "1JPSZ91MTJDKD8DX",
         743802.0
        ],
        [
         "VS9NTDY7ZBQ6IOFX",
         741846.0
        ],
        [
         "PGW4E986QMKQYKWD",
         739510.0
        ],
        [
         "VGDZULI86OH6499M",
         733122.0
        ],
        [
         "DVV5GLHWKUGPZO95",
         727267.0
        ],
        [
         "TD5ZWI6125ADYEU1",
         721694.0
        ],
        [
         "79B3H7ALTV91JHYR",
         717372.0
        ],
        [
         "6361H2FRWL1QYC3V",
         711962.0
        ],
        [
         "7BN407CC0K2FAOA7",
         709933.0
        ],
        [
         "TUCNKRONBF8R7T9I",
         707811.0
        ],
        [
         "GK0FO75LDHB17OWK",
         701054.0
        ],
        [
         "8GJR4EYX7Y1JQ3D0",
         699606.0
        ],
        [
         "DWMHQNCYGSM5J21I",
         699130.0
        ],
        [
         "VLCM6VXZBQALUI1N",
         697423.0
        ],
        [
         "YF1PO5Q7AZ2R0S2Q",
         684904.0
        ],
        [
         "YI5HUMHIFZ4B9485",
         684855.0
        ],
        [
         "GPKWZWUFJD6DI5LY",
         684188.0
        ],
        [
         "GWMN1HYJFKZBL22N",
         681497.0
        ],
        [
         "JWEWV9HTDJDQI8OX",
         675985.0
        ],
        [
         "K456TNPTC6PBDEQU",
         671916.0
        ],
        [
         "OF1RAK0LZKIVTRU9",
         667038.0
        ],
        [
         "PIJR7ZNFBDHCN25Y",
         665554.0
        ],
        [
         "5MQHHH8RG8Z6SMWA",
         662584.0
        ],
        [
         "FF5OSXCHXG8ZALYW",
         662066.0
        ],
        [
         "B4KSS6Q1K8UJROPH",
         661034.0
        ],
        [
         "Y0549M7UMYA7OZ15",
         650811.0
        ],
        [
         "SUF59WP7YSXSGFQV",
         650561.0
        ],
        [
         "QK0IAE9F04E5EC6U",
         648974.0
        ],
        [
         "DM6KIIRT8RME4B2J",
         646061.0
        ],
        [
         "HS5VOIA0GK4PESWH",
         644058.0
        ],
        [
         "CYTED5LCYZO8XVY2",
         643727.0
        ],
        [
         "C3SK9SC6XW0XTAT9",
         640610.0
        ],
        [
         "ZL3E62J5VX1LB5KM",
         639450.0
        ],
        [
         "PUEODHWAR7PERPWP",
         639220.0
        ],
        [
         "BWXYGRRXC3XTX2N5",
         638370.0
        ],
        [
         "83JNEC1J1QBLXJJ8",
         627276.0
        ],
        [
         "XKO58UE8J5784EY9",
         622199.0
        ],
        [
         "NCF6KHW4B1J07EB3",
         617737.0
        ],
        [
         "7WF243MDZ3EJ05PT",
         617232.0
        ],
        [
         "MNFZUBMFYQ84RT48",
         613967.0
        ],
        [
         "NRFOJOMULJEK3A0K",
         606827.0
        ],
        [
         "NBOXWC42D4R7IQDP",
         605298.0
        ],
        [
         "SKPB6VR0IGFPYY84",
         599685.0
        ],
        [
         "HK0EI7ZEJ4IS8G3G",
         595822.0
        ],
        [
         "ITBLG2WMC9XQ4MPC",
         594803.0
        ],
        [
         "GQZEZ8RKPNQNPFJX",
         588454.0
        ],
        [
         "SQ77YG3RXI5VCJX7",
         583511.0
        ],
        [
         "F5IFM18BIWIVXRQL",
         577532.0
        ],
        [
         "6P82RT7K5IEOT4CE",
         576703.0
        ],
        [
         "IW8Y3KTUW1DGFCW8",
         567768.0
        ],
        [
         "GUQ7ISRIT7FNRVTE",
         560651.0
        ],
        [
         "71OTKEXHL8NNOPMV",
         555164.0
        ],
        [
         "5CLUUTR787ATGTTS",
         553285.0
        ],
        [
         "C02C4L578FSOCTJF",
         546892.0
        ],
        [
         "9LUFFNQ919WZ2K3J",
         546266.0
        ],
        [
         "FSZ8O9CRPM3ZX466",
         541200.0
        ],
        [
         "7ZANOLGQK6GS8M6K",
         538817.0
        ],
        [
         "7GQPEPCIM7OYB0QI",
         536482.0
        ],
        [
         "EG7L6ZBFW7Z45RCJ",
         533104.0
        ],
        [
         "WKFRFUK0PFCBS8MX",
         531079.0
        ],
        [
         "W2J74U3P18UNBEGG",
         530680.0
        ],
        [
         "P5P919IQ25SK0K5Q",
         530662.0
        ],
        [
         "2V1C245SQXPVHR61",
         528455.0
        ],
        [
         "GQ6VCRVEYO76RBC0",
         527596.0
        ],
        [
         "Y28636M1R9R5XTH5",
         524257.0
        ],
        [
         "6IK38WFC49MG16RU",
         507894.0
        ],
        [
         "O2RRWUS6VNW9YP4W",
         505586.0
        ],
        [
         "S41ZBP642YGJ1QTP",
         505511.0
        ],
        [
         "XVAXFSZ1DE902UEZ",
         504952.0
        ],
        [
         "7ZVNZK5TZBJ1MFHN",
         496042.0
        ],
        [
         "GPWF5NSERAO3QX1R",
         494077.0
        ],
        [
         "IACRWDMI9XK13SFZ",
         489742.0
        ],
        [
         "7KAO0NOD1UI6EBYV",
         489123.0
        ],
        [
         "7KTI2FN875JPUOTF",
         484866.0
        ],
        [
         "NRQYHMKFFK5QQP9L",
         483654.0
        ],
        [
         "EYW39TK75XM080ER",
         482321.0
        ],
        [
         "ZLCAGMEO4AO1IRGB",
         477963.0
        ],
        [
         "A1XZFS0Y40YRW07D",
         474095.0
        ],
        [
         "I1MSLJ9CJ6BBCCTU",
         472883.0
        ],
        [
         "QLSJNJC8YLLYZ2V2",
         471068.0
        ],
        [
         "A1FEVBMBV2Q586RQ",
         462178.0
        ],
        [
         "59YY1J8OEMNW861Z",
         455696.0
        ],
        [
         "JIGPM4SBA4N2AKYY",
         452668.0
        ],
        [
         "G9T8KNQF8XD2XHTS",
         449998.0
        ],
        [
         "7QSMK0EAF3SUWBEY",
         447015.0
        ],
        [
         "ZTMXAVX1AI5W5DSR",
         434649.0
        ],
        [
         "Z6XRAAGPHX7QCK38",
         429843.0
        ],
        [
         "M2YJGYYBAH1ZTMVZ",
         418733.0
        ],
        [
         "7UYAH2XKIHHSPCAJ",
         415248.0
        ],
        [
         "BQKNQZ2T8LHETQUJ",
         406175.0
        ],
        [
         "IQ3SRYS7N7G5DKSN",
         405123.0
        ],
        [
         "5Z8LI3J3KJBRP410",
         392306.0
        ],
        [
         "5KR9L0UI8WIZSAVK",
         390607.0
        ],
        [
         "R460ZA3J4HKNKPQ8",
         390141.0
        ],
        [
         "JVZXZATGUVHSWUQW",
         390071.0
        ],
        [
         "RST95V5R2BF4DX43",
         384571.0
        ],
        [
         "OHN5V8NAJC910BYH",
         381509.0
        ],
        [
         "IRF3D60TYZEJUAOS",
         373727.0
        ],
        [
         "YEW0KJFJYEAY6820",
         373649.0
        ],
        [
         "C5QMSZTP07AO93ZR",
         368843.0
        ],
        [
         "TF3YD6TJQ32T2AEU",
         366947.0
        ],
        [
         "N5EGOHDKYSWFRYSP",
         362901.0
        ],
        [
         "PN36EV9TH88MUP9J",
         362594.0
        ],
        [
         "OE7AU8IQ7MXSYQO8",
         362428.0
        ],
        [
         "S8ESJ4C56BV8LFSF",
         352420.0
        ],
        [
         "5HHTNZMS7IKXZ4JN",
         349721.0
        ],
        [
         "SXX66MA06B8C6LSI",
         349407.0
        ],
        [
         "UJ6853X3W2WTCYVG",
         343384.0
        ],
        [
         "16394VUI1CX8GJRY",
         333792.0
        ],
        [
         "6NJQVBPBVY4598C6",
         332861.0
        ],
        [
         "HJ59KA0WQW9XAK5F",
         332553.0
        ],
        [
         "9KWX0RG2K55XPOLA",
         332212.0
        ],
        [
         "O4C9CE3BBXVB69CP",
         325312.0
        ],
        [
         "88XQPPX4DC2RLM97",
         320478.0
        ],
        [
         "BEMYAR2FXZ6YO2IV",
         311545.0
        ],
        [
         "LSLB91X9EV671OMJ",
         308334.0
        ],
        [
         "JM0M91Z2SDFTRC50",
         306472.0
        ],
        [
         "LIGHVXL491IQHZAL",
         306385.0
        ],
        [
         "67UBBLGZ364RX7EW",
         303684.0
        ],
        [
         "U68WPHV8BRAGG11K",
         302309.0
        ],
        [
         "TA7T3TSTJESE8Y3X",
         300663.0
        ],
        [
         "CRWYQ6AAKVQNRDNR",
         298904.0
        ],
        [
         "3UAB0PYND1WCZVZO",
         298070.0
        ],
        [
         "QO24Z5D8MBYBHHFK",
         294941.0
        ],
        [
         "0I2LS16GXWLOSOSZ",
         294837.0
        ],
        [
         "VLSE4Y2B14J0IR57",
         290965.0
        ],
        [
         "VQ59VHGZZ0J5TYE9",
         288950.0
        ],
        [
         "NIW73ZQMGEOB7BHT",
         281531.0
        ],
        [
         "P4JUSTIV94U997CD",
         280183.0
        ],
        [
         "LILCCDLUPJO47EU1",
         265058.0
        ],
        [
         "GUQG3Q0Z9NXFINAP",
         264388.0
        ],
        [
         "74XXKN7N16WVZECF",
         264193.0
        ],
        [
         "F3JUZDE6ZFS5SCU3",
         254902.0
        ],
        [
         "QRS1A8BD9MEHI21Q",
         250059.0
        ],
        [
         "QDPIZZ7Y3A0SMYA9",
         249233.0
        ],
        [
         "ZK5GD1YUPAVE0XFA",
         247298.0
        ],
        [
         "6KECDN798JVVVSFV",
         234164.0
        ],
        [
         "K2LYAJJMMJOPUKWU",
         232180.0
        ],
        [
         "0BPH07PETEFAHT1X",
         231485.0
        ],
        [
         "9BE40KF3LA57WP76",
         226163.0
        ],
        [
         "Y8JZ2UPRVN1E0OVM",
         225533.0
        ],
        [
         "0Y1DFDXEF9NTZE4R",
         225339.0
        ],
        [
         "326PG98FZEDUMLPF",
         223242.0
        ],
        [
         "MIMR1A8F28QKZ4YF",
         221556.0
        ],
        [
         "UQCZS3FKR22YIMGN",
         218405.0
        ],
        [
         "Q1Z20DTQGRGQ4D4N",
         218197.0
        ],
        [
         "J8FC92WVD34JQXQR",
         214510.0
        ],
        [
         "AGDXX3RQGLDDSMOK",
         208717.0
        ],
        [
         "WM6NROCVJSAUMHR0",
         207594.0
        ],
        [
         "2L535SCD0F09XJUY",
         207161.0
        ],
        [
         "5V2CEW0MI2S4QXCJ",
         203445.0
        ],
        [
         "371AXDDB6M3VLKDB",
         192267.0
        ],
        [
         "NE8FDXC9N9IS1V58",
         191534.0
        ],
        [
         "KF9TMX2DRGMEC96B",
         182997.0
        ],
        [
         "HJRTSRADZBOPZQ6P",
         182075.0
        ],
        [
         "EJ4X7J85CMNEZ6UH",
         171098.0
        ],
        [
         "Q9890AFSIJO9VGNM",
         164909.0
        ],
        [
         "C87P1MQ2JY3S1VNH",
         161249.0
        ],
        [
         "QK029II3LJ3358ZI",
         157043.0
        ],
        [
         "CL7KIHFE85QBJ82S",
         155995.0
        ],
        [
         "3R0YZJ3PWWV3WW4R",
         152845.0
        ],
        [
         "Z8BL2NLL9ZX0P7T4",
         151181.0
        ],
        [
         "1JOHIAOL9TVUWV79",
         151138.0
        ],
        [
         "9BZN7UEU8FOF4YX2",
         140433.0
        ],
        [
         "2VAB3N7ABN0MAZCU",
         125497.0
        ],
        [
         "PO9RCK4W4P7192J6",
         120686.0
        ],
        [
         "UT1GV3SUZW1ELWS4",
         119211.0
        ],
        [
         "8Y27SDUXMJD4DERT",
         115168.0
        ],
        [
         "8Z8FQ5CLNMB7R46C",
         114620.0
        ],
        [
         "V1SXUAZAUPLWU32F",
         114378.0
        ],
        [
         "GLQV334POH4REUMS",
         111025.0
        ],
        [
         "P4K0E7JHKAPYJ794",
         110417.0
        ],
        [
         "55WNKA07N1U4HG2D",
         108736.0
        ],
        [
         "RTOI27UIWUTVAPZR",
         102364.0
        ],
        [
         "RWCRJF07AOZU9HJ2",
         101755.0
        ],
        [
         "SNS2CHVE8ZGEJ3LF",
         100774.0
        ],
        [
         "71FZQP2XREON07P5",
         97879.0
        ],
        [
         "PPWBEBL3Q67R7OU9",
         95885.0
        ],
        [
         "YD601FMY7LBMUJJD",
         93252.0
        ],
        [
         "HAYY3B6LDDG7S526",
         90489.0
        ],
        [
         "NRUDT64BMWJE3VQT",
         89540.0
        ],
        [
         "UPH9HE8Z5UCJE64P",
         89149.0
        ],
        [
         "8CRRO6WZUSV5ZDHF",
         88269.0
        ],
        [
         "Z2P89UVPHPZEUPFF",
         68009.0
        ]
       ],
       "datasetInfos": [],
       "dbfsResultPath": null,
       "isJsonSchema": true,
       "metadata": {},
       "overflow": false,
       "plotOptions": {
        "customPlotOptions": {},
        "displayType": "table",
        "pivotAggregation": null,
        "pivotColumns": null,
        "xColumns": null,
        "yColumns": null
       },
       "removedWidgets": [],
       "schema": [
        {
         "metadata": "{}",
         "name": "Sales Rep Id",
         "type": "\"string\""
        },
        {
         "metadata": "{}",
         "name": "total_revenue",
         "type": "\"double\""
        }
       ],
       "type": "table"
      }
     },
     "output_type": "display_data"
    },
    {
     "output_type": "display_data",
     "data": {
      "text/plain": [
       "Databricks visualization. Run in Databricks to view."
      ]
     },
     "metadata": {
      "application/vnd.databricks.v1.subcommand+json": {
       "baseErrorDetails": null,
       "bindings": {},
       "collapsed": false,
       "command": "%sql WITH q AS (SELECT DISTINCT s.`Sales Rep Id`, SUM(o.`Order Value`) AS total_revenue FROM salesteam_1_csv s\nJOIN orderleads_1_csv o \nON s.`Company Id` = o.`Company Id`\nGROUP BY s.`Sales Rep Id`\nORDER BY total_revenue DESC) SELECT `Sales Rep Id`,SUM(`total_revenue`) `column_cfa559a836`,`Sales Rep Id` FROM q GROUP BY `Sales Rep Id`",
       "commandTitle": "Visualization 1",
       "commandType": "auto",
       "commandVersion": 0,
       "commentThread": [],
       "commentsVisible": false,
       "contentSha256Hex": null,
       "customPlotOptions": {
        "redashChart": [
         {
          "key": "type",
          "value": "CHART"
         },
         {
          "key": "options",
          "value": {
           "alignYAxesAtZero": true,
           "coefficient": 1,
           "columnConfigurationMap": {
            "series": {
             "column": "Sales Rep Id",
             "id": "column_cfa559a839"
            },
            "x": {
             "column": "Sales Rep Id",
             "id": "column_cfa559a834"
            },
            "y": [
             {
              "column": "total_revenue",
              "id": "column_cfa559a836",
              "transform": "SUM"
             }
            ]
           },
           "dateTimeFormat": "DD/MM/YYYY HH:mm",
           "direction": {
            "type": "counterclockwise"
           },
           "error_y": {
            "type": "data",
            "visible": true
           },
           "globalSeriesType": "area",
           "isAggregationOn": true,
           "legend": {
            "traceorder": "normal"
           },
           "missingValuesAsZero": true,
           "numberFormat": "0,0.[00000]",
           "percentFormat": "0[.]00%",
           "series": {
            "error_y": {
             "type": "data",
             "visible": true
            },
            "stacking": null
           },
           "seriesOptions": {
            "column_cfa559a836": {
             "type": "area",
             "yAxis": 0
            }
           },
           "showDataLabels": false,
           "sizemode": "diameter",
           "sortX": true,
           "sortY": true,
           "swappedAxes": false,
           "textFormat": "",
           "useAggregationsUi": true,
           "valuesOptions": {},
           "version": 2,
           "xAxis": {
            "labels": {
             "enabled": true
            },
            "type": "-"
           },
           "yAxis": [
            {
             "type": "-"
            },
            {
             "opposite": true,
             "type": "-"
            }
           ]
          }
         }
        ]
       },
       "datasetPreviewNameToCmdIdMap": {},
       "diffDeletes": [],
       "diffInserts": [],
       "displayType": "redashChart",
       "error": null,
       "errorDetails": null,
       "errorSummary": null,
       "errorTraceType": null,
       "finishTime": 0,
       "globalVars": {},
       "guid": "",
       "height": "auto",
       "hideCommandCode": false,
       "hideCommandResult": false,
       "iPythonMetadata": null,
       "inputWidgets": {},
       "isLockedInExamMode": false,
       "latestUser": "a user",
       "latestUserId": null,
       "listResultMetadata": null,
       "metadata": {},
       "nuid": "e2e53967-9789-4b65-88d5-b4a6454672b5",
       "origId": 0,
       "parentHierarchy": [],
       "pivotAggregation": null,
       "pivotColumns": null,
       "position": 110.0,
       "resultDbfsErrorMessage": null,
       "resultDbfsStatus": "INLINED_IN_TREE",
       "results": null,
       "showCommandTitle": false,
       "startTime": 0,
       "state": "input",
       "streamStates": {},
       "subcommandOptions": {
        "queryPlan": {
         "groups": [
          {
           "column": "Sales Rep Id",
           "type": "column"
          },
          {
           "column": "Sales Rep Id",
           "type": "column"
          }
         ],
         "selects": [
          {
           "column": "Sales Rep Id",
           "type": "column"
          },
          {
           "alias": "column_cfa559a836",
           "args": [
            {
             "column": "total_revenue",
             "type": "column"
            }
           ],
           "function": "SUM",
           "type": "function"
          },
          {
           "column": "Sales Rep Id",
           "type": "column"
          }
         ]
        }
       },
       "submitTime": 0,
       "subtype": "tableResultSubCmd.visualization",
       "tableResultIndex": 0,
       "tableResultSettingsMap": {},
       "useConsistentColors": false,
       "version": "CommandV1",
       "width": "auto",
       "workflows": [],
       "xColumns": null,
       "yColumns": null
      }
     },
     "output_type": "display_data"
    }
   ],
   "source": [
    "%sql\n",
    "-- 8. Monthly of Sales rep based on revenue generated \n",
    "SELECT DISTINCT s.`Sales Rep Id`, SUM(o.`Order Value`) AS total_revenue FROM salesteam_2_csv s\n",
    "JOIN orderleads_2_csv o \n",
    "ON s.`Company Id` = o.`Company Id`\n",
    "GROUP BY s.`Sales Rep Id`\n",
    "ORDER BY total_revenue DESC;"
   ]
  }
 ],
 "metadata": {
  "application/vnd.databricks.v1+notebook": {
   "computePreferences": null,
   "dashboards": [],
   "environmentMetadata": null,
   "language": "python",
   "notebookMetadata": {
    "pythonIndentUnit": 4
   },
   "notebookName": "operations on imported dataset",
   "widgets": {}
  }
 },
 "nbformat": 4,
 "nbformat_minor": 0
}
